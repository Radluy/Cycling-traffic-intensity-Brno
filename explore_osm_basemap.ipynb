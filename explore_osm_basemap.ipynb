{
 "cells": [
  {
   "cell_type": "code",
   "execution_count": 1,
   "metadata": {
    "pycharm": {
     "name": "#%%\n"
    }
   },
   "outputs": [],
   "source": [
    "import pyrosm\n",
    "# import geopandas as gpd"
   ]
  },
  {
   "cell_type": "code",
   "execution_count": 2,
   "metadata": {
    "pycharm": {
     "name": "#%%\n"
    }
   },
   "outputs": [],
   "source": [
    "bbox = [16.3837, 49.0946, 16.9227, 49.2884]  # [minx, miny, maxx, maxy]\n",
    "pyrom = pyrosm.OSM('datasets/czech_republic-latest.osm.pbf', bounding_box=bbox)"
   ]
  },
  {
   "cell_type": "code",
   "execution_count": 3,
   "metadata": {
    "pycharm": {
     "name": "#%%\n"
    }
   },
   "outputs": [
    {
     "data": {
      "text/plain": "'{\"type\": \"FeatureCollection\", \"features\": [{\"id\": \"23843\", \"type\": \"Feature\", \"properties\": {}, \"geometry\": {\"type\": \"MultiLineString\", \"coordinates\": [[[16.5957161, 49.1926723], [16.5955419, 49.1931991]], [[16.5955419, 49.1931991], [16.5954361, 49.1934871]], [[16.5954361, 49.1934871], [16.5948676, 49.1950356]], [[16.5948676, 49.1950356], [16.5946285, 49.1956868]]]}, \"bbox\": [16.5946285, 49.1926723, 16.5957161, 49.1956868]}], \"bbox\": [16.5946285, 49.1926723, 16.5957161, 49.1956868]}'"
     },
     "execution_count": 3,
     "metadata": {},
     "output_type": "execute_result"
    }
   ],
   "source": [
    "# gdf = pyrom.get_network('cycling')\n",
    "network = pyrom.get_network()\n",
    "random_way = network[network['id']==221042203]\n",
    "geo = random_way['geometry'].to_json()\n",
    "geo"
   ]
  },
  {
   "cell_type": "code",
   "execution_count": 3,
   "outputs": [],
   "source": [],
   "metadata": {
    "collapsed": false,
    "pycharm": {
     "name": "#%%\n"
    }
   }
  }
 ],
 "metadata": {
  "kernelspec": {
   "display_name": "Python 3.9.9 ('venv': venv)",
   "language": "python",
   "name": "python3"
  },
  "language_info": {
   "codemirror_mode": {
    "name": "ipython",
    "version": 3
   },
   "file_extension": ".py",
   "mimetype": "text/x-python",
   "name": "python",
   "nbconvert_exporter": "python",
   "pygments_lexer": "ipython3",
   "version": "3.9.9"
  },
  "orig_nbformat": 4,
  "vscode": {
   "interpreter": {
    "hash": "b70e8dda98b57a1704ff2cdbe88254b650ad93a6c7c84bd1f3562732adaa6cb9"
   }
  }
 },
 "nbformat": 4,
 "nbformat_minor": 2
}