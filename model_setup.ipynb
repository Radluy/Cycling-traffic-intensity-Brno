{
 "cells": [
  {
   "cell_type": "code",
   "execution_count": 12,
   "metadata": {
    "collapsed": true,
    "pycharm": {
     "name": "#%%\n"
    }
   },
   "outputs": [],
   "source": [
    "import pyrosm\n",
    "import geopandas as gpd\n",
    "import pandas as pd\n",
    "import numpy as np\n",
    "#import seaborn as sns\n",
    "#from matplotlib import pyplot as plt\n",
    "import contextily as cx\n",
    "import gc\n",
    "import utils"
   ]
  },
  {
   "cell_type": "code",
   "execution_count": null,
   "outputs": [],
   "source": [
    "# load openstreetmap basemap\n",
    "# https://www.openstreetmap.org/export - boundingbox setup\n",
    "bbox = [16.3837, 49.0946, 16.9227, 49.2884]  # [minx, miny, maxx, maxy]\n",
    "pbf_reader = pyrosm.OSM('datasets/czech_republic-latest.osm.pbf', bounding_box=bbox)\n",
    "cycling_network = pbf_reader.get_network('cycling')\n",
    "driving_network = pbf_reader.get_network('driving')\n",
    "basemap_network = driving_network.append(cycling_network)\n",
    "del cycling_network\n",
    "del driving_network\n",
    "gc.collect()\n",
    "\n",
    "# load strava data\n",
    "strava_df = pd.read_csv('datasets/strava_edges_2021.csv')\n",
    "# load bike-to-work data\n",
    "biketowork_df = gpd.read_file('datasets/do_prace_na_kole.geojson')\n",
    "# load mechanical counters data\n",
    "counters_df = gpd.read_file('datasets/cyklodetektory.geojson')\n",
    "# load driving census data\n",
    "census_df = pd.read_excel('datasets/rsd_scitanie_dopravy_2020.xlsx', skiprows=[0])"
   ],
   "metadata": {
    "collapsed": false,
    "pycharm": {
     "name": "#%%\n"
    }
   }
  },
  {
   "cell_type": "code",
   "execution_count": null,
   "outputs": [],
   "source": [
    "# drop unnecessary columns - speedup\n",
    "strava_df = strava_df.drop([\n",
    "    'forward_morning_trip_count',\n",
    "    'reverse_morning_trip_count',\n",
    "    'forward_evening_trip_count',\n",
    "    'reverse_evening_trip_count',\n",
    "    'forward_male_people_count',\n",
    "    'reverse_male_people_count',\n",
    "    'forward_female_people_count',\n",
    "    'reverse_female_people_count',\n",
    "    'forward_unspecified_people_count',\n",
    "    'reverse_unspecified_people_count',\n",
    "    'forward_13_19_people_count',\n",
    "    'reverse_13_19_people_count',\n",
    "    'forward_20_34_people_count',\n",
    "    'reverse_20_34_people_count',\n",
    "    'forward_35_54_people_count',\n",
    "    'reverse_35_54_people_count',\n",
    "    'forward_55_64_people_count',\n",
    "    'reverse_55_64_people_count',\n",
    "    'forward_65_plus_people_count',\n",
    "    'reverse_65_plus_people_count',\n",
    "    'activity_type',\n",
    "    'year'\n",
    "], axis=1)\n",
    "# drop from counters\n",
    "counters_df = counters_df.drop([\n",
    "    'ID',\n",
    "    'FirstDirection_Name',\n",
    "    'FirstDirection_Pedestrians',\n",
    "    'FirstDirection_Total',\n",
    "    'SecondDirection_Name',\n",
    "    'SecondDirection_Pedestrians',\n",
    "    'SecondDirection_Total',\n",
    "    'LocationId',\n",
    "    'Latitude',\n",
    "    'Longitude',\n",
    "], axis=1)\n",
    "counters_df\n",
    "\n",
    "census_df = census_df[census_df['NÁZEV_MĚSTA'] == 'Brno']"
   ],
   "metadata": {
    "collapsed": false,
    "pycharm": {
     "name": "#%%\n"
    }
   }
  },
  {
   "cell_type": "code",
   "execution_count": null,
   "outputs": [],
   "source": [
    "print(basemap_network.shape)\n",
    "print(strava_df.shape)"
   ],
   "metadata": {
    "collapsed": false,
    "pycharm": {
     "name": "#%%\n"
    }
   }
  },
  {
   "cell_type": "markdown",
   "source": [
    "## Match strava data to OSM basemap"
   ],
   "metadata": {
    "collapsed": false,
    "pycharm": {
     "name": "#%% md\n"
    }
   }
  },
  {
   "cell_type": "code",
   "execution_count": null,
   "outputs": [],
   "source": [
    "# create model from basemap and strava data\n",
    "model = strava_df.join(basemap_network.set_index('id'), on='osm_reference_id', how='inner')\n",
    "del basemap_network\n",
    "del strava_df\n",
    "gc.collect()\n",
    "model = model.drop_duplicates()\n",
    "# https://www.openstreetmap.org/way/{id}\n",
    "print(model.shape)\n",
    "model.head()"
   ],
   "metadata": {
    "collapsed": false,
    "pycharm": {
     "name": "#%%\n"
    }
   }
  },
  {
   "cell_type": "markdown",
   "source": [
    "## Match mechanical counters to basemap"
   ],
   "metadata": {
    "collapsed": false,
    "pycharm": {
     "name": "#%% md\n"
    }
   }
  },
  {
   "cell_type": "code",
   "execution_count": null,
   "outputs": [],
   "source": [
    "# load distances between ways and mechanical counter units\n",
    "counters = counters_df['geometry'].unique()\n",
    "for i, item in enumerate(counters):\n",
    "    # within <- exact match fails (needs threshold), better to use distance\n",
    "    model[f'distance{i}'] = model['geometry'].apply(lambda x: x.distance(item))\n",
    "\n",
    "counter_units = []\n",
    "for counter_geo in counters:\n",
    "    counter_units.append(counters_df[counters_df['geometry']==counter_geo]['UnitName'].unique()[0])\n",
    "\n",
    "model.head()"
   ],
   "metadata": {
    "collapsed": false,
    "pycharm": {
     "name": "#%%\n"
    }
   }
  },
  {
   "cell_type": "code",
   "execution_count": null,
   "outputs": [],
   "source": [
    "# check if counter street was found (OPTIONAL)\n",
    "for i in range(len(counters)):\n",
    "    print(f'Counter #{i}: ({counters_df[counters_df[\"geometry\"]==counters[i]][\"UnitName\"].unique()[0]})')\n",
    "    print(f'Lon: {counters[i].x}\\nLat: {counters[i].y}')\n",
    "    print(f'Closest way: {model[model[f\"distance{i}\"]==model[f\"distance{i}\"].min()][\"osm_reference_id\"].values}')"
   ],
   "metadata": {
    "collapsed": false,
    "pycharm": {
     "name": "#%%\n"
    }
   }
  },
  {
   "cell_type": "code",
   "execution_count": null,
   "outputs": [],
   "source": [
    "# draw and save edges matched to counters\n",
    "#fig = plt.figure(figsize=[20, 20], dpi=800)\n",
    "#ax = plt.axes()\n",
    "#fig.add_axes(ax)\n",
    "unit_way_dict = {}\n",
    "for i in range(len(counters)):\n",
    "    min_dist = model[model[f\"distance{i}\"]==model[f\"distance{i}\"].min()]\n",
    "    counter_matches = min_dist['geometry']\n",
    "    geoser = gpd.GeoSeries(counter_matches)\n",
    "    #geoser.plot(ax=ax)\n",
    "    json_str = geoser.to_json()\n",
    "    unit_way_dict[counter_units[i]] = min_dist['osm_reference_id'].unique()[0]\n",
    "    #with open(f'counters_matching/counter{i}_matches.geojson', 'w+') as f:\n",
    "    #    f.write(json_str)\n",
    "# append edges to counters_df\n",
    "counters_df['way_id'] = counters_df['UnitName'].map(unit_way_dict)\n",
    "#counters_df.plot(ax=ax)\n",
    "#cx.add_basemap(ax, crs=counters_df.crs, zoom=12)\n",
    "#with open(f'counters_matching/counters.geojson', 'w+') as f:\n",
    "#    f.write(gpd.GeoSeries(counters).to_json())\n",
    "\n",
    "for i in range(len(counters)):\n",
    "    model = model.drop([f'distance{i}'], axis=1)\n",
    "counters_df.head()"
   ],
   "metadata": {
    "collapsed": false,
    "pycharm": {
     "name": "#%%\n"
    }
   }
  },
  {
   "cell_type": "code",
   "execution_count": null,
   "outputs": [],
   "source": [
    "counters_df.to_file('counters_matched.geojson', driver=\"GeoJSON\")"
   ],
   "metadata": {
    "collapsed": false,
    "pycharm": {
     "name": "#%%\n"
    }
   }
  },
  {
   "cell_type": "code",
   "execution_count": null,
   "outputs": [],
   "source": [
    "# save final model\n",
    "model.to_csv('model.csv', sep=';')\n",
    "gpd.GeoDataFrame(model).to_file('model.geojson', driver=\"GeoJSON\")"
   ],
   "metadata": {
    "collapsed": false,
    "pycharm": {
     "name": "#%%\n"
    }
   }
  },
  {
   "cell_type": "code",
   "execution_count": null,
   "outputs": [],
   "source": [
    "model.to_pickle('model.pkl')"
   ],
   "metadata": {
    "collapsed": false,
    "pycharm": {
     "name": "#%%\n"
    }
   }
  },
  {
   "cell_type": "markdown",
   "source": [
    "### From this point load model from pickle to skip setup"
   ],
   "metadata": {
    "collapsed": false,
    "pycharm": {
     "name": "#%% md\n"
    }
   }
  },
  {
   "cell_type": "code",
   "execution_count": 35,
   "outputs": [],
   "source": [
    "model = pd.read_pickle('model.pkl')"
   ],
   "metadata": {
    "collapsed": false,
    "pycharm": {
     "name": "#%%\n"
    }
   }
  },
  {
   "cell_type": "code",
   "execution_count": 36,
   "outputs": [
    {
     "name": "stderr",
     "output_type": "stream",
     "text": [
      "/tmp/ipykernel_26736/706342565.py:2: SettingWithCopyWarning: \n",
      "A value is trying to be set on a copy of a slice from a DataFrame.\n",
      "Try using .loc[row_indexer,col_indexer] = value instead\n",
      "\n",
      "See the caveats in the documentation: https://pandas.pydata.org/pandas-docs/stable/user_guide/indexing.html#returning-a-view-versus-a-copy\n",
      "  model_shrink['biketowork_gid'] = np.empty((len(model_shrink), 0)).tolist() # pd.Series([[] for _ in range(len(model_shrink))])\n"
     ]
    }
   ],
   "source": [
    "model_shrink = model.drop_duplicates(subset='osm_reference_id')\n",
    "model_shrink['biketowork_gid'] = np.empty((len(model_shrink), 0)).tolist() # pd.Series([[] for _ in range(len(model_shrink))])\n",
    "biketowork_df = gpd.read_file('datasets/do_prace_na_kole.geojson')\n",
    "biketowork_shrink = biketowork_df.drop_duplicates(subset='GID_ROAD')"
   ],
   "metadata": {
    "collapsed": false,
    "pycharm": {
     "name": "#%%\n"
    }
   }
  },
  {
   "cell_type": "markdown",
   "source": [
    "## Match model OSM basemap to biketowork ways\n",
    "### (brute force N:N matching - VERY SLOW)"
   ],
   "metadata": {
    "collapsed": false,
    "pycharm": {
     "name": "#%% md\n"
    }
   }
  },
  {
   "cell_type": "code",
   "execution_count": null,
   "outputs": [],
   "source": [
    "for index, row in biketowork_df.iterrows():\n",
    "    model_shrink['biketowork_gid'] = model_shrink.apply(lambda x: utils.assign_overlap(row, x['geometry'], x['biketowork_gid'], row['GID_ROAD']),\n",
    "                                                        axis=1,)"
   ],
   "metadata": {
    "collapsed": false,
    "pycharm": {
     "name": "#%%\n"
    }
   }
  },
  {
   "cell_type": "code",
   "execution_count": null,
   "outputs": [],
   "source": [
    "# osm=94635449 gid=224682\n",
    "# osm=5606151 gid=224865  # NERUDOVA\n",
    "# osm=8134289 gid=[224865.0]\n",
    "# osm=33265238 gid=[224868.0]\n",
    "model_shrink.to_csv('model_with_dpnk.csv', sep=';')\n",
    "gpd.GeoDataFrame(model_shrink).to_file('model_with_dpnk.geojson', driver=\"GeoJSON\")\n",
    "model_shrink[['biketowork_gid', 'osm_reference_id']]"
   ],
   "metadata": {
    "collapsed": false,
    "pycharm": {
     "name": "#%%\n"
    }
   }
  },
  {
   "cell_type": "markdown",
   "source": [
    "## Create map segment matrix"
   ],
   "metadata": {
    "collapsed": false,
    "pycharm": {
     "name": "#%% md\n"
    }
   }
  },
  {
   "cell_type": "code",
   "execution_count": 37,
   "outputs": [],
   "source": [
    "from itertools import pairwise\n",
    "\n",
    "def generate_segments(bbox, num_of_segments):\n",
    "    # X Segments\n",
    "    degree_width = bbox[2] - bbox[0]\n",
    "    segment_width = degree_width / num_of_segments\n",
    "    start_minx = bbox[0]\n",
    "    segment_mins_x = [start_minx + (segment_width*n) for n in range(NUM_OF_SEGMENTS+1)]\n",
    "    # Y segments\n",
    "    degree_height = bbox[3] - bbox[1]\n",
    "    segment_heigth = degree_height / num_of_segments\n",
    "    start_miny = bbox[1]\n",
    "    segment_mins_y = [start_miny + (segment_heigth*n) for n in range(NUM_OF_SEGMENTS+1)]\n",
    "\n",
    "    # create segment matrix\n",
    "    segments_matrix = []\n",
    "    y_pairs = pairwise(segment_mins_y)\n",
    "    for y_limits in y_pairs:\n",
    "        x_pairs = pairwise(segment_mins_x)\n",
    "        for x_limits in x_pairs:\n",
    "            segments_matrix.append((x_limits[0], y_limits[0], x_limits[1], y_limits[1]))\n",
    "\n",
    "    return segments_matrix\n",
    "\n",
    "bbox = (16.3837, 49.0946, 16.9227, 49.2884)  # [minx, miny, maxx, maxy]\n",
    "NUM_OF_SEGMENTS = 20\n",
    "segments_matrix = generate_segments(bbox, NUM_OF_SEGMENTS)"
   ],
   "metadata": {
    "collapsed": false,
    "pycharm": {
     "name": "#%%\n"
    }
   }
  },
  {
   "cell_type": "markdown",
   "source": [
    "## Match model street to segment"
   ],
   "metadata": {
    "collapsed": false,
    "pycharm": {
     "name": "#%% md\n"
    }
   }
  },
  {
   "cell_type": "code",
   "execution_count": 38,
   "outputs": [],
   "source": [
    "def is_in_segment(row_bbox, segment):\n",
    "    if row_bbox[0] < segment[0]:  # min X\n",
    "        return False\n",
    "    if row_bbox[1] < segment[1]:  # min Y\n",
    "        return False\n",
    "    if row_bbox[2] > segment[2]:  # max X\n",
    "        return False\n",
    "    if row_bbox[3] > segment[3]:  # max Y\n",
    "        return False\n",
    "    # print(f\"segment: {segment}\\nrow: {row_bbox}\")\n",
    "    return True\n",
    "\n",
    "def assign_segments_to_dataset(dataset, segment_matrix, id_column):\n",
    "    segment_ids = []\n",
    "    street_ids = []\n",
    "    for _, row in dataset.iterrows():\n",
    "        row_bbox = row['geometry'].bounds\n",
    "        # check every segment\n",
    "        for index, segment in enumerate(segment_matrix):\n",
    "            # save found segment and street ID\n",
    "            if is_in_segment(row_bbox, segment):\n",
    "                segment_ids.append(index)\n",
    "                street_ids.append(row[id_column])\n",
    "                break\n",
    "\n",
    "    street_to_segment_df = pd.DataFrame({ id_column: street_ids, 'segment_id': segment_ids})\n",
    "    return dataset.merge(street_to_segment_df, on=id_column)\n",
    "\n",
    "model_shrink = assign_segments_to_dataset(model_shrink, segments_matrix, 'osm_reference_id')\n",
    "biketowork_shrink = assign_segments_to_dataset(biketowork_shrink, segments_matrix, 'GID_ROAD')"
   ],
   "metadata": {
    "collapsed": false,
    "pycharm": {
     "name": "#%%\n"
    }
   }
  },
  {
   "cell_type": "code",
   "execution_count": 39,
   "outputs": [
    {
     "data": {
      "text/plain": "230    1191\n188    1184\n208    1170\n247    1107\n267    1095\n       ... \n335       1\n50        1\n56        1\n237       1\n22        1\nName: segment_id, Length: 387, dtype: int64"
     },
     "execution_count": 39,
     "metadata": {},
     "output_type": "execute_result"
    }
   ],
   "source": [
    "model_shrink['segment_id'].value_counts()\n",
    "biketowork_shrink['segment_id'].value_counts()"
   ],
   "metadata": {
    "collapsed": false,
    "pycharm": {
     "name": "#%%\n"
    }
   }
  },
  {
   "cell_type": "code",
   "execution_count": 40,
   "outputs": [
    {
     "data": {
      "text/plain": "<AxesSubplot:>"
     },
     "execution_count": 40,
     "metadata": {},
     "output_type": "execute_result"
    },
    {
     "data": {
      "text/plain": "<Figure size 640x480 with 1 Axes>",
      "image/png": "[encoded data removed]"
     },
     "metadata": {},
     "output_type": "display_data"
    }
   ],
   "source": [
    "gpd.GeoDataFrame(model_shrink[model_shrink['segment_id'] == 218]).plot()"
   ],
   "metadata": {
    "collapsed": false,
    "pycharm": {
     "name": "#%%\n"
    }
   }
  },
  {
   "cell_type": "code",
   "execution_count": 41,
   "outputs": [
    {
     "data": {
      "text/plain": "<AxesSubplot:>"
     },
     "execution_count": 41,
     "metadata": {},
     "output_type": "execute_result"
    },
    {
     "data": {
      "text/plain": "<Figure size 640x480 with 1 Axes>",
      "image/png": "[encoded data removed]"
     },
     "metadata": {},
     "output_type": "display_data"
    }
   ],
   "source": [
    "gpd.GeoDataFrame(biketowork_shrink[biketowork_shrink['segment_id'] == 218]).plot()"
   ],
   "metadata": {
    "collapsed": false,
    "pycharm": {
     "name": "#%%\n"
    }
   }
  },
  {
   "cell_type": "code",
   "execution_count": 42,
   "outputs": [
    {
     "ename": "ValueError",
     "evalue": "Columns must be same length as key",
     "output_type": "error",
     "traceback": [
      "\u001B[0;31m---------------------------------------------------------------------------\u001B[0m",
      "\u001B[0;31mValueError\u001B[0m                                Traceback (most recent call last)",
      "Cell \u001B[0;32mIn [42], line 6\u001B[0m\n\u001B[1;32m      4\u001B[0m model_segm[\u001B[38;5;124m'\u001B[39m\u001B[38;5;124mbiketowork_gid\u001B[39m\u001B[38;5;124m'\u001B[39m] \u001B[38;5;241m=\u001B[39m np\u001B[38;5;241m.\u001B[39mempty((\u001B[38;5;28mlen\u001B[39m(model_segm), \u001B[38;5;241m0\u001B[39m))\u001B[38;5;241m.\u001B[39mtolist()\n\u001B[1;32m      5\u001B[0m \u001B[38;5;28;01mfor\u001B[39;00m index, row \u001B[38;5;129;01min\u001B[39;00m biketowork_shrink[biketowork_shrink[\u001B[38;5;124m'\u001B[39m\u001B[38;5;124msegment_id\u001B[39m\u001B[38;5;124m'\u001B[39m] \u001B[38;5;241m==\u001B[39m segm_id]\u001B[38;5;241m.\u001B[39miterrows():\n\u001B[0;32m----> 6\u001B[0m     \u001B[43mmodel_segm\u001B[49m\u001B[43m[\u001B[49m\u001B[38;5;124;43m'\u001B[39;49m\u001B[38;5;124;43mbiketowork_gid\u001B[39;49m\u001B[38;5;124;43m'\u001B[39;49m\u001B[43m]\u001B[49m \u001B[38;5;241m=\u001B[39m model_segm\u001B[38;5;241m.\u001B[39mapply(\u001B[38;5;28;01mlambda\u001B[39;00m x: utils\u001B[38;5;241m.\u001B[39massign_overlap(row, x[\u001B[38;5;124m'\u001B[39m\u001B[38;5;124mgeometry\u001B[39m\u001B[38;5;124m'\u001B[39m], x[\u001B[38;5;124m'\u001B[39m\u001B[38;5;124mbiketowork_gid\u001B[39m\u001B[38;5;124m'\u001B[39m], row[\u001B[38;5;124m'\u001B[39m\u001B[38;5;124mGID_ROAD\u001B[39m\u001B[38;5;124m'\u001B[39m]), axis\u001B[38;5;241m=\u001B[39m\u001B[38;5;241m1\u001B[39m,)\n",
      "File \u001B[0;32m~/Repos/Cycling-traffic-intensity-Brno/venv/lib64/python3.10/site-packages/pandas/core/frame.py:3645\u001B[0m, in \u001B[0;36mDataFrame.__setitem__\u001B[0;34m(self, key, value)\u001B[0m\n\u001B[1;32m   3643\u001B[0m     \u001B[38;5;28mself\u001B[39m\u001B[38;5;241m.\u001B[39m_setitem_array(key, value)\n\u001B[1;32m   3644\u001B[0m \u001B[38;5;28;01melif\u001B[39;00m \u001B[38;5;28misinstance\u001B[39m(value, DataFrame):\n\u001B[0;32m-> 3645\u001B[0m     \u001B[38;5;28;43mself\u001B[39;49m\u001B[38;5;241;43m.\u001B[39;49m\u001B[43m_set_item_frame_value\u001B[49m\u001B[43m(\u001B[49m\u001B[43mkey\u001B[49m\u001B[43m,\u001B[49m\u001B[43m \u001B[49m\u001B[43mvalue\u001B[49m\u001B[43m)\u001B[49m\n\u001B[1;32m   3646\u001B[0m \u001B[38;5;28;01melif\u001B[39;00m (\n\u001B[1;32m   3647\u001B[0m     is_list_like(value)\n\u001B[1;32m   3648\u001B[0m     \u001B[38;5;129;01mand\u001B[39;00m \u001B[38;5;129;01mnot\u001B[39;00m \u001B[38;5;28mself\u001B[39m\u001B[38;5;241m.\u001B[39mcolumns\u001B[38;5;241m.\u001B[39mis_unique\n\u001B[1;32m   3649\u001B[0m     \u001B[38;5;129;01mand\u001B[39;00m \u001B[38;5;241m1\u001B[39m \u001B[38;5;241m<\u001B[39m \u001B[38;5;28mlen\u001B[39m(\u001B[38;5;28mself\u001B[39m\u001B[38;5;241m.\u001B[39mcolumns\u001B[38;5;241m.\u001B[39mget_indexer_for([key])) \u001B[38;5;241m==\u001B[39m \u001B[38;5;28mlen\u001B[39m(value)\n\u001B[1;32m   3650\u001B[0m ):\n\u001B[1;32m   3651\u001B[0m     \u001B[38;5;66;03m# Column to set is duplicated\u001B[39;00m\n\u001B[1;32m   3652\u001B[0m     \u001B[38;5;28mself\u001B[39m\u001B[38;5;241m.\u001B[39m_setitem_array([key], value)\n",
      "File \u001B[0;32m~/Repos/Cycling-traffic-intensity-Brno/venv/lib64/python3.10/site-packages/pandas/core/frame.py:3775\u001B[0m, in \u001B[0;36mDataFrame._set_item_frame_value\u001B[0;34m(self, key, value)\u001B[0m\n\u001B[1;32m   3773\u001B[0m len_cols \u001B[38;5;241m=\u001B[39m \u001B[38;5;241m1\u001B[39m \u001B[38;5;28;01mif\u001B[39;00m is_scalar(cols) \u001B[38;5;28;01melse\u001B[39;00m \u001B[38;5;28mlen\u001B[39m(cols)\n\u001B[1;32m   3774\u001B[0m \u001B[38;5;28;01mif\u001B[39;00m len_cols \u001B[38;5;241m!=\u001B[39m \u001B[38;5;28mlen\u001B[39m(value\u001B[38;5;241m.\u001B[39mcolumns):\n\u001B[0;32m-> 3775\u001B[0m     \u001B[38;5;28;01mraise\u001B[39;00m \u001B[38;5;167;01mValueError\u001B[39;00m(\u001B[38;5;124m\"\u001B[39m\u001B[38;5;124mColumns must be same length as key\u001B[39m\u001B[38;5;124m\"\u001B[39m)\n\u001B[1;32m   3777\u001B[0m \u001B[38;5;66;03m# align right-hand-side columns if self.columns\u001B[39;00m\n\u001B[1;32m   3778\u001B[0m \u001B[38;5;66;03m# is multi-index and self[key] is a sub-frame\u001B[39;00m\n\u001B[1;32m   3779\u001B[0m \u001B[38;5;28;01mif\u001B[39;00m \u001B[38;5;28misinstance\u001B[39m(\u001B[38;5;28mself\u001B[39m\u001B[38;5;241m.\u001B[39mcolumns, MultiIndex) \u001B[38;5;129;01mand\u001B[39;00m \u001B[38;5;28misinstance\u001B[39m(\n\u001B[1;32m   3780\u001B[0m     loc, (\u001B[38;5;28mslice\u001B[39m, Series, np\u001B[38;5;241m.\u001B[39mndarray, Index)\n\u001B[1;32m   3781\u001B[0m ):\n",
      "\u001B[0;31mValueError\u001B[0m: Columns must be same length as key"
     ]
    }
   ],
   "source": [
    "# try street matching per segment\n",
    "for segm_id in range(len(segments_matrix)):\n",
    "    model_segm = model_shrink[model_shrink['segment_id'] == segm_id].copy()\n",
    "    model_segm['biketowork_gid'] = np.empty((len(model_segm), 0)).tolist()\n",
    "    for index, row in biketowork_shrink[biketowork_shrink['segment_id'] == segm_id].iterrows():\n",
    "        model_segm['biketowork_gid'] = model_segm.apply(lambda x: utils.assign_overlap(row, x['geometry'], x['biketowork_gid'], row['GID_ROAD']), axis=1,)\n",
    "# TODO: not working ATM\n"
   ],
   "metadata": {
    "collapsed": false,
    "pycharm": {
     "name": "#%%\n"
    }
   }
  },
  {
   "cell_type": "code",
   "execution_count": null,
   "outputs": [],
   "source": [],
   "metadata": {
    "collapsed": false,
    "pycharm": {
     "name": "#%%\n"
    }
   }
  }
 ],
 "metadata": {
  "kernelspec": {
   "display_name": "Python 3",
   "language": "python",
   "name": "python3"
  },
  "language_info": {
   "codemirror_mode": {
    "name": "ipython",
    "version": 2
   },
   "file_extension": ".py",
   "mimetype": "text/x-python",
   "name": "python",
   "nbconvert_exporter": "python",
   "pygments_lexer": "ipython2",
   "version": "2.7.6"
  }
 },
 "nbformat": 4,
 "nbformat_minor": 0
}