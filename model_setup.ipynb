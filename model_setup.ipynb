{
 "cells": [
  {
   "cell_type": "code",
   "execution_count": null,
   "metadata": {
    "collapsed": true,
    "pycharm": {
     "name": "#%%\n"
    }
   },
   "outputs": [],
   "source": [
    "import pyrosm\n",
    "import geopandas as gpd\n",
    "import pandas as pd\n",
    "import numpy as np\n",
    "#import seaborn as sns\n",
    "#from matplotlib import pyplot as plt\n",
    "#import contextily as cx\n",
    "import gc\n",
    "import utils"
   ]
  },
  {
   "cell_type": "code",
   "execution_count": null,
   "outputs": [],
   "source": [
    "# load openstreetmap basemap\n",
    "# https://www.openstreetmap.org/export - boundingbox setup\n",
    "bbox = [16.3837, 49.0946, 16.9227, 49.2884]  # [minx, miny, maxx, maxy]\n",
    "pbf_reader = pyrosm.OSM('datasets/czech_republic-latest.osm.pbf', bounding_box=bbox)\n",
    "cycling_network = pbf_reader.get_network('cycling')\n",
    "driving_network = pbf_reader.get_network('driving')\n",
    "basemap_network = driving_network.append(cycling_network)\n",
    "del cycling_network\n",
    "del driving_network\n",
    "gc.collect()\n",
    "\n",
    "# load strava data\n",
    "strava_df = pd.read_csv('datasets/strava_edges_2021.csv')\n",
    "# load bike-to-work data\n",
    "biketowork_df = gpd.read_file('datasets/do_prace_na_kole.geojson')\n",
    "# load mechanical counters data\n",
    "counters_df = gpd.read_file('datasets/cyklodetektory.geojson')\n",
    "# load driving census data\n",
    "census_df = pd.read_excel('datasets/rsd_scitanie_dopravy_2020.xlsx', skiprows=[0])"
   ],
   "metadata": {
    "collapsed": false,
    "pycharm": {
     "name": "#%%\n"
    }
   }
  },
  {
   "cell_type": "code",
   "execution_count": null,
   "outputs": [],
   "source": [
    "# drop unnecessary columns - speedup\n",
    "strava_df = strava_df.drop([\n",
    "    'forward_morning_trip_count',\n",
    "    'reverse_morning_trip_count',\n",
    "    'forward_evening_trip_count',\n",
    "    'reverse_evening_trip_count',\n",
    "    'forward_male_people_count',\n",
    "    'reverse_male_people_count',\n",
    "    'forward_female_people_count',\n",
    "    'reverse_female_people_count',\n",
    "    'forward_unspecified_people_count',\n",
    "    'reverse_unspecified_people_count',\n",
    "    'forward_13_19_people_count',\n",
    "    'reverse_13_19_people_count',\n",
    "    'forward_20_34_people_count',\n",
    "    'reverse_20_34_people_count',\n",
    "    'forward_35_54_people_count',\n",
    "    'reverse_35_54_people_count',\n",
    "    'forward_55_64_people_count',\n",
    "    'reverse_55_64_people_count',\n",
    "    'forward_65_plus_people_count',\n",
    "    'reverse_65_plus_people_count',\n",
    "    'activity_type',\n",
    "    'year'\n",
    "], axis=1)\n",
    "# drop from counters\n",
    "counters_df = counters_df.drop([\n",
    "    'ID',\n",
    "    'FirstDirection_Name',\n",
    "    'FirstDirection_Pedestrians',\n",
    "    'FirstDirection_Total',\n",
    "    'SecondDirection_Name',\n",
    "    'SecondDirection_Pedestrians',\n",
    "    'SecondDirection_Total',\n",
    "    'LocationId',\n",
    "    'Latitude',\n",
    "    'Longitude',\n",
    "], axis=1)\n",
    "counters_df\n",
    "\n",
    "census_df = census_df[census_df['NÁZEV_MĚSTA'] == 'Brno']"
   ],
   "metadata": {
    "collapsed": false,
    "pycharm": {
     "name": "#%%\n"
    }
   }
  },
  {
   "cell_type": "code",
   "execution_count": null,
   "outputs": [],
   "source": [
    "print(basemap_network.shape)\n",
    "print(strava_df.shape)"
   ],
   "metadata": {
    "collapsed": false,
    "pycharm": {
     "name": "#%%\n"
    }
   }
  },
  {
   "cell_type": "markdown",
   "source": [
    "## Match strava data to OSM basemap"
   ],
   "metadata": {
    "collapsed": false,
    "pycharm": {
     "name": "#%% md\n"
    }
   }
  },
  {
   "cell_type": "code",
   "execution_count": null,
   "outputs": [],
   "source": [
    "# create model from basemap and strava data\n",
    "model = strava_df.join(basemap_network.set_index('id'), on='osm_reference_id', how='inner')\n",
    "del basemap_network\n",
    "del strava_df\n",
    "gc.collect()\n",
    "model = model.drop_duplicates()\n",
    "# https://www.openstreetmap.org/way/{id}\n",
    "print(model.shape)\n",
    "model.head()"
   ],
   "metadata": {
    "collapsed": false,
    "pycharm": {
     "name": "#%%\n"
    }
   }
  },
  {
   "cell_type": "markdown",
   "source": [
    "## Match mechanical counters to basemap"
   ],
   "metadata": {
    "collapsed": false,
    "pycharm": {
     "name": "#%% md\n"
    }
   }
  },
  {
   "cell_type": "code",
   "execution_count": null,
   "outputs": [],
   "source": [
    "# load distances between ways and mechanical counter units\n",
    "counters = counters_df['geometry'].unique()\n",
    "for i, item in enumerate(counters):\n",
    "    # within <- exact match fails (needs threshold), better to use distance\n",
    "    model[f'distance{i}'] = model['geometry'].apply(lambda x: x.distance(item))\n",
    "\n",
    "counter_units = []\n",
    "for counter_geo in counters:\n",
    "    counter_units.append(counters_df[counters_df['geometry']==counter_geo]['UnitName'].unique()[0])\n",
    "\n",
    "model.head()"
   ],
   "metadata": {
    "collapsed": false,
    "pycharm": {
     "name": "#%%\n"
    }
   }
  },
  {
   "cell_type": "code",
   "execution_count": null,
   "outputs": [],
   "source": [
    "# check if counter street was found (OPTIONAL)\n",
    "for i in range(len(counters)):\n",
    "    print(f'Counter #{i}: ({counters_df[counters_df[\"geometry\"]==counters[i]][\"UnitName\"].unique()[0]})')\n",
    "    print(f'Lon: {counters[i].x}\\nLat: {counters[i].y}')\n",
    "    print(f'Closest way: {model[model[f\"distance{i}\"]==model[f\"distance{i}\"].min()][\"osm_reference_id\"].values}')"
   ],
   "metadata": {
    "collapsed": false,
    "pycharm": {
     "name": "#%%\n"
    }
   }
  },
  {
   "cell_type": "code",
   "execution_count": null,
   "outputs": [],
   "source": [
    "# draw and save edges matched to counters\n",
    "#fig = plt.figure(figsize=[20, 20], dpi=800)\n",
    "#ax = plt.axes()\n",
    "#fig.add_axes(ax)\n",
    "unit_way_dict = {}\n",
    "for i in range(len(counters)):\n",
    "    min_dist = model[model[f\"distance{i}\"]==model[f\"distance{i}\"].min()]\n",
    "    counter_matches = min_dist['geometry']\n",
    "    geoser = gpd.GeoSeries(counter_matches)\n",
    "    #geoser.plot(ax=ax)\n",
    "    json_str = geoser.to_json()\n",
    "    unit_way_dict[counter_units[i]] = min_dist['osm_reference_id'].unique()[0]\n",
    "    #with open(f'counters_matching/counter{i}_matches.geojson', 'w+') as f:\n",
    "    #    f.write(json_str)\n",
    "# append edges to counters_df\n",
    "counters_df['way_id'] = counters_df['UnitName'].map(unit_way_dict)\n",
    "#counters_df.plot(ax=ax)\n",
    "#cx.add_basemap(ax, crs=counters_df.crs, zoom=12)\n",
    "#with open(f'counters_matching/counters.geojson', 'w+') as f:\n",
    "#    f.write(gpd.GeoSeries(counters).to_json())\n",
    "\n",
    "for i in range(len(counters)):\n",
    "    model = model.drop([f'distance{i}'], axis=1)\n",
    "counters_df.head()"
   ],
   "metadata": {
    "collapsed": false,
    "pycharm": {
     "name": "#%%\n"
    }
   }
  },
  {
   "cell_type": "code",
   "execution_count": null,
   "outputs": [],
   "source": [
    "counters_df.to_file('counters_matched.geojson', driver=\"GeoJSON\")"
   ],
   "metadata": {
    "collapsed": false,
    "pycharm": {
     "name": "#%%\n"
    }
   }
  },
  {
   "cell_type": "code",
   "execution_count": null,
   "outputs": [],
   "source": [
    "# save final model\n",
    "model.to_csv('model.csv', sep=';')\n",
    "gpd.GeoDataFrame(model).to_file('model.geojson', driver=\"GeoJSON\")"
   ],
   "metadata": {
    "collapsed": false,
    "pycharm": {
     "name": "#%%\n"
    }
   }
  },
  {
   "cell_type": "code",
   "execution_count": null,
   "outputs": [],
   "source": [
    "model.to_pickle('model.pkl')"
   ],
   "metadata": {
    "collapsed": false,
    "pycharm": {
     "name": "#%%\n"
    }
   }
  },
  {
   "cell_type": "markdown",
   "source": [
    "### From this point load model from pickle to skip setup"
   ],
   "metadata": {
    "collapsed": false,
    "pycharm": {
     "name": "#%% md\n"
    }
   }
  },
  {
   "cell_type": "code",
   "execution_count": null,
   "outputs": [],
   "source": [
    "model = pd.read_pickle('model.pkl')"
   ],
   "metadata": {
    "collapsed": false,
    "pycharm": {
     "name": "#%%\n"
    }
   }
  },
  {
   "cell_type": "code",
   "execution_count": null,
   "outputs": [],
   "source": [
    "model_shrink = model.drop_duplicates(subset='osm_reference_id')\n",
    "model_shrink['biketowork_gid'] = np.empty((len(model_shrink), 0)).tolist() # pd.Series([[] for _ in range(len(model_shrink))])\n",
    "biketowork_df = gpd.read_file('datasets/do_prace_na_kole.geojson')\n",
    "biketowork_shrink = biketowork_df.drop_duplicates(subset='GID_ROAD')"
   ],
   "metadata": {
    "collapsed": false,
    "pycharm": {
     "name": "#%%\n"
    }
   }
  },
  {
   "cell_type": "markdown",
   "source": [
    "## Match model OSM basemap to biketowork ways\n",
    "### (brute force N:N matching - VERY SLOW)"
   ],
   "metadata": {
    "collapsed": false,
    "pycharm": {
     "name": "#%% md\n"
    }
   }
  },
  {
   "cell_type": "code",
   "execution_count": null,
   "outputs": [],
   "source": [
    "for index, row in biketowork_df.iterrows():\n",
    "    model_shrink['biketowork_gid'] = model_shrink.apply(lambda x: utils.assign_overlap(row, x['geometry'], x['biketowork_gid'], row['GID_ROAD']),\n",
    "                                                        axis=1,)"
   ],
   "metadata": {
    "collapsed": false,
    "pycharm": {
     "name": "#%%\n"
    }
   }
  },
  {
   "cell_type": "code",
   "execution_count": null,
   "outputs": [],
   "source": [
    "# osm=94635449 gid=224682\n",
    "# osm=5606151 gid=224865  # NERUDOVA\n",
    "# osm=8134289 gid=[224865.0]\n",
    "# osm=33265238 gid=[224868.0]\n",
    "model_shrink.to_csv('model_with_dpnk.csv', sep=';')\n",
    "gpd.GeoDataFrame(model_shrink).to_file('model_with_dpnk.geojson', driver=\"GeoJSON\")\n",
    "model_shrink[['biketowork_gid', 'osm_reference_id']]"
   ],
   "metadata": {
    "collapsed": false,
    "pycharm": {
     "name": "#%%\n"
    }
   }
  },
  {
   "cell_type": "markdown",
   "source": [
    "## Create map segment matrix"
   ],
   "metadata": {
    "collapsed": false,
    "pycharm": {
     "name": "#%% md\n"
    }
   }
  },
  {
   "cell_type": "code",
   "execution_count": null,
   "outputs": [],
   "source": [
    "from itertools import pairwise\n",
    "bbox = [16.3837, 49.0946, 16.9227, 49.2884]  # [minx, miny, maxx, maxy]\n",
    "NUM_OF_SEGMENTS = 20\n",
    "\n",
    "# X Segments\n",
    "degree_width = bbox[2] - bbox[0]\n",
    "segment_width = degree_width / NUM_OF_SEGMENTS\n",
    "start_minx = bbox[0]\n",
    "segment_mins_x = [start_minx + (segment_width*n) for n in range(NUM_OF_SEGMENTS+1)]\n",
    "# Y segments\n",
    "degree_height = bbox[3] - bbox[1]\n",
    "segment_heigth = degree_height / NUM_OF_SEGMENTS\n",
    "start_miny = bbox[1]\n",
    "segment_mins_y = [start_miny + (segment_heigth*n) for n in range(NUM_OF_SEGMENTS+1)]\n",
    "\n",
    "# create segment matrix\n",
    "segments_bboxes = []\n",
    "y_pairs = pairwise(segment_mins_y)\n",
    "for y_limits in y_pairs:\n",
    "    x_pairs = pairwise(segment_mins_x)\n",
    "    for x_limits in x_pairs:\n",
    "        segments_bboxes.append((x_limits[0], y_limits[0], x_limits[1], y_limits[1]))"
   ],
   "metadata": {
    "collapsed": false,
    "pycharm": {
     "name": "#%%\n"
    }
   }
  },
  {
   "cell_type": "markdown",
   "source": [
    "## Match model street to segment"
   ],
   "metadata": {
    "collapsed": false,
    "pycharm": {
     "name": "#%% md\n"
    }
   }
  },
  {
   "cell_type": "code",
   "execution_count": null,
   "outputs": [],
   "source": [
    "def is_in_segment(row_bbox, segment):\n",
    "    if row_bbox[0] < segment[0]:  # min X\n",
    "        return False\n",
    "    if row_bbox[1] < segment[1]:  # min Y\n",
    "        return False\n",
    "    if row_bbox[2] > segment[2]:  # max X\n",
    "        return False\n",
    "    if row_bbox[3] > segment[3]:  # max Y\n",
    "        return False\n",
    "    # print(f\"segment: {segment}\\nrow: {row_bbox}\")\n",
    "    return True\n",
    "\n",
    "segment_ids = []\n",
    "osm_ids = []\n",
    "for _, row in model.iterrows():\n",
    "    row_bbox = row['geometry'].bounds\n",
    "    # check every segment\n",
    "    for index, segment in enumerate(segments_bboxes):\n",
    "        # save found segment and OSM way ID\n",
    "        if is_in_segment(row_bbox, segment):\n",
    "            segment_ids.append(index)\n",
    "            osm_ids.append(row['osm_reference_id'])\n",
    "            break\n",
    "\n",
    "street_to_segment_df = pd.DataFrame({ 'osm_reference_id': osm_ids, 'segment_id': segment_ids})\n",
    "model = model.merge(street_to_segment_df, on='osm_reference_id')\n"
   ],
   "metadata": {
    "collapsed": false,
    "pycharm": {
     "name": "#%%\n"
    }
   }
  },
  {
   "cell_type": "code",
   "execution_count": null,
   "outputs": [],
   "source": [
    "model['segment_id'].value_counts()\n",
    "# TODO: match biketowork dataset and try to compare\n"
   ],
   "metadata": {
    "collapsed": false,
    "pycharm": {
     "name": "#%%\n"
    }
   }
  }
 ],
 "metadata": {
  "kernelspec": {
   "display_name": "Python 3",
   "language": "python",
   "name": "python3"
  },
  "language_info": {
   "codemirror_mode": {
    "name": "ipython",
    "version": 2
   },
   "file_extension": ".py",
   "mimetype": "text/x-python",
   "name": "python",
   "nbconvert_exporter": "python",
   "pygments_lexer": "ipython2",
   "version": "2.7.6"
  }
 },
 "nbformat": 4,
 "nbformat_minor": 0
}