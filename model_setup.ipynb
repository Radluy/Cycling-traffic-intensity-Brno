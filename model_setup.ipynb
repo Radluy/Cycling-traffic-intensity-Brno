{
 "cells": [
  {
   "cell_type": "code",
   "execution_count": 1,
   "metadata": {
    "collapsed": true,
    "pycharm": {
     "name": "#%%\n"
    }
   },
   "outputs": [],
   "source": [
    "import pyrosm\n",
    "import geopandas as gpd\n",
    "import pandas as pd\n",
    "import numpy as np\n",
    "import seaborn as sns\n",
    "from matplotlib import pyplot as plt"
   ]
  },
  {
   "cell_type": "code",
   "execution_count": 2,
   "outputs": [
    {
     "name": "stderr",
     "output_type": "stream",
     "text": [
      "/tmp/ipykernel_299283/1491798065.py:7: FutureWarning: The frame.append method is deprecated and will be removed from pandas in a future version. Use pandas.concat instead.\n",
      "  basemap_network = driving_network.append(cycling_network)\n"
     ]
    }
   ],
   "source": [
    "# load openstreetmap basemap\n",
    "# https://www.openstreetmap.org/export - boundingbox setup\n",
    "bbox = [16.3837, 49.0946, 16.9227, 49.2884]  # [minx, miny, maxx, maxy]\n",
    "pbf_reader = pyrosm.OSM('datasets/czech_republic-latest.osm.pbf', bounding_box=bbox)\n",
    "cycling_network = pbf_reader.get_network('cycling')\n",
    "driving_network = pbf_reader.get_network('driving')\n",
    "basemap_network = driving_network.append(cycling_network)\n",
    "\n",
    "# load strava data\n",
    "strava_df = pd.read_csv('datasets/strava_edges_2021.csv')\n",
    "\n",
    "# load bike-to-work data\n",
    "biketowork_df = gpd.read_file('datasets/do_prace_na_kole.geojson')\n",
    "\n",
    "# load mechanical counters data\n",
    "counters_df = gpd.read_file('datasets/cyklodetektory.geojson')\n",
    "\n",
    "# load driving census data\n",
    "census_df = pd.read_excel('datasets/rsd_scitanie_dopravy_2020.xlsx', skiprows=[0])"
   ],
   "metadata": {
    "collapsed": false,
    "pycharm": {
     "name": "#%%\n"
    }
   }
  },
  {
   "cell_type": "code",
   "execution_count": 18,
   "outputs": [
    {
     "name": "stdout",
     "output_type": "stream",
     "text": [
      "Index(['edge_uid', 'activity_type', 'year', 'forward_trip_count',\n",
      "       'reverse_trip_count', 'forward_people_count', 'reverse_people_count',\n",
      "       'forward_commute_trip_count', 'reverse_commute_trip_count',\n",
      "       'forward_leisure_trip_count', 'reverse_leisure_trip_count',\n",
      "       'forward_morning_trip_count', 'reverse_morning_trip_count',\n",
      "       'forward_evening_trip_count', 'reverse_evening_trip_count',\n",
      "       'forward_male_people_count', 'reverse_male_people_count',\n",
      "       'forward_female_people_count', 'reverse_female_people_count',\n",
      "       'forward_unspecified_people_count', 'reverse_unspecified_people_count',\n",
      "       'forward_13_19_people_count', 'reverse_13_19_people_count',\n",
      "       'forward_20_34_people_count', 'reverse_20_34_people_count',\n",
      "       'forward_35_54_people_count', 'reverse_35_54_people_count',\n",
      "       'forward_55_64_people_count', 'reverse_55_64_people_count',\n",
      "       'forward_65_plus_people_count', 'reverse_65_plus_people_count',\n",
      "       'forward_average_speed', 'reverse_average_speed', 'osm_reference_id'],\n",
      "      dtype='object')\n"
     ]
    },
    {
     "data": {
      "text/plain": "        forward_trip_count  reverse_trip_count  forward_people_count  \\\n0                        5                  30                     5   \n1                        5                   0                     5   \n2                       65                  65                    60   \n3                      255                 400                    85   \n4                       75                 185                    70   \n...                    ...                 ...                   ...   \n193807                   5                   5                     5   \n193808                 575                 385                   240   \n193809                 595                 510                   215   \n193810                   5                   5                     5   \n193811                 240                 440                   165   \n\n        reverse_people_count  forward_commute_trip_count  \\\n0                         15                           0   \n1                          0                           0   \n2                         55                           5   \n3                        100                          25   \n4                        130                           5   \n...                      ...                         ...   \n193807                     5                           0   \n193808                   160                          20   \n193809                   190                          45   \n193810                     5                           0   \n193811                   225                           0   \n\n        reverse_commute_trip_count  forward_leisure_trip_count  \\\n0                                0                           5   \n1                                0                           5   \n2                                5                          60   \n3                               20                         230   \n4                               15                          70   \n...                            ...                         ...   \n193807                           0                           5   \n193808                          15                         555   \n193809                          60                         550   \n193810                           0                           5   \n193811                           5                         240   \n\n        reverse_leisure_trip_count  forward_average_speed  \\\n0                               30                   5.94   \n1                                0                   1.36   \n2                               60                   0.56   \n3                              380                   2.66   \n4                              170                   2.03   \n...                            ...                    ...   \n193807                           5                   2.04   \n193808                         370                   0.17   \n193809                         450                   5.38   \n193810                           5                   2.75   \n193811                         435                   7.47   \n\n        reverse_average_speed  osm_reference_id  \n0                        3.15          93103358  \n1                        0.00          65201855  \n2                        0.35          33968694  \n3                        4.61         108343596  \n4                        2.60          74064352  \n...                       ...               ...  \n193807                   3.34         591639152  \n193808                   0.27         237480106  \n193809                   6.22         467759540  \n193810                   3.67         338583813  \n193811                   4.17         360994261  \n\n[193812 rows x 11 columns]",
      "text/html": "<div>\n<style scoped>\n    .dataframe tbody tr th:only-of-type {\n        vertical-align: middle;\n    }\n\n    .dataframe tbody tr th {\n        vertical-align: top;\n    }\n\n    .dataframe thead th {\n        text-align: right;\n    }\n</style>\n<table border=\"1\" class=\"dataframe\">\n  <thead>\n    <tr style=\"text-align: right;\">\n      <th></th>\n      <th>forward_trip_count</th>\n      <th>reverse_trip_count</th>\n      <th>forward_people_count</th>\n      <th>reverse_people_count</th>\n      <th>forward_commute_trip_count</th>\n      <th>reverse_commute_trip_count</th>\n      <th>forward_leisure_trip_count</th>\n      <th>reverse_leisure_trip_count</th>\n      <th>forward_average_speed</th>\n      <th>reverse_average_speed</th>\n      <th>osm_reference_id</th>\n    </tr>\n  </thead>\n  <tbody>\n    <tr>\n      <th>0</th>\n      <td>5</td>\n      <td>30</td>\n      <td>5</td>\n      <td>15</td>\n      <td>0</td>\n      <td>0</td>\n      <td>5</td>\n      <td>30</td>\n      <td>5.94</td>\n      <td>3.15</td>\n      <td>93103358</td>\n    </tr>\n    <tr>\n      <th>1</th>\n      <td>5</td>\n      <td>0</td>\n      <td>5</td>\n      <td>0</td>\n      <td>0</td>\n      <td>0</td>\n      <td>5</td>\n      <td>0</td>\n      <td>1.36</td>\n      <td>0.00</td>\n      <td>65201855</td>\n    </tr>\n    <tr>\n      <th>2</th>\n      <td>65</td>\n      <td>65</td>\n      <td>60</td>\n      <td>55</td>\n      <td>5</td>\n      <td>5</td>\n      <td>60</td>\n      <td>60</td>\n      <td>0.56</td>\n      <td>0.35</td>\n      <td>33968694</td>\n    </tr>\n    <tr>\n      <th>3</th>\n      <td>255</td>\n      <td>400</td>\n      <td>85</td>\n      <td>100</td>\n      <td>25</td>\n      <td>20</td>\n      <td>230</td>\n      <td>380</td>\n      <td>2.66</td>\n      <td>4.61</td>\n      <td>108343596</td>\n    </tr>\n    <tr>\n      <th>4</th>\n      <td>75</td>\n      <td>185</td>\n      <td>70</td>\n      <td>130</td>\n      <td>5</td>\n      <td>15</td>\n      <td>70</td>\n      <td>170</td>\n      <td>2.03</td>\n      <td>2.60</td>\n      <td>74064352</td>\n    </tr>\n    <tr>\n      <th>...</th>\n      <td>...</td>\n      <td>...</td>\n      <td>...</td>\n      <td>...</td>\n      <td>...</td>\n      <td>...</td>\n      <td>...</td>\n      <td>...</td>\n      <td>...</td>\n      <td>...</td>\n      <td>...</td>\n    </tr>\n    <tr>\n      <th>193807</th>\n      <td>5</td>\n      <td>5</td>\n      <td>5</td>\n      <td>5</td>\n      <td>0</td>\n      <td>0</td>\n      <td>5</td>\n      <td>5</td>\n      <td>2.04</td>\n      <td>3.34</td>\n      <td>591639152</td>\n    </tr>\n    <tr>\n      <th>193808</th>\n      <td>575</td>\n      <td>385</td>\n      <td>240</td>\n      <td>160</td>\n      <td>20</td>\n      <td>15</td>\n      <td>555</td>\n      <td>370</td>\n      <td>0.17</td>\n      <td>0.27</td>\n      <td>237480106</td>\n    </tr>\n    <tr>\n      <th>193809</th>\n      <td>595</td>\n      <td>510</td>\n      <td>215</td>\n      <td>190</td>\n      <td>45</td>\n      <td>60</td>\n      <td>550</td>\n      <td>450</td>\n      <td>5.38</td>\n      <td>6.22</td>\n      <td>467759540</td>\n    </tr>\n    <tr>\n      <th>193810</th>\n      <td>5</td>\n      <td>5</td>\n      <td>5</td>\n      <td>5</td>\n      <td>0</td>\n      <td>0</td>\n      <td>5</td>\n      <td>5</td>\n      <td>2.75</td>\n      <td>3.67</td>\n      <td>338583813</td>\n    </tr>\n    <tr>\n      <th>193811</th>\n      <td>240</td>\n      <td>440</td>\n      <td>165</td>\n      <td>225</td>\n      <td>0</td>\n      <td>5</td>\n      <td>240</td>\n      <td>435</td>\n      <td>7.47</td>\n      <td>4.17</td>\n      <td>360994261</td>\n    </tr>\n  </tbody>\n</table>\n<p>193812 rows × 11 columns</p>\n</div>"
     },
     "execution_count": 18,
     "metadata": {},
     "output_type": "execute_result"
    }
   ],
   "source": [
    "# TODO: drop unnecessary columns - speedup\n",
    "strava_cropped_df = strava_df.drop([\n",
    "    'forward_morning_trip_count',\n",
    "    'reverse_morning_trip_count',\n",
    "    'forward_evening_trip_count',\n",
    "    'reverse_evening_trip_count',\n",
    "    'forward_male_people_count',\n",
    "    'reverse_male_people_count',\n",
    "    'forward_female_people_count',\n",
    "    'reverse_female_people_count',\n",
    "    'forward_unspecified_people_count',\n",
    "    'reverse_unspecified_people_count',\n",
    "    'forward_13_19_people_count',\n",
    "    'reverse_13_19_people_count',\n",
    "    'forward_20_34_people_count',\n",
    "    'reverse_20_34_people_count',\n",
    "    'forward_35_54_people_count',\n",
    "    'reverse_35_54_people_count',\n",
    "    'forward_55_64_people_count',\n",
    "    'reverse_55_64_people_count',\n",
    "    'forward_65_plus_people_count',\n",
    "    'reverse_65_plus_people_count',\n",
    "    'activity_type',\n",
    "    'edge_uid',\n",
    "    'year'\n",
    "], axis=1)\n",
    "strava_cropped_df"
   ],
   "metadata": {
    "collapsed": false,
    "pycharm": {
     "name": "#%%\n"
    }
   }
  },
  {
   "cell_type": "code",
   "execution_count": 4,
   "outputs": [
    {
     "name": "stdout",
     "output_type": "stream",
     "text": [
      "(36644, 39)\n",
      "(23179, 39)\n",
      "(59823, 40)\n",
      "(193812, 34)\n"
     ]
    }
   ],
   "source": [
    "print(cycling_network.shape)\n",
    "print(driving_network.shape)\n",
    "print(basemap_network.shape)\n",
    "print(strava_df.shape)"
   ],
   "metadata": {
    "collapsed": false,
    "pycharm": {
     "name": "#%%\n"
    }
   }
  },
  {
   "cell_type": "code",
   "execution_count": 19,
   "outputs": [
    {
     "data": {
      "text/plain": "                  forward_trip_count  reverse_trip_count  \\\nosm_reference_id                                           \n4019269                           30                   0   \n4019432                          805                 745   \n4019434                            5                   0   \n4019435                           50                   0   \n4019437                         1100                 990   \n\n                  forward_people_count  reverse_people_count  \\\nosm_reference_id                                               \n4019269                             10                     0   \n4019432                            265                   270   \n4019434                              5                     0   \n4019435                             25                     0   \n4019437                            140                   220   \n\n                  forward_commute_trip_count  reverse_commute_trip_count  \\\nosm_reference_id                                                           \n4019269                                    0                           0   \n4019432                                  140                         105   \n4019434                                    0                           0   \n4019435                                   20                           0   \n4019437                                   55                          55   \n\n                  forward_leisure_trip_count  reverse_leisure_trip_count  \\\nosm_reference_id                                                           \n4019269                                   30                           0   \n4019432                                  665                         640   \n4019434                                    5                           0   \n4019435                                   30                           0   \n4019437                                 1045                         935   \n\n                  forward_average_speed  reverse_average_speed  ... tunnel  \\\nosm_reference_id                                                ...          \n4019269                           18.06                   0.00  ...   None   \n4019432                            4.29                   9.82  ...   None   \n4019434                           16.33                   0.00  ...   None   \n4019435                           17.68                   0.00  ...   None   \n4019437                           21.31                  23.57  ...   None   \n\n                  turn width   timestamp version  \\\nosm_reference_id                                   \n4019269           None  None  1556088822      16   \n4019432           None  None  1611510572      10   \n4019434           None  None  1530611385      13   \n4019435           None  None  1639339626      10   \n4019437           None  None  1648299982      16   \n\n                                                               tags osm_type  \\\nosm_reference_id                                                               \n4019269           {\"layer\":\"1\",\"source:maxspeed\":\"CZ:urban_trunk...      way   \n4019432           {\"source:maxspeed\":\"CZ:rural\",\"source:ref\":\"rs...      way   \n4019434                                  {\"source:maxspeed\":\"sign\"}      way   \n4019435                                  {\"source\":\"uhul:ortofoto\"}      way   \n4019437                                                        None      way   \n\n                                                           geometry length  \\\nosm_reference_id                                                             \n4019269           MULTILINESTRING ((16.56569 49.18349, 16.56527 ...   81.0   \n4019432           MULTILINESTRING ((16.52347 49.17080, 16.52324 ...  159.0   \n4019434           MULTILINESTRING ((16.54352 49.16684, 16.54319 ...  380.0   \n4019435           MULTILINESTRING ((16.56420 49.17379, 16.56420 ...  338.0   \n4019437           MULTILINESTRING ((16.56755 49.16300, 16.56762 ...  166.0   \n\n                 path  \nosm_reference_id       \n4019269           NaN  \n4019432           NaN  \n4019434           NaN  \n4019435           NaN  \n4019437           NaN  \n\n[5 rows x 49 columns]",
      "text/html": "<div>\n<style scoped>\n    .dataframe tbody tr th:only-of-type {\n        vertical-align: middle;\n    }\n\n    .dataframe tbody tr th {\n        vertical-align: top;\n    }\n\n    .dataframe thead th {\n        text-align: right;\n    }\n</style>\n<table border=\"1\" class=\"dataframe\">\n  <thead>\n    <tr style=\"text-align: right;\">\n      <th></th>\n      <th>forward_trip_count</th>\n      <th>reverse_trip_count</th>\n      <th>forward_people_count</th>\n      <th>reverse_people_count</th>\n      <th>forward_commute_trip_count</th>\n      <th>reverse_commute_trip_count</th>\n      <th>forward_leisure_trip_count</th>\n      <th>reverse_leisure_trip_count</th>\n      <th>forward_average_speed</th>\n      <th>reverse_average_speed</th>\n      <th>...</th>\n      <th>tunnel</th>\n      <th>turn</th>\n      <th>width</th>\n      <th>timestamp</th>\n      <th>version</th>\n      <th>tags</th>\n      <th>osm_type</th>\n      <th>geometry</th>\n      <th>length</th>\n      <th>path</th>\n    </tr>\n    <tr>\n      <th>osm_reference_id</th>\n      <th></th>\n      <th></th>\n      <th></th>\n      <th></th>\n      <th></th>\n      <th></th>\n      <th></th>\n      <th></th>\n      <th></th>\n      <th></th>\n      <th></th>\n      <th></th>\n      <th></th>\n      <th></th>\n      <th></th>\n      <th></th>\n      <th></th>\n      <th></th>\n      <th></th>\n      <th></th>\n      <th></th>\n    </tr>\n  </thead>\n  <tbody>\n    <tr>\n      <th>4019269</th>\n      <td>30</td>\n      <td>0</td>\n      <td>10</td>\n      <td>0</td>\n      <td>0</td>\n      <td>0</td>\n      <td>30</td>\n      <td>0</td>\n      <td>18.06</td>\n      <td>0.00</td>\n      <td>...</td>\n      <td>None</td>\n      <td>None</td>\n      <td>None</td>\n      <td>1556088822</td>\n      <td>16</td>\n      <td>{\"layer\":\"1\",\"source:maxspeed\":\"CZ:urban_trunk...</td>\n      <td>way</td>\n      <td>MULTILINESTRING ((16.56569 49.18349, 16.56527 ...</td>\n      <td>81.0</td>\n      <td>NaN</td>\n    </tr>\n    <tr>\n      <th>4019432</th>\n      <td>805</td>\n      <td>745</td>\n      <td>265</td>\n      <td>270</td>\n      <td>140</td>\n      <td>105</td>\n      <td>665</td>\n      <td>640</td>\n      <td>4.29</td>\n      <td>9.82</td>\n      <td>...</td>\n      <td>None</td>\n      <td>None</td>\n      <td>None</td>\n      <td>1611510572</td>\n      <td>10</td>\n      <td>{\"source:maxspeed\":\"CZ:rural\",\"source:ref\":\"rs...</td>\n      <td>way</td>\n      <td>MULTILINESTRING ((16.52347 49.17080, 16.52324 ...</td>\n      <td>159.0</td>\n      <td>NaN</td>\n    </tr>\n    <tr>\n      <th>4019434</th>\n      <td>5</td>\n      <td>0</td>\n      <td>5</td>\n      <td>0</td>\n      <td>0</td>\n      <td>0</td>\n      <td>5</td>\n      <td>0</td>\n      <td>16.33</td>\n      <td>0.00</td>\n      <td>...</td>\n      <td>None</td>\n      <td>None</td>\n      <td>None</td>\n      <td>1530611385</td>\n      <td>13</td>\n      <td>{\"source:maxspeed\":\"sign\"}</td>\n      <td>way</td>\n      <td>MULTILINESTRING ((16.54352 49.16684, 16.54319 ...</td>\n      <td>380.0</td>\n      <td>NaN</td>\n    </tr>\n    <tr>\n      <th>4019435</th>\n      <td>50</td>\n      <td>0</td>\n      <td>25</td>\n      <td>0</td>\n      <td>20</td>\n      <td>0</td>\n      <td>30</td>\n      <td>0</td>\n      <td>17.68</td>\n      <td>0.00</td>\n      <td>...</td>\n      <td>None</td>\n      <td>None</td>\n      <td>None</td>\n      <td>1639339626</td>\n      <td>10</td>\n      <td>{\"source\":\"uhul:ortofoto\"}</td>\n      <td>way</td>\n      <td>MULTILINESTRING ((16.56420 49.17379, 16.56420 ...</td>\n      <td>338.0</td>\n      <td>NaN</td>\n    </tr>\n    <tr>\n      <th>4019437</th>\n      <td>1100</td>\n      <td>990</td>\n      <td>140</td>\n      <td>220</td>\n      <td>55</td>\n      <td>55</td>\n      <td>1045</td>\n      <td>935</td>\n      <td>21.31</td>\n      <td>23.57</td>\n      <td>...</td>\n      <td>None</td>\n      <td>None</td>\n      <td>None</td>\n      <td>1648299982</td>\n      <td>16</td>\n      <td>None</td>\n      <td>way</td>\n      <td>MULTILINESTRING ((16.56755 49.16300, 16.56762 ...</td>\n      <td>166.0</td>\n      <td>NaN</td>\n    </tr>\n  </tbody>\n</table>\n<p>5 rows × 49 columns</p>\n</div>"
     },
     "execution_count": 19,
     "metadata": {},
     "output_type": "execute_result"
    }
   ],
   "source": [
    "# group edges into one OSM way (some columns will need to be averaged, not summed)\n",
    "strava_grouped_df = strava_cropped_df.groupby(['osm_reference_id']).sum()\n",
    "model = strava_grouped_df.join(basemap_network.set_index('id'), on='osm_reference_id', how='inner')\n",
    "model = model.drop_duplicates()\n",
    "# https://www.openstreetmap.org/way/{id}\n",
    "model.head()"
   ],
   "metadata": {
    "collapsed": false,
    "pycharm": {
     "name": "#%%\n"
    }
   }
  },
  {
   "cell_type": "code",
   "execution_count": 20,
   "outputs": [
    {
     "name": "stdout",
     "output_type": "stream",
     "text": [
      "(27050, 49)\n"
     ]
    },
    {
     "data": {
      "text/plain": "                  forward_trip_count  reverse_trip_count  \\\nosm_reference_id                                           \n4019269                           30                   0   \n4019432                          805                 745   \n4019434                            5                   0   \n4019435                           50                   0   \n4019437                         1100                 990   \n...                              ...                 ...   \n1023721767                         5                   0   \n1023721771                       170                 395   \n1023721772                        40                   5   \n1023960623                        15                  25   \n1023970740                       640                 735   \n\n                  forward_people_count  reverse_people_count  \\\nosm_reference_id                                               \n4019269                             10                     0   \n4019432                            265                   270   \n4019434                              5                     0   \n4019435                             25                     0   \n4019437                            140                   220   \n...                                ...                   ...   \n1023721767                           0                     0   \n1023721771                         105                   170   \n1023721772                          35                     5   \n1023960623                          10                    10   \n1023970740                         290                   400   \n\n                  forward_commute_trip_count  reverse_commute_trip_count  \\\nosm_reference_id                                                           \n4019269                                    0                           0   \n4019432                                  140                         105   \n4019434                                    0                           0   \n4019435                                   20                           0   \n4019437                                   55                          55   \n...                                      ...                         ...   \n1023721767                                 0                           0   \n1023721771                                10                          15   \n1023721772                                15                           0   \n1023960623                                 0                           0   \n1023970740                               150                          85   \n\n                  forward_leisure_trip_count  reverse_leisure_trip_count  \\\nosm_reference_id                                                           \n4019269                                   30                           0   \n4019432                                  665                         640   \n4019434                                    5                           0   \n4019435                                   30                           0   \n4019437                                 1045                         935   \n...                                      ...                         ...   \n1023721767                                 5                           0   \n1023721771                               160                         380   \n1023721772                                25                           5   \n1023960623                                15                          25   \n1023970740                               490                         650   \n\n                  forward_average_speed  reverse_average_speed  ... tunnel  \\\nosm_reference_id                                                ...          \n4019269                           18.06                   0.00  ...   None   \n4019432                            4.29                   9.82  ...   None   \n4019434                           16.33                   0.00  ...   None   \n4019435                           17.68                   0.00  ...   None   \n4019437                           21.31                  23.57  ...   None   \n...                                 ...                    ...  ...    ...   \n1023721767                         0.00                   0.00  ...   None   \n1023721771                         3.09                   6.97  ...   None   \n1023721772                        12.97                   2.14  ...   None   \n1023960623                        10.20                   7.83  ...   None   \n1023970740                         6.94                  10.04  ...   None   \n\n                  turn width   timestamp version  \\\nosm_reference_id                                   \n4019269           None  None  1556088822      16   \n4019432           None  None  1611510572      10   \n4019434           None  None  1530611385      13   \n4019435           None  None  1639339626      10   \n4019437           None  None  1648299982      16   \n...                ...   ...         ...     ...   \n1023721767        None  None  1644149494       2   \n1023721771        None  None  1642884868       1   \n1023721772        None  None  1661716762       2   \n1023960623        None  None  1642950670       2   \n1023970740        None  None  1651165866       4   \n\n                                                               tags osm_type  \\\nosm_reference_id                                                               \n4019269           {\"layer\":\"1\",\"source:maxspeed\":\"CZ:urban_trunk...      way   \n4019432           {\"source:maxspeed\":\"CZ:rural\",\"source:ref\":\"rs...      way   \n4019434                                  {\"source:maxspeed\":\"sign\"}      way   \n4019435                                  {\"source\":\"uhul:ortofoto\"}      way   \n4019437                                                        None      way   \n...                                                             ...      ...   \n1023721767                                                     None      way   \n1023721771                                                     None      way   \n1023721772                                                     None      way   \n1023960623                        {\"source\":\"uhul:ortofoto;survey\"}      way   \n1023970740               {\"shoulder\":\"no\",\"source\":\"uhul:ortofoto\"}      way   \n\n                                                           geometry length  \\\nosm_reference_id                                                             \n4019269           MULTILINESTRING ((16.56569 49.18349, 16.56527 ...   81.0   \n4019432           MULTILINESTRING ((16.52347 49.17080, 16.52324 ...  159.0   \n4019434           MULTILINESTRING ((16.54352 49.16684, 16.54319 ...  380.0   \n4019435           MULTILINESTRING ((16.56420 49.17379, 16.56420 ...  338.0   \n4019437           MULTILINESTRING ((16.56755 49.16300, 16.56762 ...  166.0   \n...                                                             ...    ...   \n1023721767        MULTILINESTRING ((16.58372 49.24982, 16.58388 ...   27.0   \n1023721771        MULTILINESTRING ((16.56073 49.25148, 16.56098 ...  363.0   \n1023721772        MULTILINESTRING ((16.58314 49.25817, 16.58319 ...  111.0   \n1023960623        MULTILINESTRING ((16.71887 49.17968, 16.71869 ...  105.0   \n1023970740        MULTILINESTRING ((16.76251 49.13887, 16.76205 ...   62.0   \n\n                 path  \nosm_reference_id       \n4019269           NaN  \n4019432           NaN  \n4019434           NaN  \n4019435           NaN  \n4019437           NaN  \n...               ...  \n1023721767        NaN  \n1023721771        NaN  \n1023721772        NaN  \n1023960623        NaN  \n1023970740        NaN  \n\n[27050 rows x 49 columns]",
      "text/html": "<div>\n<style scoped>\n    .dataframe tbody tr th:only-of-type {\n        vertical-align: middle;\n    }\n\n    .dataframe tbody tr th {\n        vertical-align: top;\n    }\n\n    .dataframe thead th {\n        text-align: right;\n    }\n</style>\n<table border=\"1\" class=\"dataframe\">\n  <thead>\n    <tr style=\"text-align: right;\">\n      <th></th>\n      <th>forward_trip_count</th>\n      <th>reverse_trip_count</th>\n      <th>forward_people_count</th>\n      <th>reverse_people_count</th>\n      <th>forward_commute_trip_count</th>\n      <th>reverse_commute_trip_count</th>\n      <th>forward_leisure_trip_count</th>\n      <th>reverse_leisure_trip_count</th>\n      <th>forward_average_speed</th>\n      <th>reverse_average_speed</th>\n      <th>...</th>\n      <th>tunnel</th>\n      <th>turn</th>\n      <th>width</th>\n      <th>timestamp</th>\n      <th>version</th>\n      <th>tags</th>\n      <th>osm_type</th>\n      <th>geometry</th>\n      <th>length</th>\n      <th>path</th>\n    </tr>\n    <tr>\n      <th>osm_reference_id</th>\n      <th></th>\n      <th></th>\n      <th></th>\n      <th></th>\n      <th></th>\n      <th></th>\n      <th></th>\n      <th></th>\n      <th></th>\n      <th></th>\n      <th></th>\n      <th></th>\n      <th></th>\n      <th></th>\n      <th></th>\n      <th></th>\n      <th></th>\n      <th></th>\n      <th></th>\n      <th></th>\n      <th></th>\n    </tr>\n  </thead>\n  <tbody>\n    <tr>\n      <th>4019269</th>\n      <td>30</td>\n      <td>0</td>\n      <td>10</td>\n      <td>0</td>\n      <td>0</td>\n      <td>0</td>\n      <td>30</td>\n      <td>0</td>\n      <td>18.06</td>\n      <td>0.00</td>\n      <td>...</td>\n      <td>None</td>\n      <td>None</td>\n      <td>None</td>\n      <td>1556088822</td>\n      <td>16</td>\n      <td>{\"layer\":\"1\",\"source:maxspeed\":\"CZ:urban_trunk...</td>\n      <td>way</td>\n      <td>MULTILINESTRING ((16.56569 49.18349, 16.56527 ...</td>\n      <td>81.0</td>\n      <td>NaN</td>\n    </tr>\n    <tr>\n      <th>4019432</th>\n      <td>805</td>\n      <td>745</td>\n      <td>265</td>\n      <td>270</td>\n      <td>140</td>\n      <td>105</td>\n      <td>665</td>\n      <td>640</td>\n      <td>4.29</td>\n      <td>9.82</td>\n      <td>...</td>\n      <td>None</td>\n      <td>None</td>\n      <td>None</td>\n      <td>1611510572</td>\n      <td>10</td>\n      <td>{\"source:maxspeed\":\"CZ:rural\",\"source:ref\":\"rs...</td>\n      <td>way</td>\n      <td>MULTILINESTRING ((16.52347 49.17080, 16.52324 ...</td>\n      <td>159.0</td>\n      <td>NaN</td>\n    </tr>\n    <tr>\n      <th>4019434</th>\n      <td>5</td>\n      <td>0</td>\n      <td>5</td>\n      <td>0</td>\n      <td>0</td>\n      <td>0</td>\n      <td>5</td>\n      <td>0</td>\n      <td>16.33</td>\n      <td>0.00</td>\n      <td>...</td>\n      <td>None</td>\n      <td>None</td>\n      <td>None</td>\n      <td>1530611385</td>\n      <td>13</td>\n      <td>{\"source:maxspeed\":\"sign\"}</td>\n      <td>way</td>\n      <td>MULTILINESTRING ((16.54352 49.16684, 16.54319 ...</td>\n      <td>380.0</td>\n      <td>NaN</td>\n    </tr>\n    <tr>\n      <th>4019435</th>\n      <td>50</td>\n      <td>0</td>\n      <td>25</td>\n      <td>0</td>\n      <td>20</td>\n      <td>0</td>\n      <td>30</td>\n      <td>0</td>\n      <td>17.68</td>\n      <td>0.00</td>\n      <td>...</td>\n      <td>None</td>\n      <td>None</td>\n      <td>None</td>\n      <td>1639339626</td>\n      <td>10</td>\n      <td>{\"source\":\"uhul:ortofoto\"}</td>\n      <td>way</td>\n      <td>MULTILINESTRING ((16.56420 49.17379, 16.56420 ...</td>\n      <td>338.0</td>\n      <td>NaN</td>\n    </tr>\n    <tr>\n      <th>4019437</th>\n      <td>1100</td>\n      <td>990</td>\n      <td>140</td>\n      <td>220</td>\n      <td>55</td>\n      <td>55</td>\n      <td>1045</td>\n      <td>935</td>\n      <td>21.31</td>\n      <td>23.57</td>\n      <td>...</td>\n      <td>None</td>\n      <td>None</td>\n      <td>None</td>\n      <td>1648299982</td>\n      <td>16</td>\n      <td>None</td>\n      <td>way</td>\n      <td>MULTILINESTRING ((16.56755 49.16300, 16.56762 ...</td>\n      <td>166.0</td>\n      <td>NaN</td>\n    </tr>\n    <tr>\n      <th>...</th>\n      <td>...</td>\n      <td>...</td>\n      <td>...</td>\n      <td>...</td>\n      <td>...</td>\n      <td>...</td>\n      <td>...</td>\n      <td>...</td>\n      <td>...</td>\n      <td>...</td>\n      <td>...</td>\n      <td>...</td>\n      <td>...</td>\n      <td>...</td>\n      <td>...</td>\n      <td>...</td>\n      <td>...</td>\n      <td>...</td>\n      <td>...</td>\n      <td>...</td>\n      <td>...</td>\n    </tr>\n    <tr>\n      <th>1023721767</th>\n      <td>5</td>\n      <td>0</td>\n      <td>0</td>\n      <td>0</td>\n      <td>0</td>\n      <td>0</td>\n      <td>5</td>\n      <td>0</td>\n      <td>0.00</td>\n      <td>0.00</td>\n      <td>...</td>\n      <td>None</td>\n      <td>None</td>\n      <td>None</td>\n      <td>1644149494</td>\n      <td>2</td>\n      <td>None</td>\n      <td>way</td>\n      <td>MULTILINESTRING ((16.58372 49.24982, 16.58388 ...</td>\n      <td>27.0</td>\n      <td>NaN</td>\n    </tr>\n    <tr>\n      <th>1023721771</th>\n      <td>170</td>\n      <td>395</td>\n      <td>105</td>\n      <td>170</td>\n      <td>10</td>\n      <td>15</td>\n      <td>160</td>\n      <td>380</td>\n      <td>3.09</td>\n      <td>6.97</td>\n      <td>...</td>\n      <td>None</td>\n      <td>None</td>\n      <td>None</td>\n      <td>1642884868</td>\n      <td>1</td>\n      <td>None</td>\n      <td>way</td>\n      <td>MULTILINESTRING ((16.56073 49.25148, 16.56098 ...</td>\n      <td>363.0</td>\n      <td>NaN</td>\n    </tr>\n    <tr>\n      <th>1023721772</th>\n      <td>40</td>\n      <td>5</td>\n      <td>35</td>\n      <td>5</td>\n      <td>15</td>\n      <td>0</td>\n      <td>25</td>\n      <td>5</td>\n      <td>12.97</td>\n      <td>2.14</td>\n      <td>...</td>\n      <td>None</td>\n      <td>None</td>\n      <td>None</td>\n      <td>1661716762</td>\n      <td>2</td>\n      <td>None</td>\n      <td>way</td>\n      <td>MULTILINESTRING ((16.58314 49.25817, 16.58319 ...</td>\n      <td>111.0</td>\n      <td>NaN</td>\n    </tr>\n    <tr>\n      <th>1023960623</th>\n      <td>15</td>\n      <td>25</td>\n      <td>10</td>\n      <td>10</td>\n      <td>0</td>\n      <td>0</td>\n      <td>15</td>\n      <td>25</td>\n      <td>10.20</td>\n      <td>7.83</td>\n      <td>...</td>\n      <td>None</td>\n      <td>None</td>\n      <td>None</td>\n      <td>1642950670</td>\n      <td>2</td>\n      <td>{\"source\":\"uhul:ortofoto;survey\"}</td>\n      <td>way</td>\n      <td>MULTILINESTRING ((16.71887 49.17968, 16.71869 ...</td>\n      <td>105.0</td>\n      <td>NaN</td>\n    </tr>\n    <tr>\n      <th>1023970740</th>\n      <td>640</td>\n      <td>735</td>\n      <td>290</td>\n      <td>400</td>\n      <td>150</td>\n      <td>85</td>\n      <td>490</td>\n      <td>650</td>\n      <td>6.94</td>\n      <td>10.04</td>\n      <td>...</td>\n      <td>None</td>\n      <td>None</td>\n      <td>None</td>\n      <td>1651165866</td>\n      <td>4</td>\n      <td>{\"shoulder\":\"no\",\"source\":\"uhul:ortofoto\"}</td>\n      <td>way</td>\n      <td>MULTILINESTRING ((16.76251 49.13887, 16.76205 ...</td>\n      <td>62.0</td>\n      <td>NaN</td>\n    </tr>\n  </tbody>\n</table>\n<p>27050 rows × 49 columns</p>\n</div>"
     },
     "execution_count": 20,
     "metadata": {},
     "output_type": "execute_result"
    }
   ],
   "source": [
    "print(model.shape)\n",
    "model"
   ],
   "metadata": {
    "collapsed": false,
    "pycharm": {
     "name": "#%%\n"
    }
   }
  },
  {
   "cell_type": "code",
   "execution_count": 7,
   "outputs": [],
   "source": [
    "model.to_csv('model.csv', sep=';')\n"
   ],
   "metadata": {
    "collapsed": false,
    "pycharm": {
     "name": "#%%\n"
    }
   }
  },
  {
   "cell_type": "code",
   "execution_count": 45,
   "outputs": [],
   "source": [
    "import utils\n",
    "\n",
    "counters = counters_df['geometry'].unique()\n",
    "for i, item in enumerate(counters):\n",
    "    # within <- exact match fails (needs threshold), better to use distance (TODO: find optimal threshold)\n",
    "    model[f'counter{i}'] = model['geometry'].apply(lambda x: utils.is_point_on_line(item, x))\n"
   ],
   "metadata": {
    "collapsed": false,
    "pycharm": {
     "name": "#%%\n"
    }
   }
  },
  {
   "cell_type": "code",
   "execution_count": 46,
   "outputs": [
    {
     "name": "stdout",
     "output_type": "stream",
     "text": [
      "[False]\n",
      "[False]\n",
      "[False]\n",
      "[False]\n",
      "[False]\n",
      "[False]\n",
      "[False]\n",
      "[False]\n",
      "[False]\n",
      "[False]\n",
      "[False]\n",
      "[False]\n",
      "[False]\n",
      "[False]\n",
      "[False]\n",
      "[False]\n",
      "[False]\n",
      "[False]\n",
      "[False]\n"
     ]
    }
   ],
   "source": [
    "for i in range(len(counters)):\n",
    "    print(model[f'counter{i}'].unique())\n"
   ],
   "metadata": {
    "collapsed": false,
    "pycharm": {
     "name": "#%%\n"
    }
   }
  },
  {
   "cell_type": "code",
   "execution_count": null,
   "outputs": [],
   "source": [],
   "metadata": {
    "collapsed": false,
    "pycharm": {
     "name": "#%%\n"
    }
   }
  }
 ],
 "metadata": {
  "kernelspec": {
   "display_name": "Python 3",
   "language": "python",
   "name": "python3"
  },
  "language_info": {
   "codemirror_mode": {
    "name": "ipython",
    "version": 2
   },
   "file_extension": ".py",
   "mimetype": "text/x-python",
   "name": "python",
   "nbconvert_exporter": "python",
   "pygments_lexer": "ipython2",
   "version": "2.7.6"
  }
 },
 "nbformat": 4,
 "nbformat_minor": 0
}