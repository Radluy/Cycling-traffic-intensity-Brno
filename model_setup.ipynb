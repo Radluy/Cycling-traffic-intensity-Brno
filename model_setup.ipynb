{
 "cells": [
  {
   "cell_type": "code",
   "execution_count": 5,
   "metadata": {
    "collapsed": true,
    "pycharm": {
     "name": "#%%\n"
    }
   },
   "outputs": [],
   "source": [
    "import pyrosm\n",
    "import geopandas as gpd\n",
    "import pandas as pd\n",
    "#import numpy as np\n",
    "#import seaborn as sns\n",
    "#from matplotlib import pyplot as plt\n",
    "#import contextily as cx\n",
    "import gc\n",
    "import utils"
   ]
  },
  {
   "cell_type": "code",
   "execution_count": 6,
   "outputs": [
    {
     "name": "stderr",
     "output_type": "stream",
     "text": [
      "/tmp/ipykernel_94237/136046520.py:7: FutureWarning: The frame.append method is deprecated and will be removed from pandas in a future version. Use pandas.concat instead.\n",
      "  basemap_network = driving_network.append(cycling_network)\n"
     ]
    }
   ],
   "source": [
    "# load openstreetmap basemap\n",
    "# https://www.openstreetmap.org/export - boundingbox setup\n",
    "bbox = [16.3837, 49.0946, 16.9227, 49.2884]  # [minx, miny, maxx, maxy]\n",
    "pbf_reader = pyrosm.OSM('datasets/czech_republic-latest.osm.pbf', bounding_box=bbox)\n",
    "cycling_network = pbf_reader.get_network('cycling')\n",
    "driving_network = pbf_reader.get_network('driving')\n",
    "basemap_network = driving_network.append(cycling_network)\n",
    "del cycling_network\n",
    "del driving_network\n",
    "gc.collect()\n",
    "\n",
    "# load strava data\n",
    "strava_df = pd.read_csv('datasets/strava_edges_2021.csv')\n",
    "# load bike-to-work data\n",
    "biketowork_df = gpd.read_file('datasets/do_prace_na_kole.geojson')\n",
    "# load mechanical counters data\n",
    "counters_df = gpd.read_file('datasets/cyklodetektory.geojson')\n",
    "# load driving census data\n",
    "census_df = pd.read_excel('datasets/rsd_scitanie_dopravy_2020.xlsx', skiprows=[0])"
   ],
   "metadata": {
    "collapsed": false,
    "pycharm": {
     "name": "#%%\n"
    }
   }
  },
  {
   "cell_type": "code",
   "execution_count": 7,
   "outputs": [],
   "source": [
    "# drop unnecessary columns - speedup\n",
    "strava_df = strava_df.drop([\n",
    "    'forward_morning_trip_count',\n",
    "    'reverse_morning_trip_count',\n",
    "    'forward_evening_trip_count',\n",
    "    'reverse_evening_trip_count',\n",
    "    'forward_male_people_count',\n",
    "    'reverse_male_people_count',\n",
    "    'forward_female_people_count',\n",
    "    'reverse_female_people_count',\n",
    "    'forward_unspecified_people_count',\n",
    "    'reverse_unspecified_people_count',\n",
    "    'forward_13_19_people_count',\n",
    "    'reverse_13_19_people_count',\n",
    "    'forward_20_34_people_count',\n",
    "    'reverse_20_34_people_count',\n",
    "    'forward_35_54_people_count',\n",
    "    'reverse_35_54_people_count',\n",
    "    'forward_55_64_people_count',\n",
    "    'reverse_55_64_people_count',\n",
    "    'forward_65_plus_people_count',\n",
    "    'reverse_65_plus_people_count',\n",
    "    'activity_type',\n",
    "    'year'\n",
    "], axis=1)\n",
    "# drop from counters\n",
    "counters_df = counters_df.drop([\n",
    "    'ID',\n",
    "    'FirstDirection_Name',\n",
    "    'FirstDirection_Pedestrians',\n",
    "    'FirstDirection_Total',\n",
    "    'SecondDirection_Name',\n",
    "    'SecondDirection_Pedestrians',\n",
    "    'SecondDirection_Total',\n",
    "    'LocationId',\n",
    "    'Latitude',\n",
    "    'Longitude',\n",
    "], axis=1)\n",
    "counters_df\n",
    "\n",
    "census_df = census_df[census_df['NÁZEV_MĚSTA'] == 'Brno']"
   ],
   "metadata": {
    "collapsed": false,
    "pycharm": {
     "name": "#%%\n"
    }
   }
  },
  {
   "cell_type": "code",
   "execution_count": 4,
   "outputs": [
    {
     "name": "stdout",
     "output_type": "stream",
     "text": [
      "(59823, 40)\n",
      "(193812, 12)\n"
     ]
    }
   ],
   "source": [
    "print(basemap_network.shape)\n",
    "print(strava_df.shape)"
   ],
   "metadata": {
    "collapsed": false,
    "pycharm": {
     "name": "#%%\n"
    }
   }
  },
  {
   "cell_type": "code",
   "execution_count": 8,
   "outputs": [
    {
     "name": "stdout",
     "output_type": "stream",
     "text": [
      "(55058, 51)\n"
     ]
    },
    {
     "data": {
      "text/plain": "         edge_uid  forward_trip_count  reverse_trip_count  \\\n20      161016343                 140                 220   \n21      161019607                  40                  55   \n119579  161019604                  45                  45   \n131142  161019599                  35                  40   \n22      161021372                  65                  25   \n\n        forward_people_count  reverse_people_count  \\\n20                        95                   135   \n21                        20                    25   \n119579                    15                    10   \n131142                    15                    20   \n22                        45                    20   \n\n        forward_commute_trip_count  reverse_commute_trip_count  \\\n20                               5                          10   \n21                               5                          10   \n119579                           5                          10   \n131142                           5                           5   \n22                               5                           0   \n\n        forward_leisure_trip_count  reverse_leisure_trip_count  \\\n20                             135                         210   \n21                              35                          45   \n119579                          40                          35   \n131142                          30                          35   \n22                              60                          25   \n\n        forward_average_speed  ...  tunnel  turn width   timestamp version  \\\n20                       5.48  ...    None  None  None  1534974133       2   \n21                       0.90  ...    None  None  None  1535317104       2   \n119579                   0.51  ...    None  None  None  1535317104       2   \n131142                   6.91  ...    None  None  None  1535317104       2   \n22                       5.09  ...    None  None  None  1660129784       7   \n\n                                                     tags osm_type  \\\n20         {\"mtb:scale\":\"0\",\"source\":\"gps;uhul:ortofoto\"}      way   \n21                                   {\"source\":\"cuzk:km\"}      way   \n119579                               {\"source\":\"cuzk:km\"}      way   \n131142                               {\"source\":\"cuzk:km\"}      way   \n22      {\"source\":\"uhul:ortofoto\",\"source:maxspeed\":\"C...      way   \n\n                                                 geometry length  path  \n20      MULTILINESTRING ((16.41994 49.17335, 16.42037 ...  118.0  None  \n21      MULTILINESTRING ((16.50526 49.15238, 16.50531 ...   84.0   NaN  \n119579  MULTILINESTRING ((16.50526 49.15238, 16.50531 ...   84.0   NaN  \n131142  MULTILINESTRING ((16.50526 49.15238, 16.50531 ...   84.0   NaN  \n22      MULTILINESTRING ((16.47988 49.20669, 16.47977 ...  488.0   NaN  \n\n[5 rows x 51 columns]",
      "text/html": "<div>\n<style scoped>\n    .dataframe tbody tr th:only-of-type {\n        vertical-align: middle;\n    }\n\n    .dataframe tbody tr th {\n        vertical-align: top;\n    }\n\n    .dataframe thead th {\n        text-align: right;\n    }\n</style>\n<table border=\"1\" class=\"dataframe\">\n  <thead>\n    <tr style=\"text-align: right;\">\n      <th></th>\n      <th>edge_uid</th>\n      <th>forward_trip_count</th>\n      <th>reverse_trip_count</th>\n      <th>forward_people_count</th>\n      <th>reverse_people_count</th>\n      <th>forward_commute_trip_count</th>\n      <th>reverse_commute_trip_count</th>\n      <th>forward_leisure_trip_count</th>\n      <th>reverse_leisure_trip_count</th>\n      <th>forward_average_speed</th>\n      <th>...</th>\n      <th>tunnel</th>\n      <th>turn</th>\n      <th>width</th>\n      <th>timestamp</th>\n      <th>version</th>\n      <th>tags</th>\n      <th>osm_type</th>\n      <th>geometry</th>\n      <th>length</th>\n      <th>path</th>\n    </tr>\n  </thead>\n  <tbody>\n    <tr>\n      <th>20</th>\n      <td>161016343</td>\n      <td>140</td>\n      <td>220</td>\n      <td>95</td>\n      <td>135</td>\n      <td>5</td>\n      <td>10</td>\n      <td>135</td>\n      <td>210</td>\n      <td>5.48</td>\n      <td>...</td>\n      <td>None</td>\n      <td>None</td>\n      <td>None</td>\n      <td>1534974133</td>\n      <td>2</td>\n      <td>{\"mtb:scale\":\"0\",\"source\":\"gps;uhul:ortofoto\"}</td>\n      <td>way</td>\n      <td>MULTILINESTRING ((16.41994 49.17335, 16.42037 ...</td>\n      <td>118.0</td>\n      <td>None</td>\n    </tr>\n    <tr>\n      <th>21</th>\n      <td>161019607</td>\n      <td>40</td>\n      <td>55</td>\n      <td>20</td>\n      <td>25</td>\n      <td>5</td>\n      <td>10</td>\n      <td>35</td>\n      <td>45</td>\n      <td>0.90</td>\n      <td>...</td>\n      <td>None</td>\n      <td>None</td>\n      <td>None</td>\n      <td>1535317104</td>\n      <td>2</td>\n      <td>{\"source\":\"cuzk:km\"}</td>\n      <td>way</td>\n      <td>MULTILINESTRING ((16.50526 49.15238, 16.50531 ...</td>\n      <td>84.0</td>\n      <td>NaN</td>\n    </tr>\n    <tr>\n      <th>119579</th>\n      <td>161019604</td>\n      <td>45</td>\n      <td>45</td>\n      <td>15</td>\n      <td>10</td>\n      <td>5</td>\n      <td>10</td>\n      <td>40</td>\n      <td>35</td>\n      <td>0.51</td>\n      <td>...</td>\n      <td>None</td>\n      <td>None</td>\n      <td>None</td>\n      <td>1535317104</td>\n      <td>2</td>\n      <td>{\"source\":\"cuzk:km\"}</td>\n      <td>way</td>\n      <td>MULTILINESTRING ((16.50526 49.15238, 16.50531 ...</td>\n      <td>84.0</td>\n      <td>NaN</td>\n    </tr>\n    <tr>\n      <th>131142</th>\n      <td>161019599</td>\n      <td>35</td>\n      <td>40</td>\n      <td>15</td>\n      <td>20</td>\n      <td>5</td>\n      <td>5</td>\n      <td>30</td>\n      <td>35</td>\n      <td>6.91</td>\n      <td>...</td>\n      <td>None</td>\n      <td>None</td>\n      <td>None</td>\n      <td>1535317104</td>\n      <td>2</td>\n      <td>{\"source\":\"cuzk:km\"}</td>\n      <td>way</td>\n      <td>MULTILINESTRING ((16.50526 49.15238, 16.50531 ...</td>\n      <td>84.0</td>\n      <td>NaN</td>\n    </tr>\n    <tr>\n      <th>22</th>\n      <td>161021372</td>\n      <td>65</td>\n      <td>25</td>\n      <td>45</td>\n      <td>20</td>\n      <td>5</td>\n      <td>0</td>\n      <td>60</td>\n      <td>25</td>\n      <td>5.09</td>\n      <td>...</td>\n      <td>None</td>\n      <td>None</td>\n      <td>None</td>\n      <td>1660129784</td>\n      <td>7</td>\n      <td>{\"source\":\"uhul:ortofoto\",\"source:maxspeed\":\"C...</td>\n      <td>way</td>\n      <td>MULTILINESTRING ((16.47988 49.20669, 16.47977 ...</td>\n      <td>488.0</td>\n      <td>NaN</td>\n    </tr>\n  </tbody>\n</table>\n<p>5 rows × 51 columns</p>\n</div>"
     },
     "execution_count": 8,
     "metadata": {},
     "output_type": "execute_result"
    }
   ],
   "source": [
    "# create model from basemap and strava data\n",
    "model = strava_df.join(basemap_network.set_index('id'), on='osm_reference_id', how='inner')\n",
    "del basemap_network\n",
    "del strava_df\n",
    "gc.collect()\n",
    "model = model.drop_duplicates()\n",
    "# https://www.openstreetmap.org/way/{id}\n",
    "print(model.shape)\n",
    "model.head()"
   ],
   "metadata": {
    "collapsed": false,
    "pycharm": {
     "name": "#%%\n"
    }
   }
  },
  {
   "cell_type": "code",
   "execution_count": 9,
   "outputs": [
    {
     "data": {
      "text/plain": "         edge_uid  forward_trip_count  reverse_trip_count  \\\n20      161016343                 140                 220   \n21      161019607                  40                  55   \n119579  161019604                  45                  45   \n131142  161019599                  35                  40   \n22      161021372                  65                  25   \n\n        forward_people_count  reverse_people_count  \\\n20                        95                   135   \n21                        20                    25   \n119579                    15                    10   \n131142                    15                    20   \n22                        45                    20   \n\n        forward_commute_trip_count  reverse_commute_trip_count  \\\n20                               5                          10   \n21                               5                          10   \n119579                           5                          10   \n131142                           5                           5   \n22                               5                           0   \n\n        forward_leisure_trip_count  reverse_leisure_trip_count  \\\n20                             135                         210   \n21                              35                          45   \n119579                          40                          35   \n131142                          30                          35   \n22                              60                          25   \n\n        forward_average_speed  ...  distance9  distance10 distance11  \\\n20                       5.48  ...   0.187800    0.188094   0.204763   \n21                       0.90  ...   0.112711    0.113014   0.119325   \n119579                   0.51  ...   0.112711    0.113014   0.119325   \n131142                   6.91  ...   0.112711    0.113014   0.119325   \n22                       5.09  ...   0.127116    0.127391   0.154237   \n\n       distance12 distance13 distance14 distance15 distance16 distance17  \\\n20       0.183556   0.210700   0.266757   0.184477   0.210774   0.260703   \n21       0.104054   0.124344   0.194584   0.105237   0.124393   0.188805   \n119579   0.104054   0.124344   0.194584   0.105237   0.124393   0.188805   \n131142   0.104054   0.124344   0.194584   0.105237   0.124393   0.188805   \n22       0.126350   0.162300   0.202624   0.126990   0.162448   0.196541   \n\n       distance18  \n20       0.209083  \n21       0.127482  \n119579   0.127482  \n131142   0.127482  \n22       0.152700  \n\n[5 rows x 70 columns]",
      "text/html": "<div>\n<style scoped>\n    .dataframe tbody tr th:only-of-type {\n        vertical-align: middle;\n    }\n\n    .dataframe tbody tr th {\n        vertical-align: top;\n    }\n\n    .dataframe thead th {\n        text-align: right;\n    }\n</style>\n<table border=\"1\" class=\"dataframe\">\n  <thead>\n    <tr style=\"text-align: right;\">\n      <th></th>\n      <th>edge_uid</th>\n      <th>forward_trip_count</th>\n      <th>reverse_trip_count</th>\n      <th>forward_people_count</th>\n      <th>reverse_people_count</th>\n      <th>forward_commute_trip_count</th>\n      <th>reverse_commute_trip_count</th>\n      <th>forward_leisure_trip_count</th>\n      <th>reverse_leisure_trip_count</th>\n      <th>forward_average_speed</th>\n      <th>...</th>\n      <th>distance9</th>\n      <th>distance10</th>\n      <th>distance11</th>\n      <th>distance12</th>\n      <th>distance13</th>\n      <th>distance14</th>\n      <th>distance15</th>\n      <th>distance16</th>\n      <th>distance17</th>\n      <th>distance18</th>\n    </tr>\n  </thead>\n  <tbody>\n    <tr>\n      <th>20</th>\n      <td>161016343</td>\n      <td>140</td>\n      <td>220</td>\n      <td>95</td>\n      <td>135</td>\n      <td>5</td>\n      <td>10</td>\n      <td>135</td>\n      <td>210</td>\n      <td>5.48</td>\n      <td>...</td>\n      <td>0.187800</td>\n      <td>0.188094</td>\n      <td>0.204763</td>\n      <td>0.183556</td>\n      <td>0.210700</td>\n      <td>0.266757</td>\n      <td>0.184477</td>\n      <td>0.210774</td>\n      <td>0.260703</td>\n      <td>0.209083</td>\n    </tr>\n    <tr>\n      <th>21</th>\n      <td>161019607</td>\n      <td>40</td>\n      <td>55</td>\n      <td>20</td>\n      <td>25</td>\n      <td>5</td>\n      <td>10</td>\n      <td>35</td>\n      <td>45</td>\n      <td>0.90</td>\n      <td>...</td>\n      <td>0.112711</td>\n      <td>0.113014</td>\n      <td>0.119325</td>\n      <td>0.104054</td>\n      <td>0.124344</td>\n      <td>0.194584</td>\n      <td>0.105237</td>\n      <td>0.124393</td>\n      <td>0.188805</td>\n      <td>0.127482</td>\n    </tr>\n    <tr>\n      <th>119579</th>\n      <td>161019604</td>\n      <td>45</td>\n      <td>45</td>\n      <td>15</td>\n      <td>10</td>\n      <td>5</td>\n      <td>10</td>\n      <td>40</td>\n      <td>35</td>\n      <td>0.51</td>\n      <td>...</td>\n      <td>0.112711</td>\n      <td>0.113014</td>\n      <td>0.119325</td>\n      <td>0.104054</td>\n      <td>0.124344</td>\n      <td>0.194584</td>\n      <td>0.105237</td>\n      <td>0.124393</td>\n      <td>0.188805</td>\n      <td>0.127482</td>\n    </tr>\n    <tr>\n      <th>131142</th>\n      <td>161019599</td>\n      <td>35</td>\n      <td>40</td>\n      <td>15</td>\n      <td>20</td>\n      <td>5</td>\n      <td>5</td>\n      <td>30</td>\n      <td>35</td>\n      <td>6.91</td>\n      <td>...</td>\n      <td>0.112711</td>\n      <td>0.113014</td>\n      <td>0.119325</td>\n      <td>0.104054</td>\n      <td>0.124344</td>\n      <td>0.194584</td>\n      <td>0.105237</td>\n      <td>0.124393</td>\n      <td>0.188805</td>\n      <td>0.127482</td>\n    </tr>\n    <tr>\n      <th>22</th>\n      <td>161021372</td>\n      <td>65</td>\n      <td>25</td>\n      <td>45</td>\n      <td>20</td>\n      <td>5</td>\n      <td>0</td>\n      <td>60</td>\n      <td>25</td>\n      <td>5.09</td>\n      <td>...</td>\n      <td>0.127116</td>\n      <td>0.127391</td>\n      <td>0.154237</td>\n      <td>0.126350</td>\n      <td>0.162300</td>\n      <td>0.202624</td>\n      <td>0.126990</td>\n      <td>0.162448</td>\n      <td>0.196541</td>\n      <td>0.152700</td>\n    </tr>\n  </tbody>\n</table>\n<p>5 rows × 70 columns</p>\n</div>"
     },
     "execution_count": 9,
     "metadata": {},
     "output_type": "execute_result"
    }
   ],
   "source": [
    "# load distances between ways and mechanical counter units\n",
    "counters = counters_df['geometry'].unique()\n",
    "for i, item in enumerate(counters):\n",
    "    # within <- exact match fails (needs threshold), better to use distance\n",
    "    model[f'distance{i}'] = model['geometry'].apply(lambda x: x.distance(item))\n",
    "\n",
    "counter_units = []\n",
    "for counter_geo in counters:\n",
    "    counter_units.append(counters_df[counters_df['geometry']==counter_geo]['UnitName'].unique()[0])\n",
    "\n",
    "model.head()"
   ],
   "metadata": {
    "collapsed": false,
    "pycharm": {
     "name": "#%%\n"
    }
   }
  },
  {
   "cell_type": "code",
   "execution_count": 7,
   "outputs": [
    {
     "name": "stdout",
     "output_type": "stream",
     "text": [
      "Counter #0: (Renneska 1)\n",
      "Lon: 16.60242319100007\n",
      "Lat: 49.18369855600008\n",
      "Closest way: [76821611]\n",
      "Counter #1: (Obřany)\n",
      "Lon: 16.65878176700005\n",
      "Lat: 49.22628269300003\n",
      "Closest way: [32355469 32355469 32355469]\n",
      "Counter #2: (Renneska 2)\n",
      "Lon: 16.602337360000035\n",
      "Lat: 49.18364245400005\n",
      "Closest way: [83202890]\n",
      "Counter #3: (Královopolská)\n",
      "Lon: 16.575043201000028\n",
      "Lat: 49.21865179000008\n",
      "Closest way: [450098706 450098706 450098706 450098706 450098706 450098706 450098706\n",
      " 450098706 450098706 450098706 450098706 450098706 450098706 450098706]\n",
      "Counter #4: (Komín)\n",
      "Lon: 16.54097914700003\n",
      "Lat: 49.218532657000026\n",
      "Closest way: [736313314 736313314]\n",
      "Counter #5: (Kounicova A)\n",
      "Lon: 16.601403952000055\n",
      "Lat: 49.20196340600006\n",
      "Closest way: [632124039 632124039 632124039]\n",
      "Counter #6: (Kounicova B)\n",
      "Lon: 16.601318121000077\n",
      "Lat: 49.20225082200005\n",
      "Closest way: [109505674 109505674 109505674 109505674 109505674 109505674 109505674\n",
      " 109505674 109505674 109505674 109505674]\n",
      "Counter #7: (Jundrov)\n",
      "Lon: 16.566503048000072\n",
      "Lat: 49.20200546700005\n",
      "Closest way: [35559183 35559183]\n",
      "Counter #8: (Pisárky)\n",
      "Lon: 16.585911512000052\n",
      "Lat: 49.183649467000066\n",
      "Closest way: [221244968 221244968 221244968 221244968]\n",
      "Counter #9: (Lidicka A)\n",
      "Lon: 16.606940031000022\n",
      "Lat: 49.20293079900006\n",
      "Closest way: [226272885 226272885 226272885 226272885 226272885 226272885 226272885]\n",
      "Counter #10: (Lidicka B)\n",
      "Lon: 16.607218981000074\n",
      "Lat: 49.20304996900006\n",
      "Closest way: [112673880]\n",
      "Counter #11: (Ikea)\n",
      "Lon: 16.625436544000024\n",
      "Lat: 49.155674677000036\n",
      "Closest way: [36903982 36903982]\n",
      "Counter #12: (Nové Sady A)\n",
      "Lon: 16.604568958000073\n",
      "Lat: 49.18626515700004\n",
      "Closest way: [5586928 5586928 5586928 5586928 5586928 5586928 5586928 5586928 5586928\n",
      " 5586928]\n",
      "Counter #13: (Brněnské Ivanovice A)\n",
      "Lon: 16.630318165000062\n",
      "Lat: 49.14578010900004\n",
      "Closest way: [47235454]\n",
      "Counter #14: (Mobilní 2)\n",
      "Lon: 16.67964935300006\n",
      "Lat: 49.240577829000074\n",
      "Closest way: [54938726]\n",
      "Counter #15: (Nové Sady B)\n",
      "Lon: 16.605405807000068\n",
      "Lat: 49.18745724900003\n",
      "Closest way: [112790331 112790331 112790331]\n",
      "Counter #16: (Brněnské Ivanovice B)\n",
      "Lon: 16.63035035100006\n",
      "Lat: 49.14546429200004\n",
      "Closest way: [81716891]\n",
      "Counter #17: (Mobilní 1)\n",
      "Lon: 16.673641205000024\n",
      "Lat: 49.239625182000054\n",
      "Closest way: [640501587 640501587 640501587]\n",
      "Counter #18: (Černovice)\n",
      "Lon: 16.63040399600004\n",
      "Lat: 49.18099857300007\n",
      "Closest way: [35085817 35085817 35085817 35085817]\n"
     ]
    }
   ],
   "source": [
    "# check if counter street was found (OPTIONAL)\n",
    "for i in range(len(counters)):\n",
    "    print(f'Counter #{i}: ({counters_df[counters_df[\"geometry\"]==counters[i]][\"UnitName\"].unique()[0]})')\n",
    "    print(f'Lon: {counters[i].x}\\nLat: {counters[i].y}')\n",
    "    print(f'Closest way: {model[model[f\"distance{i}\"]==model[f\"distance{i}\"].min()][\"osm_reference_id\"].values}')"
   ],
   "metadata": {
    "collapsed": false,
    "pycharm": {
     "name": "#%%\n"
    }
   }
  },
  {
   "cell_type": "code",
   "execution_count": 10,
   "outputs": [
    {
     "data": {
      "text/plain": "   ObjectId       UnitName UnitId             EndOfInterval  \\\n0         1     Renneska 1   CAM1 2021-06-22 03:59:59+00:00   \n1         2         Obřany   CAM8 2021-06-21 17:00:00+00:00   \n2         3     Renneska 2   CAM2 2021-06-22 03:59:59+00:00   \n3         4  Královopolská   CAM9 2021-06-21 02:00:00+00:00   \n4         5          Komín   CAM3 2021-06-22 03:59:59+00:00   \n\n   FirstDirection_Cyclists  SecondDirection_Cyclists  \\\n0                      6.0                      18.0   \n1                      8.0                       5.0   \n2                     13.0                       5.0   \n3                      0.0                       0.0   \n4                     12.0                       1.0   \n\n                      datum                   geometry     way_id  \n0 2021-06-22 02:00:00+00:00  POINT (16.60242 49.18370)   76821611  \n1 2021-06-21 03:00:00+00:00  POINT (16.65878 49.22628)   32355469  \n2 2021-06-22 02:00:00+00:00  POINT (16.60234 49.18364)   83202890  \n3 2021-06-21 03:00:00+00:00  POINT (16.57504 49.21865)  450098706  \n4 2021-06-22 02:00:00+00:00  POINT (16.54098 49.21853)  736313314  ",
      "text/html": "<div>\n<style scoped>\n    .dataframe tbody tr th:only-of-type {\n        vertical-align: middle;\n    }\n\n    .dataframe tbody tr th {\n        vertical-align: top;\n    }\n\n    .dataframe thead th {\n        text-align: right;\n    }\n</style>\n<table border=\"1\" class=\"dataframe\">\n  <thead>\n    <tr style=\"text-align: right;\">\n      <th></th>\n      <th>ObjectId</th>\n      <th>UnitName</th>\n      <th>UnitId</th>\n      <th>EndOfInterval</th>\n      <th>FirstDirection_Cyclists</th>\n      <th>SecondDirection_Cyclists</th>\n      <th>datum</th>\n      <th>geometry</th>\n      <th>way_id</th>\n    </tr>\n  </thead>\n  <tbody>\n    <tr>\n      <th>0</th>\n      <td>1</td>\n      <td>Renneska 1</td>\n      <td>CAM1</td>\n      <td>2021-06-22 03:59:59+00:00</td>\n      <td>6.0</td>\n      <td>18.0</td>\n      <td>2021-06-22 02:00:00+00:00</td>\n      <td>POINT (16.60242 49.18370)</td>\n      <td>76821611</td>\n    </tr>\n    <tr>\n      <th>1</th>\n      <td>2</td>\n      <td>Obřany</td>\n      <td>CAM8</td>\n      <td>2021-06-21 17:00:00+00:00</td>\n      <td>8.0</td>\n      <td>5.0</td>\n      <td>2021-06-21 03:00:00+00:00</td>\n      <td>POINT (16.65878 49.22628)</td>\n      <td>32355469</td>\n    </tr>\n    <tr>\n      <th>2</th>\n      <td>3</td>\n      <td>Renneska 2</td>\n      <td>CAM2</td>\n      <td>2021-06-22 03:59:59+00:00</td>\n      <td>13.0</td>\n      <td>5.0</td>\n      <td>2021-06-22 02:00:00+00:00</td>\n      <td>POINT (16.60234 49.18364)</td>\n      <td>83202890</td>\n    </tr>\n    <tr>\n      <th>3</th>\n      <td>4</td>\n      <td>Královopolská</td>\n      <td>CAM9</td>\n      <td>2021-06-21 02:00:00+00:00</td>\n      <td>0.0</td>\n      <td>0.0</td>\n      <td>2021-06-21 03:00:00+00:00</td>\n      <td>POINT (16.57504 49.21865)</td>\n      <td>450098706</td>\n    </tr>\n    <tr>\n      <th>4</th>\n      <td>5</td>\n      <td>Komín</td>\n      <td>CAM3</td>\n      <td>2021-06-22 03:59:59+00:00</td>\n      <td>12.0</td>\n      <td>1.0</td>\n      <td>2021-06-22 02:00:00+00:00</td>\n      <td>POINT (16.54098 49.21853)</td>\n      <td>736313314</td>\n    </tr>\n  </tbody>\n</table>\n</div>"
     },
     "execution_count": 10,
     "metadata": {},
     "output_type": "execute_result"
    }
   ],
   "source": [
    "# draw and save edges matched to counters\n",
    "#fig = plt.figure(figsize=[20, 20], dpi=800)\n",
    "#ax = plt.axes()\n",
    "#fig.add_axes(ax)\n",
    "unit_way_dict = {}\n",
    "for i in range(len(counters)):\n",
    "    min_dist = model[model[f\"distance{i}\"]==model[f\"distance{i}\"].min()]\n",
    "    counter_matches = min_dist['geometry']\n",
    "    geoser = gpd.GeoSeries(counter_matches)\n",
    "    #geoser.plot(ax=ax)\n",
    "    json_str = geoser.to_json()\n",
    "    unit_way_dict[counter_units[i]] = min_dist['osm_reference_id'].unique()[0]\n",
    "    #with open(f'counters_matching/counter{i}_matches.geojson', 'w+') as f:\n",
    "    #    f.write(json_str)\n",
    "# append edges to counters_df\n",
    "counters_df['way_id'] = counters_df['UnitName'].map(unit_way_dict)\n",
    "#counters_df.plot(ax=ax)\n",
    "#cx.add_basemap(ax, crs=counters_df.crs, zoom=12)\n",
    "#with open(f'counters_matching/counters.geojson', 'w+') as f:\n",
    "#    f.write(gpd.GeoSeries(counters).to_json())\n",
    "\n",
    "for i in range(len(counters)):\n",
    "    model = model.drop([f'distance{i}'], axis=1)\n",
    "counters_df.head()"
   ],
   "metadata": {
    "collapsed": false,
    "pycharm": {
     "name": "#%%\n"
    }
   }
  },
  {
   "cell_type": "code",
   "execution_count": 11,
   "outputs": [],
   "source": [
    "counters_df.to_file('counters_matched.geojson', driver=\"GeoJSON\")"
   ],
   "metadata": {
    "collapsed": false,
    "pycharm": {
     "name": "#%%\n"
    }
   }
  },
  {
   "cell_type": "code",
   "execution_count": 10,
   "outputs": [],
   "source": [
    "# save final model\n",
    "model.to_csv('model.csv', sep=';')\n",
    "gpd.GeoDataFrame(model).to_file('model.geojson', driver=\"GeoJSON\")"
   ],
   "metadata": {
    "collapsed": false,
    "pycharm": {
     "name": "#%%\n"
    }
   }
  },
  {
   "cell_type": "code",
   "execution_count": 11,
   "outputs": [],
   "source": [
    "model.to_pickle('model.pkl')"
   ],
   "metadata": {
    "collapsed": false,
    "pycharm": {
     "name": "#%%\n"
    }
   }
  },
  {
   "cell_type": "markdown",
   "source": [
    "### From this point load model from pickle to skip setup"
   ],
   "metadata": {
    "collapsed": false,
    "pycharm": {
     "name": "#%% md\n"
    }
   }
  },
  {
   "cell_type": "code",
   "execution_count": 3,
   "outputs": [],
   "source": [
    "model = pd.read_pickle('model.pkl')"
   ],
   "metadata": {
    "collapsed": false,
    "pycharm": {
     "name": "#%%\n"
    }
   }
  },
  {
   "cell_type": "code",
   "execution_count": 3,
   "outputs": [
    {
     "name": "stdout",
     "output_type": "stream",
     "text": [
      "[False  True]\n"
     ]
    }
   ],
   "source": [
    "biketowork_df = gpd.read_file('datasets/do_prace_na_kole.geojson')\n",
    "row = biketowork_df[biketowork_df['GID_ROAD'] == 224865].iloc[0]\n",
    "model['way_covers'] = model['geometry'].apply(lambda x: utils.lines_overlap(row['geometry'], x))\n",
    "print(model['way_covers'].unique())\n",
    "# proof of concept works with GID=224865, 232768"
   ],
   "metadata": {
    "collapsed": false,
    "pycharm": {
     "name": "#%%\n"
    }
   }
  },
  {
   "cell_type": "code",
   "execution_count": null,
   "outputs": [],
   "source": [
    "# visual debug TMP\n",
    "gpd.GeoDataFrame(model[model['osm_reference_id'] == 5606151]).to_file('test1.geojson', driver=\"GeoJSON\")\n",
    "gpd.GeoDataFrame(row).to_file('test2.geojson', driver=\"GeoJSON\")\n"
   ],
   "metadata": {
    "collapsed": false,
    "pycharm": {
     "name": "#%%\n",
     "is_executing": true
    }
   }
  },
  {
   "cell_type": "code",
   "execution_count": 15,
   "outputs": [
    {
     "name": "stdout",
     "output_type": "stream",
     "text": [
      "5776      5606151\n",
      "61947     5606151\n",
      "62898     5606151\n",
      "188312    5606151\n",
      "6055      8134289\n",
      "77782     8134289\n",
      "136509    8134289\n",
      "Name: osm_reference_id, dtype: int64\n"
     ]
    }
   ],
   "source": [
    "print(model[model['way_covers']==True]['osm_reference_id'])\n"
   ],
   "metadata": {
    "collapsed": false,
    "pycharm": {
     "name": "#%%\n"
    }
   }
  },
  {
   "cell_type": "code",
   "execution_count": 4,
   "outputs": [
    {
     "data": {
      "text/plain": "         edge_uid  forward_trip_count  reverse_trip_count  \\\n20      161016343                 140                 220   \n21      161019607                  40                  55   \n119579  161019604                  45                  45   \n131142  161019599                  35                  40   \n22      161021372                  65                  25   \n\n        forward_people_count  reverse_people_count  \\\n20                        95                   135   \n21                        20                    25   \n119579                    15                    10   \n131142                    15                    20   \n22                        45                    20   \n\n        forward_commute_trip_count  reverse_commute_trip_count  \\\n20                               5                          10   \n21                               5                          10   \n119579                           5                          10   \n131142                           5                           5   \n22                               5                           0   \n\n        forward_leisure_trip_count  reverse_leisure_trip_count  \\\n20                             135                         210   \n21                              35                          45   \n119579                          40                          35   \n131142                          30                          35   \n22                              60                          25   \n\n        forward_average_speed  ...  tunnel  turn width   timestamp version  \\\n20                       5.48  ...    None  None  None  1534974133       2   \n21                       0.90  ...    None  None  None  1535317104       2   \n119579                   0.51  ...    None  None  None  1535317104       2   \n131142                   6.91  ...    None  None  None  1535317104       2   \n22                       5.09  ...    None  None  None  1660129784       7   \n\n                                                     tags osm_type  \\\n20         {\"mtb:scale\":\"0\",\"source\":\"gps;uhul:ortofoto\"}      way   \n21                                   {\"source\":\"cuzk:km\"}      way   \n119579                               {\"source\":\"cuzk:km\"}      way   \n131142                               {\"source\":\"cuzk:km\"}      way   \n22      {\"source\":\"uhul:ortofoto\",\"source:maxspeed\":\"C...      way   \n\n                                                 geometry length  path  \n20      MULTILINESTRING ((16.41994 49.17335, 16.42037 ...  118.0  None  \n21      MULTILINESTRING ((16.50526 49.15238, 16.50531 ...   84.0   NaN  \n119579  MULTILINESTRING ((16.50526 49.15238, 16.50531 ...   84.0   NaN  \n131142  MULTILINESTRING ((16.50526 49.15238, 16.50531 ...   84.0   NaN  \n22      MULTILINESTRING ((16.47988 49.20669, 16.47977 ...  488.0   NaN  \n\n[5 rows x 51 columns]",
      "text/html": "<div>\n<style scoped>\n    .dataframe tbody tr th:only-of-type {\n        vertical-align: middle;\n    }\n\n    .dataframe tbody tr th {\n        vertical-align: top;\n    }\n\n    .dataframe thead th {\n        text-align: right;\n    }\n</style>\n<table border=\"1\" class=\"dataframe\">\n  <thead>\n    <tr style=\"text-align: right;\">\n      <th></th>\n      <th>edge_uid</th>\n      <th>forward_trip_count</th>\n      <th>reverse_trip_count</th>\n      <th>forward_people_count</th>\n      <th>reverse_people_count</th>\n      <th>forward_commute_trip_count</th>\n      <th>reverse_commute_trip_count</th>\n      <th>forward_leisure_trip_count</th>\n      <th>reverse_leisure_trip_count</th>\n      <th>forward_average_speed</th>\n      <th>...</th>\n      <th>tunnel</th>\n      <th>turn</th>\n      <th>width</th>\n      <th>timestamp</th>\n      <th>version</th>\n      <th>tags</th>\n      <th>osm_type</th>\n      <th>geometry</th>\n      <th>length</th>\n      <th>path</th>\n    </tr>\n  </thead>\n  <tbody>\n    <tr>\n      <th>20</th>\n      <td>161016343</td>\n      <td>140</td>\n      <td>220</td>\n      <td>95</td>\n      <td>135</td>\n      <td>5</td>\n      <td>10</td>\n      <td>135</td>\n      <td>210</td>\n      <td>5.48</td>\n      <td>...</td>\n      <td>None</td>\n      <td>None</td>\n      <td>None</td>\n      <td>1534974133</td>\n      <td>2</td>\n      <td>{\"mtb:scale\":\"0\",\"source\":\"gps;uhul:ortofoto\"}</td>\n      <td>way</td>\n      <td>MULTILINESTRING ((16.41994 49.17335, 16.42037 ...</td>\n      <td>118.0</td>\n      <td>None</td>\n    </tr>\n    <tr>\n      <th>21</th>\n      <td>161019607</td>\n      <td>40</td>\n      <td>55</td>\n      <td>20</td>\n      <td>25</td>\n      <td>5</td>\n      <td>10</td>\n      <td>35</td>\n      <td>45</td>\n      <td>0.90</td>\n      <td>...</td>\n      <td>None</td>\n      <td>None</td>\n      <td>None</td>\n      <td>1535317104</td>\n      <td>2</td>\n      <td>{\"source\":\"cuzk:km\"}</td>\n      <td>way</td>\n      <td>MULTILINESTRING ((16.50526 49.15238, 16.50531 ...</td>\n      <td>84.0</td>\n      <td>NaN</td>\n    </tr>\n    <tr>\n      <th>119579</th>\n      <td>161019604</td>\n      <td>45</td>\n      <td>45</td>\n      <td>15</td>\n      <td>10</td>\n      <td>5</td>\n      <td>10</td>\n      <td>40</td>\n      <td>35</td>\n      <td>0.51</td>\n      <td>...</td>\n      <td>None</td>\n      <td>None</td>\n      <td>None</td>\n      <td>1535317104</td>\n      <td>2</td>\n      <td>{\"source\":\"cuzk:km\"}</td>\n      <td>way</td>\n      <td>MULTILINESTRING ((16.50526 49.15238, 16.50531 ...</td>\n      <td>84.0</td>\n      <td>NaN</td>\n    </tr>\n    <tr>\n      <th>131142</th>\n      <td>161019599</td>\n      <td>35</td>\n      <td>40</td>\n      <td>15</td>\n      <td>20</td>\n      <td>5</td>\n      <td>5</td>\n      <td>30</td>\n      <td>35</td>\n      <td>6.91</td>\n      <td>...</td>\n      <td>None</td>\n      <td>None</td>\n      <td>None</td>\n      <td>1535317104</td>\n      <td>2</td>\n      <td>{\"source\":\"cuzk:km\"}</td>\n      <td>way</td>\n      <td>MULTILINESTRING ((16.50526 49.15238, 16.50531 ...</td>\n      <td>84.0</td>\n      <td>NaN</td>\n    </tr>\n    <tr>\n      <th>22</th>\n      <td>161021372</td>\n      <td>65</td>\n      <td>25</td>\n      <td>45</td>\n      <td>20</td>\n      <td>5</td>\n      <td>0</td>\n      <td>60</td>\n      <td>25</td>\n      <td>5.09</td>\n      <td>...</td>\n      <td>None</td>\n      <td>None</td>\n      <td>None</td>\n      <td>1660129784</td>\n      <td>7</td>\n      <td>{\"source\":\"uhul:ortofoto\",\"source:maxspeed\":\"C...</td>\n      <td>way</td>\n      <td>MULTILINESTRING ((16.47988 49.20669, 16.47977 ...</td>\n      <td>488.0</td>\n      <td>NaN</td>\n    </tr>\n  </tbody>\n</table>\n<p>5 rows × 51 columns</p>\n</div>"
     },
     "execution_count": 4,
     "metadata": {},
     "output_type": "execute_result"
    }
   ],
   "source": [
    "model.head()\n"
   ],
   "metadata": {
    "collapsed": false,
    "pycharm": {
     "name": "#%%\n"
    }
   }
  }
 ],
 "metadata": {
  "kernelspec": {
   "display_name": "Python 3",
   "language": "python",
   "name": "python3"
  },
  "language_info": {
   "codemirror_mode": {
    "name": "ipython",
    "version": 2
   },
   "file_extension": ".py",
   "mimetype": "text/x-python",
   "name": "python",
   "nbconvert_exporter": "python",
   "pygments_lexer": "ipython2",
   "version": "2.7.6"
  }
 },
 "nbformat": 4,
 "nbformat_minor": 0
}