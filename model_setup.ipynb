{
 "cells": [
  {
   "cell_type": "code",
   "execution_count": 1,
   "metadata": {
    "collapsed": true,
    "pycharm": {
     "name": "#%%\n"
    }
   },
   "outputs": [],
   "source": [
    "import pyrosm\n",
    "import geopandas as gpd\n",
    "import pandas as pd\n",
    "import numpy as np\n",
    "import seaborn as sns\n",
    "from matplotlib import pyplot as plt"
   ]
  },
  {
   "cell_type": "code",
   "execution_count": 2,
   "outputs": [
    {
     "name": "stderr",
     "output_type": "stream",
     "text": [
      "/tmp/ipykernel_205321/1491798065.py:7: FutureWarning: The frame.append method is deprecated and will be removed from pandas in a future version. Use pandas.concat instead.\n",
      "  basemap_network = driving_network.append(cycling_network)\n"
     ]
    }
   ],
   "source": [
    "# load openstreetmap basemap\n",
    "# https://www.openstreetmap.org/export - boundingbox setup\n",
    "bbox = [16.3837, 49.0946, 16.9227, 49.2884]  # [minx, miny, maxx, maxy]\n",
    "pbf_reader = pyrosm.OSM('datasets/czech_republic-latest.osm.pbf', bounding_box=bbox)\n",
    "cycling_network = pbf_reader.get_network('cycling')\n",
    "driving_network = pbf_reader.get_network('driving')\n",
    "basemap_network = driving_network.append(cycling_network)\n",
    "\n",
    "# load strava data\n",
    "strava_df = pd.read_csv('datasets/strava_edges_2021.csv')\n",
    "\n",
    "# load bike-to-work data\n",
    "biketowork_df = gpd.read_file('datasets/do_prace_na_kole.geojson')\n",
    "\n",
    "# load mechanical counters data\n",
    "counters_df = gpd.read_file('datasets/cyklodetektory.geojson')\n",
    "\n",
    "# load driving census data\n",
    "census_df = pd.read_excel('datasets/rsd_scitanie_dopravy_2020.xlsx', skiprows=[0])"
   ],
   "metadata": {
    "collapsed": false,
    "pycharm": {
     "name": "#%%\n"
    }
   }
  },
  {
   "cell_type": "code",
   "execution_count": 3,
   "outputs": [
    {
     "name": "stdout",
     "output_type": "stream",
     "text": [
      "(36644, 39)\n",
      "(23179, 39)\n",
      "(59823, 40)\n",
      "(193812, 34)\n"
     ]
    }
   ],
   "source": [
    "print(cycling_network.shape)\n",
    "print(driving_network.shape)\n",
    "print(basemap_network.shape)\n",
    "print(strava_df.shape)"
   ],
   "metadata": {
    "collapsed": false,
    "pycharm": {
     "name": "#%%\n"
    }
   }
  },
  {
   "cell_type": "code",
   "execution_count": 24,
   "outputs": [
    {
     "data": {
      "text/plain": "                   edge_uid  year  forward_trip_count  reverse_trip_count  \\\nosm_reference_id                                                            \n4019269           161052016  2021                  30                   0   \n4019432           161020360  2021                 805                 745   \n4019434           161039603  2021                   5                   0   \n4019435           322085221  4042                  50                   0   \n4019437           644174524  8084                1100                 990   \n\n                  forward_people_count  reverse_people_count  \\\nosm_reference_id                                               \n4019269                             10                     0   \n4019432                            265                   270   \n4019434                              5                     0   \n4019435                             25                     0   \n4019437                            140                   220   \n\n                  forward_commute_trip_count  reverse_commute_trip_count  \\\nosm_reference_id                                                           \n4019269                                    0                           0   \n4019432                                  140                         105   \n4019434                                    0                           0   \n4019435                                   20                           0   \n4019437                                   55                          55   \n\n                  forward_leisure_trip_count  reverse_leisure_trip_count  ...  \\\nosm_reference_id                                                          ...   \n4019269                                   30                           0  ...   \n4019432                                  665                         640  ...   \n4019434                                    5                           0  ...   \n4019435                                   30                           0  ...   \n4019437                                 1045                         935  ...   \n\n                  tunnel  turn  width   timestamp  version  \\\nosm_reference_id                                             \n4019269             None  None   None  1556088822       16   \n4019432             None  None   None  1611510572       10   \n4019434             None  None   None  1530611385       13   \n4019435             None  None   None  1639339626       10   \n4019437             None  None   None  1648299982       16   \n\n                                                               tags  osm_type  \\\nosm_reference_id                                                                \n4019269           {\"layer\":\"1\",\"source:maxspeed\":\"CZ:urban_trunk...       way   \n4019432           {\"source:maxspeed\":\"CZ:rural\",\"source:ref\":\"rs...       way   \n4019434                                  {\"source:maxspeed\":\"sign\"}       way   \n4019435                                  {\"source\":\"uhul:ortofoto\"}       way   \n4019437                                                        None       way   \n\n                                                           geometry  length  \\\nosm_reference_id                                                              \n4019269           MULTILINESTRING ((16.56569 49.18349, 16.56527 ...    81.0   \n4019432           MULTILINESTRING ((16.52347 49.17080, 16.52324 ...   159.0   \n4019434           MULTILINESTRING ((16.54352 49.16684, 16.54319 ...   380.0   \n4019435           MULTILINESTRING ((16.56420 49.17379, 16.56420 ...   338.0   \n4019437           MULTILINESTRING ((16.56755 49.16300, 16.56762 ...   166.0   \n\n                  path  \nosm_reference_id        \n4019269            NaN  \n4019432            NaN  \n4019434            NaN  \n4019435            NaN  \n4019437            NaN  \n\n[5 rows x 71 columns]",
      "text/html": "<div>\n<style scoped>\n    .dataframe tbody tr th:only-of-type {\n        vertical-align: middle;\n    }\n\n    .dataframe tbody tr th {\n        vertical-align: top;\n    }\n\n    .dataframe thead th {\n        text-align: right;\n    }\n</style>\n<table border=\"1\" class=\"dataframe\">\n  <thead>\n    <tr style=\"text-align: right;\">\n      <th></th>\n      <th>edge_uid</th>\n      <th>year</th>\n      <th>forward_trip_count</th>\n      <th>reverse_trip_count</th>\n      <th>forward_people_count</th>\n      <th>reverse_people_count</th>\n      <th>forward_commute_trip_count</th>\n      <th>reverse_commute_trip_count</th>\n      <th>forward_leisure_trip_count</th>\n      <th>reverse_leisure_trip_count</th>\n      <th>...</th>\n      <th>tunnel</th>\n      <th>turn</th>\n      <th>width</th>\n      <th>timestamp</th>\n      <th>version</th>\n      <th>tags</th>\n      <th>osm_type</th>\n      <th>geometry</th>\n      <th>length</th>\n      <th>path</th>\n    </tr>\n    <tr>\n      <th>osm_reference_id</th>\n      <th></th>\n      <th></th>\n      <th></th>\n      <th></th>\n      <th></th>\n      <th></th>\n      <th></th>\n      <th></th>\n      <th></th>\n      <th></th>\n      <th></th>\n      <th></th>\n      <th></th>\n      <th></th>\n      <th></th>\n      <th></th>\n      <th></th>\n      <th></th>\n      <th></th>\n      <th></th>\n      <th></th>\n    </tr>\n  </thead>\n  <tbody>\n    <tr>\n      <th>4019269</th>\n      <td>161052016</td>\n      <td>2021</td>\n      <td>30</td>\n      <td>0</td>\n      <td>10</td>\n      <td>0</td>\n      <td>0</td>\n      <td>0</td>\n      <td>30</td>\n      <td>0</td>\n      <td>...</td>\n      <td>None</td>\n      <td>None</td>\n      <td>None</td>\n      <td>1556088822</td>\n      <td>16</td>\n      <td>{\"layer\":\"1\",\"source:maxspeed\":\"CZ:urban_trunk...</td>\n      <td>way</td>\n      <td>MULTILINESTRING ((16.56569 49.18349, 16.56527 ...</td>\n      <td>81.0</td>\n      <td>NaN</td>\n    </tr>\n    <tr>\n      <th>4019432</th>\n      <td>161020360</td>\n      <td>2021</td>\n      <td>805</td>\n      <td>745</td>\n      <td>265</td>\n      <td>270</td>\n      <td>140</td>\n      <td>105</td>\n      <td>665</td>\n      <td>640</td>\n      <td>...</td>\n      <td>None</td>\n      <td>None</td>\n      <td>None</td>\n      <td>1611510572</td>\n      <td>10</td>\n      <td>{\"source:maxspeed\":\"CZ:rural\",\"source:ref\":\"rs...</td>\n      <td>way</td>\n      <td>MULTILINESTRING ((16.52347 49.17080, 16.52324 ...</td>\n      <td>159.0</td>\n      <td>NaN</td>\n    </tr>\n    <tr>\n      <th>4019434</th>\n      <td>161039603</td>\n      <td>2021</td>\n      <td>5</td>\n      <td>0</td>\n      <td>5</td>\n      <td>0</td>\n      <td>0</td>\n      <td>0</td>\n      <td>5</td>\n      <td>0</td>\n      <td>...</td>\n      <td>None</td>\n      <td>None</td>\n      <td>None</td>\n      <td>1530611385</td>\n      <td>13</td>\n      <td>{\"source:maxspeed\":\"sign\"}</td>\n      <td>way</td>\n      <td>MULTILINESTRING ((16.54352 49.16684, 16.54319 ...</td>\n      <td>380.0</td>\n      <td>NaN</td>\n    </tr>\n    <tr>\n      <th>4019435</th>\n      <td>322085221</td>\n      <td>4042</td>\n      <td>50</td>\n      <td>0</td>\n      <td>25</td>\n      <td>0</td>\n      <td>20</td>\n      <td>0</td>\n      <td>30</td>\n      <td>0</td>\n      <td>...</td>\n      <td>None</td>\n      <td>None</td>\n      <td>None</td>\n      <td>1639339626</td>\n      <td>10</td>\n      <td>{\"source\":\"uhul:ortofoto\"}</td>\n      <td>way</td>\n      <td>MULTILINESTRING ((16.56420 49.17379, 16.56420 ...</td>\n      <td>338.0</td>\n      <td>NaN</td>\n    </tr>\n    <tr>\n      <th>4019437</th>\n      <td>644174524</td>\n      <td>8084</td>\n      <td>1100</td>\n      <td>990</td>\n      <td>140</td>\n      <td>220</td>\n      <td>55</td>\n      <td>55</td>\n      <td>1045</td>\n      <td>935</td>\n      <td>...</td>\n      <td>None</td>\n      <td>None</td>\n      <td>None</td>\n      <td>1648299982</td>\n      <td>16</td>\n      <td>None</td>\n      <td>way</td>\n      <td>MULTILINESTRING ((16.56755 49.16300, 16.56762 ...</td>\n      <td>166.0</td>\n      <td>NaN</td>\n    </tr>\n  </tbody>\n</table>\n<p>5 rows × 71 columns</p>\n</div>"
     },
     "execution_count": 24,
     "metadata": {},
     "output_type": "execute_result"
    }
   ],
   "source": [
    "# group edges into one OSM way (some columns will need to be averaged, not summed)\n",
    "strava_grouped_df = strava_df.groupby(['osm_reference_id']).sum()\n",
    "model = strava_grouped_df.join(basemap_network.set_index('id'), on='osm_reference_id', how='inner')\n",
    "model = model.drop_duplicates()\n",
    "# https://www.openstreetmap.org/way/{id}\n",
    "model.head()"
   ],
   "metadata": {
    "collapsed": false,
    "pycharm": {
     "name": "#%%\n"
    }
   }
  },
  {
   "cell_type": "code",
   "execution_count": 26,
   "outputs": [
    {
     "name": "stdout",
     "output_type": "stream",
     "text": [
      "(27050, 71)\n"
     ]
    },
    {
     "data": {
      "text/plain": "                   edge_uid  year  forward_trip_count  reverse_trip_count  \\\nosm_reference_id                                                            \n4019269           161052016  2021                  30                   0   \n4019432           161020360  2021                 805                 745   \n4019434           161039603  2021                   5                   0   \n4019435           322085221  4042                  50                   0   \n4019437           644174524  8084                1100                 990   \n...                     ...   ...                 ...                 ...   \n1023721767        161938969  2021                   5                   0   \n1023721771        161930395  2021                 170                 395   \n1023721772        161939674  2021                  40                   5   \n1023960623        322201936  4042                  15                  25   \n1023970740        161100655  2021                 640                 735   \n\n                  forward_people_count  reverse_people_count  \\\nosm_reference_id                                               \n4019269                             10                     0   \n4019432                            265                   270   \n4019434                              5                     0   \n4019435                             25                     0   \n4019437                            140                   220   \n...                                ...                   ...   \n1023721767                           0                     0   \n1023721771                         105                   170   \n1023721772                          35                     5   \n1023960623                          10                    10   \n1023970740                         290                   400   \n\n                  forward_commute_trip_count  reverse_commute_trip_count  \\\nosm_reference_id                                                           \n4019269                                    0                           0   \n4019432                                  140                         105   \n4019434                                    0                           0   \n4019435                                   20                           0   \n4019437                                   55                          55   \n...                                      ...                         ...   \n1023721767                                 0                           0   \n1023721771                                10                          15   \n1023721772                                15                           0   \n1023960623                                 0                           0   \n1023970740                               150                          85   \n\n                  forward_leisure_trip_count  reverse_leisure_trip_count  ...  \\\nosm_reference_id                                                          ...   \n4019269                                   30                           0  ...   \n4019432                                  665                         640  ...   \n4019434                                    5                           0  ...   \n4019435                                   30                           0  ...   \n4019437                                 1045                         935  ...   \n...                                      ...                         ...  ...   \n1023721767                                 5                           0  ...   \n1023721771                               160                         380  ...   \n1023721772                                25                           5  ...   \n1023960623                                15                          25  ...   \n1023970740                               490                         650  ...   \n\n                  tunnel  turn  width   timestamp  version  \\\nosm_reference_id                                             \n4019269             None  None   None  1556088822       16   \n4019432             None  None   None  1611510572       10   \n4019434             None  None   None  1530611385       13   \n4019435             None  None   None  1639339626       10   \n4019437             None  None   None  1648299982       16   \n...                  ...   ...    ...         ...      ...   \n1023721767          None  None   None  1644149494        2   \n1023721771          None  None   None  1642884868        1   \n1023721772          None  None   None  1661716762        2   \n1023960623          None  None   None  1642950670        2   \n1023970740          None  None   None  1651165866        4   \n\n                                                               tags  osm_type  \\\nosm_reference_id                                                                \n4019269           {\"layer\":\"1\",\"source:maxspeed\":\"CZ:urban_trunk...       way   \n4019432           {\"source:maxspeed\":\"CZ:rural\",\"source:ref\":\"rs...       way   \n4019434                                  {\"source:maxspeed\":\"sign\"}       way   \n4019435                                  {\"source\":\"uhul:ortofoto\"}       way   \n4019437                                                        None       way   \n...                                                             ...       ...   \n1023721767                                                     None       way   \n1023721771                                                     None       way   \n1023721772                                                     None       way   \n1023960623                        {\"source\":\"uhul:ortofoto;survey\"}       way   \n1023970740               {\"shoulder\":\"no\",\"source\":\"uhul:ortofoto\"}       way   \n\n                                                           geometry  length  \\\nosm_reference_id                                                              \n4019269           MULTILINESTRING ((16.56569 49.18349, 16.56527 ...    81.0   \n4019432           MULTILINESTRING ((16.52347 49.17080, 16.52324 ...   159.0   \n4019434           MULTILINESTRING ((16.54352 49.16684, 16.54319 ...   380.0   \n4019435           MULTILINESTRING ((16.56420 49.17379, 16.56420 ...   338.0   \n4019437           MULTILINESTRING ((16.56755 49.16300, 16.56762 ...   166.0   \n...                                                             ...     ...   \n1023721767        MULTILINESTRING ((16.58372 49.24982, 16.58388 ...    27.0   \n1023721771        MULTILINESTRING ((16.56073 49.25148, 16.56098 ...   363.0   \n1023721772        MULTILINESTRING ((16.58314 49.25817, 16.58319 ...   111.0   \n1023960623        MULTILINESTRING ((16.71887 49.17968, 16.71869 ...   105.0   \n1023970740        MULTILINESTRING ((16.76251 49.13887, 16.76205 ...    62.0   \n\n                  path  \nosm_reference_id        \n4019269            NaN  \n4019432            NaN  \n4019434            NaN  \n4019435            NaN  \n4019437            NaN  \n...                ...  \n1023721767         NaN  \n1023721771         NaN  \n1023721772         NaN  \n1023960623         NaN  \n1023970740         NaN  \n\n[27050 rows x 71 columns]",
      "text/html": "<div>\n<style scoped>\n    .dataframe tbody tr th:only-of-type {\n        vertical-align: middle;\n    }\n\n    .dataframe tbody tr th {\n        vertical-align: top;\n    }\n\n    .dataframe thead th {\n        text-align: right;\n    }\n</style>\n<table border=\"1\" class=\"dataframe\">\n  <thead>\n    <tr style=\"text-align: right;\">\n      <th></th>\n      <th>edge_uid</th>\n      <th>year</th>\n      <th>forward_trip_count</th>\n      <th>reverse_trip_count</th>\n      <th>forward_people_count</th>\n      <th>reverse_people_count</th>\n      <th>forward_commute_trip_count</th>\n      <th>reverse_commute_trip_count</th>\n      <th>forward_leisure_trip_count</th>\n      <th>reverse_leisure_trip_count</th>\n      <th>...</th>\n      <th>tunnel</th>\n      <th>turn</th>\n      <th>width</th>\n      <th>timestamp</th>\n      <th>version</th>\n      <th>tags</th>\n      <th>osm_type</th>\n      <th>geometry</th>\n      <th>length</th>\n      <th>path</th>\n    </tr>\n    <tr>\n      <th>osm_reference_id</th>\n      <th></th>\n      <th></th>\n      <th></th>\n      <th></th>\n      <th></th>\n      <th></th>\n      <th></th>\n      <th></th>\n      <th></th>\n      <th></th>\n      <th></th>\n      <th></th>\n      <th></th>\n      <th></th>\n      <th></th>\n      <th></th>\n      <th></th>\n      <th></th>\n      <th></th>\n      <th></th>\n      <th></th>\n    </tr>\n  </thead>\n  <tbody>\n    <tr>\n      <th>4019269</th>\n      <td>161052016</td>\n      <td>2021</td>\n      <td>30</td>\n      <td>0</td>\n      <td>10</td>\n      <td>0</td>\n      <td>0</td>\n      <td>0</td>\n      <td>30</td>\n      <td>0</td>\n      <td>...</td>\n      <td>None</td>\n      <td>None</td>\n      <td>None</td>\n      <td>1556088822</td>\n      <td>16</td>\n      <td>{\"layer\":\"1\",\"source:maxspeed\":\"CZ:urban_trunk...</td>\n      <td>way</td>\n      <td>MULTILINESTRING ((16.56569 49.18349, 16.56527 ...</td>\n      <td>81.0</td>\n      <td>NaN</td>\n    </tr>\n    <tr>\n      <th>4019432</th>\n      <td>161020360</td>\n      <td>2021</td>\n      <td>805</td>\n      <td>745</td>\n      <td>265</td>\n      <td>270</td>\n      <td>140</td>\n      <td>105</td>\n      <td>665</td>\n      <td>640</td>\n      <td>...</td>\n      <td>None</td>\n      <td>None</td>\n      <td>None</td>\n      <td>1611510572</td>\n      <td>10</td>\n      <td>{\"source:maxspeed\":\"CZ:rural\",\"source:ref\":\"rs...</td>\n      <td>way</td>\n      <td>MULTILINESTRING ((16.52347 49.17080, 16.52324 ...</td>\n      <td>159.0</td>\n      <td>NaN</td>\n    </tr>\n    <tr>\n      <th>4019434</th>\n      <td>161039603</td>\n      <td>2021</td>\n      <td>5</td>\n      <td>0</td>\n      <td>5</td>\n      <td>0</td>\n      <td>0</td>\n      <td>0</td>\n      <td>5</td>\n      <td>0</td>\n      <td>...</td>\n      <td>None</td>\n      <td>None</td>\n      <td>None</td>\n      <td>1530611385</td>\n      <td>13</td>\n      <td>{\"source:maxspeed\":\"sign\"}</td>\n      <td>way</td>\n      <td>MULTILINESTRING ((16.54352 49.16684, 16.54319 ...</td>\n      <td>380.0</td>\n      <td>NaN</td>\n    </tr>\n    <tr>\n      <th>4019435</th>\n      <td>322085221</td>\n      <td>4042</td>\n      <td>50</td>\n      <td>0</td>\n      <td>25</td>\n      <td>0</td>\n      <td>20</td>\n      <td>0</td>\n      <td>30</td>\n      <td>0</td>\n      <td>...</td>\n      <td>None</td>\n      <td>None</td>\n      <td>None</td>\n      <td>1639339626</td>\n      <td>10</td>\n      <td>{\"source\":\"uhul:ortofoto\"}</td>\n      <td>way</td>\n      <td>MULTILINESTRING ((16.56420 49.17379, 16.56420 ...</td>\n      <td>338.0</td>\n      <td>NaN</td>\n    </tr>\n    <tr>\n      <th>4019437</th>\n      <td>644174524</td>\n      <td>8084</td>\n      <td>1100</td>\n      <td>990</td>\n      <td>140</td>\n      <td>220</td>\n      <td>55</td>\n      <td>55</td>\n      <td>1045</td>\n      <td>935</td>\n      <td>...</td>\n      <td>None</td>\n      <td>None</td>\n      <td>None</td>\n      <td>1648299982</td>\n      <td>16</td>\n      <td>None</td>\n      <td>way</td>\n      <td>MULTILINESTRING ((16.56755 49.16300, 16.56762 ...</td>\n      <td>166.0</td>\n      <td>NaN</td>\n    </tr>\n    <tr>\n      <th>...</th>\n      <td>...</td>\n      <td>...</td>\n      <td>...</td>\n      <td>...</td>\n      <td>...</td>\n      <td>...</td>\n      <td>...</td>\n      <td>...</td>\n      <td>...</td>\n      <td>...</td>\n      <td>...</td>\n      <td>...</td>\n      <td>...</td>\n      <td>...</td>\n      <td>...</td>\n      <td>...</td>\n      <td>...</td>\n      <td>...</td>\n      <td>...</td>\n      <td>...</td>\n      <td>...</td>\n    </tr>\n    <tr>\n      <th>1023721767</th>\n      <td>161938969</td>\n      <td>2021</td>\n      <td>5</td>\n      <td>0</td>\n      <td>0</td>\n      <td>0</td>\n      <td>0</td>\n      <td>0</td>\n      <td>5</td>\n      <td>0</td>\n      <td>...</td>\n      <td>None</td>\n      <td>None</td>\n      <td>None</td>\n      <td>1644149494</td>\n      <td>2</td>\n      <td>None</td>\n      <td>way</td>\n      <td>MULTILINESTRING ((16.58372 49.24982, 16.58388 ...</td>\n      <td>27.0</td>\n      <td>NaN</td>\n    </tr>\n    <tr>\n      <th>1023721771</th>\n      <td>161930395</td>\n      <td>2021</td>\n      <td>170</td>\n      <td>395</td>\n      <td>105</td>\n      <td>170</td>\n      <td>10</td>\n      <td>15</td>\n      <td>160</td>\n      <td>380</td>\n      <td>...</td>\n      <td>None</td>\n      <td>None</td>\n      <td>None</td>\n      <td>1642884868</td>\n      <td>1</td>\n      <td>None</td>\n      <td>way</td>\n      <td>MULTILINESTRING ((16.56073 49.25148, 16.56098 ...</td>\n      <td>363.0</td>\n      <td>NaN</td>\n    </tr>\n    <tr>\n      <th>1023721772</th>\n      <td>161939674</td>\n      <td>2021</td>\n      <td>40</td>\n      <td>5</td>\n      <td>35</td>\n      <td>5</td>\n      <td>15</td>\n      <td>0</td>\n      <td>25</td>\n      <td>5</td>\n      <td>...</td>\n      <td>None</td>\n      <td>None</td>\n      <td>None</td>\n      <td>1661716762</td>\n      <td>2</td>\n      <td>None</td>\n      <td>way</td>\n      <td>MULTILINESTRING ((16.58314 49.25817, 16.58319 ...</td>\n      <td>111.0</td>\n      <td>NaN</td>\n    </tr>\n    <tr>\n      <th>1023960623</th>\n      <td>322201936</td>\n      <td>4042</td>\n      <td>15</td>\n      <td>25</td>\n      <td>10</td>\n      <td>10</td>\n      <td>0</td>\n      <td>0</td>\n      <td>15</td>\n      <td>25</td>\n      <td>...</td>\n      <td>None</td>\n      <td>None</td>\n      <td>None</td>\n      <td>1642950670</td>\n      <td>2</td>\n      <td>{\"source\":\"uhul:ortofoto;survey\"}</td>\n      <td>way</td>\n      <td>MULTILINESTRING ((16.71887 49.17968, 16.71869 ...</td>\n      <td>105.0</td>\n      <td>NaN</td>\n    </tr>\n    <tr>\n      <th>1023970740</th>\n      <td>161100655</td>\n      <td>2021</td>\n      <td>640</td>\n      <td>735</td>\n      <td>290</td>\n      <td>400</td>\n      <td>150</td>\n      <td>85</td>\n      <td>490</td>\n      <td>650</td>\n      <td>...</td>\n      <td>None</td>\n      <td>None</td>\n      <td>None</td>\n      <td>1651165866</td>\n      <td>4</td>\n      <td>{\"shoulder\":\"no\",\"source\":\"uhul:ortofoto\"}</td>\n      <td>way</td>\n      <td>MULTILINESTRING ((16.76251 49.13887, 16.76205 ...</td>\n      <td>62.0</td>\n      <td>NaN</td>\n    </tr>\n  </tbody>\n</table>\n<p>27050 rows × 71 columns</p>\n</div>"
     },
     "execution_count": 26,
     "metadata": {},
     "output_type": "execute_result"
    }
   ],
   "source": [
    "print(model.shape)\n",
    "model"
   ],
   "metadata": {
    "collapsed": false,
    "pycharm": {
     "name": "#%%\n"
    }
   }
  },
  {
   "cell_type": "code",
   "execution_count": 23,
   "outputs": [],
   "source": [
    "model.to_csv('model.csv', sep=';')"
   ],
   "metadata": {
    "collapsed": false,
    "pycharm": {
     "name": "#%%\n"
    }
   }
  }
 ],
 "metadata": {
  "kernelspec": {
   "display_name": "Python 3",
   "language": "python",
   "name": "python3"
  },
  "language_info": {
   "codemirror_mode": {
    "name": "ipython",
    "version": 2
   },
   "file_extension": ".py",
   "mimetype": "text/x-python",
   "name": "python",
   "nbconvert_exporter": "python",
   "pygments_lexer": "ipython2",
   "version": "2.7.6"
  }
 },
 "nbformat": 4,
 "nbformat_minor": 0
}