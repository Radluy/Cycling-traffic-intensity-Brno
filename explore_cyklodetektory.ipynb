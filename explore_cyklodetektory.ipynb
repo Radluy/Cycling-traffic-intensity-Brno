{
 "cells": [
  {
   "cell_type": "markdown",
   "metadata": {},
   "source": [
    "### Import libraries"
   ]
  },
  {
   "cell_type": "code",
   "execution_count": 1,
   "metadata": {},
   "outputs": [],
   "source": [
    "import geopandas as gpd\n",
    "import pandas as pd\n",
    "import seaborn as sns\n",
    "from matplotlib import pyplot as plt"
   ]
  },
  {
   "cell_type": "markdown",
   "metadata": {},
   "source": [
    "### Read geojson file"
   ]
  },
  {
   "cell_type": "code",
   "execution_count": 2,
   "metadata": {},
   "outputs": [],
   "source": [
    "df = gpd.read_file('../datasets/cyklodetektory.geojson')"
   ]
  },
  {
   "cell_type": "markdown",
   "metadata": {},
   "source": [
    "### Clean the data"
   ]
  },
  {
   "cell_type": "code",
   "execution_count": 18,
   "metadata": {},
   "outputs": [],
   "source": [
    "df['datum'] = pd.to_datetime(df['datum'])\n",
    "df['EndOfInterval'] = pd.to_datetime(df['EndOfInterval'])"
   ]
  },
  {
   "cell_type": "markdown",
   "metadata": {},
   "source": [
    "### Basic dataset info\n",
    "\n",
    "1. ID: `UnitId` + `datum` + `FirstDirection_Name`/`SecondDirection_Name`\n",
    "2. Match to specific street/GIS: `Latitude` + `Longitude`\n",
    "3. Useful information: `FirstDirection_Cyclists`, `SecondDirection_Cyclists`"
   ]
  },
  {
   "cell_type": "code",
   "execution_count": 19,
   "metadata": {},
   "outputs": [
    {
     "data": {
      "text/html": [
       "<div>\n",
       "<style scoped>\n",
       "    .dataframe tbody tr th:only-of-type {\n",
       "        vertical-align: middle;\n",
       "    }\n",
       "\n",
       "    .dataframe tbody tr th {\n",
       "        vertical-align: top;\n",
       "    }\n",
       "\n",
       "    .dataframe thead th {\n",
       "        text-align: right;\n",
       "    }\n",
       "</style>\n",
       "<table border=\"1\" class=\"dataframe\">\n",
       "  <thead>\n",
       "    <tr style=\"text-align: right;\">\n",
       "      <th></th>\n",
       "      <th>ObjectId</th>\n",
       "      <th>ID</th>\n",
       "      <th>UnitName</th>\n",
       "      <th>UnitId</th>\n",
       "      <th>LocationId</th>\n",
       "      <th>Latitude</th>\n",
       "      <th>Longitude</th>\n",
       "      <th>EndOfInterval</th>\n",
       "      <th>FirstDirection_Name</th>\n",
       "      <th>FirstDirection_Cyclists</th>\n",
       "      <th>FirstDirection_Pedestrians</th>\n",
       "      <th>FirstDirection_Total</th>\n",
       "      <th>SecondDirection_Name</th>\n",
       "      <th>SecondDirection_Cyclists</th>\n",
       "      <th>SecondDirection_Pedestrians</th>\n",
       "      <th>SecondDirection_Total</th>\n",
       "      <th>datum</th>\n",
       "      <th>geometry</th>\n",
       "    </tr>\n",
       "  </thead>\n",
       "  <tbody>\n",
       "    <tr>\n",
       "      <th>0</th>\n",
       "      <td>1</td>\n",
       "      <td>502</td>\n",
       "      <td>Renneska 1</td>\n",
       "      <td>CAM1</td>\n",
       "      <td>0</td>\n",
       "      <td>49.183699</td>\n",
       "      <td>16.602423</td>\n",
       "      <td>2021-06-22T03:59:59+00:00</td>\n",
       "      <td>Novosadský most</td>\n",
       "      <td>6.0</td>\n",
       "      <td>4.0</td>\n",
       "      <td>10.0</td>\n",
       "      <td>Heršpická</td>\n",
       "      <td>18.0</td>\n",
       "      <td>20.0</td>\n",
       "      <td>38</td>\n",
       "      <td>2021-06-22 02:00:00+00:00</td>\n",
       "      <td>POINT (16.60242 49.18370)</td>\n",
       "    </tr>\n",
       "    <tr>\n",
       "      <th>1</th>\n",
       "      <td>2</td>\n",
       "      <td>302</td>\n",
       "      <td>Obřany</td>\n",
       "      <td>CAM8</td>\n",
       "      <td>9</td>\n",
       "      <td>49.226283</td>\n",
       "      <td>16.658782</td>\n",
       "      <td>2021-06-21T17:00:00+00:00</td>\n",
       "      <td>Obřany</td>\n",
       "      <td>8.0</td>\n",
       "      <td>4.0</td>\n",
       "      <td>12.0</td>\n",
       "      <td>Bílovice n. Svitavou</td>\n",
       "      <td>5.0</td>\n",
       "      <td>0.0</td>\n",
       "      <td>5</td>\n",
       "      <td>2021-06-21 03:00:00+00:00</td>\n",
       "      <td>POINT (16.65878 49.22628)</td>\n",
       "    </tr>\n",
       "    <tr>\n",
       "      <th>2</th>\n",
       "      <td>3</td>\n",
       "      <td>503</td>\n",
       "      <td>Renneska 2</td>\n",
       "      <td>CAM2</td>\n",
       "      <td>1</td>\n",
       "      <td>49.183642</td>\n",
       "      <td>16.602337</td>\n",
       "      <td>2021-06-22T03:59:59+00:00</td>\n",
       "      <td>Heršpická</td>\n",
       "      <td>13.0</td>\n",
       "      <td>3.0</td>\n",
       "      <td>16.0</td>\n",
       "      <td>Renneska</td>\n",
       "      <td>5.0</td>\n",
       "      <td>2.0</td>\n",
       "      <td>7</td>\n",
       "      <td>2021-06-22 02:00:00+00:00</td>\n",
       "      <td>POINT (16.60234 49.18364)</td>\n",
       "    </tr>\n",
       "    <tr>\n",
       "      <th>3</th>\n",
       "      <td>4</td>\n",
       "      <td>303</td>\n",
       "      <td>Královopolská</td>\n",
       "      <td>CAM9</td>\n",
       "      <td>10</td>\n",
       "      <td>49.218652</td>\n",
       "      <td>16.575043</td>\n",
       "      <td>2021-06-21T02:00:00+00:00</td>\n",
       "      <td>Záhřebská</td>\n",
       "      <td>0.0</td>\n",
       "      <td>1.0</td>\n",
       "      <td>1.0</td>\n",
       "      <td>Přívrat</td>\n",
       "      <td>0.0</td>\n",
       "      <td>1.0</td>\n",
       "      <td>1</td>\n",
       "      <td>2021-06-21 03:00:00+00:00</td>\n",
       "      <td>POINT (16.57504 49.21865)</td>\n",
       "    </tr>\n",
       "    <tr>\n",
       "      <th>4</th>\n",
       "      <td>5</td>\n",
       "      <td>504</td>\n",
       "      <td>Komín</td>\n",
       "      <td>CAM3</td>\n",
       "      <td>2</td>\n",
       "      <td>49.218533</td>\n",
       "      <td>16.540979</td>\n",
       "      <td>2021-06-22T03:59:59+00:00</td>\n",
       "      <td>Komín</td>\n",
       "      <td>12.0</td>\n",
       "      <td>3.0</td>\n",
       "      <td>15.0</td>\n",
       "      <td>Bystrc</td>\n",
       "      <td>1.0</td>\n",
       "      <td>1.0</td>\n",
       "      <td>2</td>\n",
       "      <td>2021-06-22 02:00:00+00:00</td>\n",
       "      <td>POINT (16.54098 49.21853)</td>\n",
       "    </tr>\n",
       "  </tbody>\n",
       "</table>\n",
       "</div>"
      ],
      "text/plain": [
       "   ObjectId   ID       UnitName UnitId  LocationId   Latitude  Longitude  \\\n",
       "0         1  502     Renneska 1   CAM1           0  49.183699  16.602423   \n",
       "1         2  302         Obřany   CAM8           9  49.226283  16.658782   \n",
       "2         3  503     Renneska 2   CAM2           1  49.183642  16.602337   \n",
       "3         4  303  Královopolská   CAM9          10  49.218652  16.575043   \n",
       "4         5  504          Komín   CAM3           2  49.218533  16.540979   \n",
       "\n",
       "               EndOfInterval FirstDirection_Name  FirstDirection_Cyclists  \\\n",
       "0  2021-06-22T03:59:59+00:00     Novosadský most                      6.0   \n",
       "1  2021-06-21T17:00:00+00:00              Obřany                      8.0   \n",
       "2  2021-06-22T03:59:59+00:00           Heršpická                     13.0   \n",
       "3  2021-06-21T02:00:00+00:00           Záhřebská                      0.0   \n",
       "4  2021-06-22T03:59:59+00:00               Komín                     12.0   \n",
       "\n",
       "   FirstDirection_Pedestrians  FirstDirection_Total  SecondDirection_Name  \\\n",
       "0                         4.0                  10.0             Heršpická   \n",
       "1                         4.0                  12.0  Bílovice n. Svitavou   \n",
       "2                         3.0                  16.0              Renneska   \n",
       "3                         1.0                   1.0               Přívrat   \n",
       "4                         3.0                  15.0                Bystrc   \n",
       "\n",
       "   SecondDirection_Cyclists  SecondDirection_Pedestrians  \\\n",
       "0                      18.0                         20.0   \n",
       "1                       5.0                          0.0   \n",
       "2                       5.0                          2.0   \n",
       "3                       0.0                          1.0   \n",
       "4                       1.0                          1.0   \n",
       "\n",
       "   SecondDirection_Total                     datum                   geometry  \n",
       "0                     38 2021-06-22 02:00:00+00:00  POINT (16.60242 49.18370)  \n",
       "1                      5 2021-06-21 03:00:00+00:00  POINT (16.65878 49.22628)  \n",
       "2                      7 2021-06-22 02:00:00+00:00  POINT (16.60234 49.18364)  \n",
       "3                      1 2021-06-21 03:00:00+00:00  POINT (16.57504 49.21865)  \n",
       "4                      2 2021-06-22 02:00:00+00:00  POINT (16.54098 49.21853)  "
      ]
     },
     "metadata": {},
     "output_type": "display_data"
    }
   ],
   "source": [
    "display(df.head())\n",
    "#display(f\"Shape: {df.shape}\")\n",
    "#display(f\"Columns: {df.columns}\")\n",
    "#display(df.describe())"
   ]
  },
  {
   "cell_type": "markdown",
   "metadata": {},
   "source": [
    "### Correlation matrix\n",
    "\n",
    "Confirmed correlations:\n",
    "1. between the number of cyclists and pedestrians in a single direction\n",
    "2. between the number of cyclists in opposite directions\n",
    "\n",
    "Denied correlation:\n",
    "1. between the number of pedestrians in a one direction and a number of cyclists in the opposite"
   ]
  },
  {
   "cell_type": "code",
   "execution_count": 4,
   "metadata": {},
   "outputs": [
    {
     "data": {
      "text/plain": [
       "<AxesSubplot:>"
      ]
     },
     "execution_count": 4,
     "metadata": {},
     "output_type": "execute_result"
    },
    {
     "data": {
      "image/png": "[encoded data removed]",
      "text/plain": [
       "<Figure size 432x288 with 2 Axes>"
      ]
     },
     "metadata": {
      "needs_background": "light"
     },
     "output_type": "display_data"
    }
   ],
   "source": [
    "corr_matrix = df.loc[:, ~df.columns.isin(['ObjectId', 'ID', 'LocationId', 'Latitude', 'Longitude'])].corr()\n",
    "sns.heatmap(corr_matrix)"
   ]
  },
  {
   "cell_type": "markdown",
   "metadata": {},
   "source": [
    "### Random exploring"
   ]
  },
  {
   "cell_type": "code",
   "execution_count": null,
   "metadata": {},
   "outputs": [],
   "source": [
    "df['UnitId'].unique()\n",
    "df_summed = df.groupby(['UnitId']).sum()\n",
    "display(\"SUM:\",df_summed[['FirstDirection_Cyclists', 'SecondDirection_Cyclists']])\n",
    "df_mean = df.groupby(['UnitId']).mean()\n",
    "display(\"MEAN:\",df_mean[['FirstDirection_Cyclists', 'SecondDirection_Cyclists']])\n",
    "\n",
    "dataset_keys = df[['UnitId', 'datum']]\n",
    "dataset_keys[dataset_keys['UnitId'] == 'CAM1'].sort_values('datum').head(10)"
   ]
  }
 ],
 "metadata": {
  "interpreter": {
   "hash": "3a1d1e3ceb8915f716659be85e12d303a0aeb5245a84944b2f693adbe7c32f4f"
  },
  "kernelspec": {
   "display_name": "Python 3.9.5 ('venv': venv)",
   "language": "python",
   "name": "python3"
  },
  "language_info": {
   "codemirror_mode": {
    "name": "ipython",
    "version": 3
   },
   "file_extension": ".py",
   "mimetype": "text/x-python",
   "name": "python",
   "nbconvert_exporter": "python",
   "pygments_lexer": "ipython3",
   "version": "3.9.10"
  },
  "orig_nbformat": 4
 },
 "nbformat": 4,
 "nbformat_minor": 2
}
