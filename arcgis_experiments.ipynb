{
 "cells": [
  {
   "cell_type": "code",
   "execution_count": 27,
   "metadata": {
    "collapsed": true,
    "pycharm": {
     "name": "#%%\n"
    }
   },
   "outputs": [
    {
     "data": {
      "text/plain": "<User username:radoslav_elias>",
      "text/html": "<div class=\"9item_container\" style=\"height: auto; overflow: hidden; border: 1px solid #cfcfcf; border-radius: 2px; background: #f6fafa; line-height: 1.21429em; padding: 10px;\">\n                    <div class=\"item_left\" style=\"width: 210px; float: left;\">\n                       <a href='https://ral7DpZzHWJIk5Eu.maps.arcgis.com/home/user.html?user=radoslav_elias' target='_blank'>\n                        <img src='https://ral7DpZzHWJIk5Eu.maps.arcgis.com/home/js/arcgisonline/css/images/no-user-thumb.jpg' class=\"itemThumbnail\">\n                       </a>\n                    </div>\n\n                    <div class=\"item_right\" style=\"float: none; width: auto; overflow: hidden;\">\n                        <a href='https://ral7DpZzHWJIk5Eu.maps.arcgis.com/home/user.html?user=radoslav_elias' target='_blank'><b>Radoslav Elias</b>\n                        </a>\n                        <br/><br/><b>Bio</b>: None\n                        <br/><b>First Name</b>: Radoslav\n                        <br/><b>Last Name</b>: Elias\n                        <br/><b>Username</b>: radoslav_elias\n                        <br/><b>Joined</b>: September 24, 2022\n\n                    </div>\n                </div>\n                "
     },
     "execution_count": 27,
     "metadata": {},
     "output_type": "execute_result"
    }
   ],
   "source": [
    "from arcgis.gis import GIS\n",
    "import geopandas as gpd\n",
    "import datetime as dt\n",
    "\n",
    "# my app link\n",
    "# add credentials, api key?\n",
    "user_name = 'radoslav_elias'\n",
    "pwd = '6az2ziVWhjLd4X2'\n",
    "gis = GIS('https://ral7dpzzhwjik5eu.maps.arcgis.com/home/item.html?id=9e81631a9db24d6fa4376dd1b4736975',\n",
    "          username=user_name,\n",
    "          password=pwd)\n",
    "\n",
    "gis.users.get('radoslav_elias')"
   ]
  },
  {
   "cell_type": "code",
   "execution_count": 30,
   "metadata": {
    "collapsed": false,
    "pycharm": {
     "name": "#%%\n"
    }
   },
   "outputs": [
    {
     "data": {
      "text/plain": "arcgis.gis.Item"
     },
     "execution_count": 30,
     "metadata": {},
     "output_type": "execute_result"
    }
   ],
   "source": [
    "cyklodetektory_item = gis.content.search('counters_matched', item_type='feature layer')[0]\n",
    "type(cyklodetektory_item)\n"
   ]
  },
  {
   "cell_type": "code",
   "execution_count": 31,
   "outputs": [],
   "source": [
    "# featureLayer object\n",
    "cyklodetektory_layer = cyklodetektory_item.layers[0]"
   ],
   "metadata": {
    "collapsed": false,
    "pycharm": {
     "name": "#%%\n"
    }
   }
  },
  {
   "cell_type": "code",
   "execution_count": 42,
   "outputs": [
    {
     "name": "stdout",
     "output_type": "stream",
     "text": [
      "ObjectId\n",
      "UnitName\n",
      "UnitId\n",
      "EndOfInterval\n",
      "FirstDirection_Cyclists\n",
      "SecondDirection_Cyclists\n",
      "datum\n",
      "way_id\n"
     ]
    }
   ],
   "source": [
    "for f in cyklodetektory_layer.properties.fields:\n",
    "    print(f['name'])\n",
    "\n",
    "# featureSet object\n",
    "query_result1 = cyklodetektory_layer.query(where=\"UnitId IN ('CAM1', 'CAM2')\", out_fields='way_id,FirstDirection_Cyclists')"
   ],
   "metadata": {
    "collapsed": false,
    "pycharm": {
     "name": "#%%\n"
    }
   }
  },
  {
   "cell_type": "code",
   "execution_count": 43,
   "outputs": [
    {
     "data": {
      "text/plain": "       ObjectId    way_id  FirstDirection_Cyclists  \\\n0             2  76821611                       16   \n1             4  83202890                       26   \n2            36  76821611                       63   \n3            42  83202890                        0   \n4            43  83202890                        7   \n...         ...       ...                      ...   \n10813     78022  83202890                        0   \n10814     78033  76821611                        0   \n10815     78034  83202890                        0   \n10816     78045  76821611                        0   \n10817     78046  83202890                        0   \n\n                                                   SHAPE  \n0      {\"x\": 1848173.2955565671, \"y\": 6306088.8718656...  \n1      {\"x\": 1848163.7408933416, \"y\": 6306079.3172465...  \n2      {\"x\": 1848173.2955565671, \"y\": 6306088.8718656...  \n3      {\"x\": 1848163.7408933416, \"y\": 6306079.3172465...  \n4      {\"x\": 1848163.7408933416, \"y\": 6306079.3172465...  \n...                                                  ...  \n10813  {\"x\": 1848163.7408933416, \"y\": 6306079.3172465...  \n10814  {\"x\": 1848173.2955565671, \"y\": 6306088.8718656...  \n10815  {\"x\": 1848163.7408933416, \"y\": 6306079.3172465...  \n10816  {\"x\": 1848173.2955565671, \"y\": 6306088.8718656...  \n10817  {\"x\": 1848163.7408933416, \"y\": 6306079.3172465...  \n\n[10818 rows x 4 columns]",
      "text/html": "<div>\n<style scoped>\n    .dataframe tbody tr th:only-of-type {\n        vertical-align: middle;\n    }\n\n    .dataframe tbody tr th {\n        vertical-align: top;\n    }\n\n    .dataframe thead th {\n        text-align: right;\n    }\n</style>\n<table border=\"1\" class=\"dataframe\">\n  <thead>\n    <tr style=\"text-align: right;\">\n      <th></th>\n      <th>ObjectId</th>\n      <th>way_id</th>\n      <th>FirstDirection_Cyclists</th>\n      <th>SHAPE</th>\n    </tr>\n  </thead>\n  <tbody>\n    <tr>\n      <th>0</th>\n      <td>2</td>\n      <td>76821611</td>\n      <td>16</td>\n      <td>{\"x\": 1848173.2955565671, \"y\": 6306088.8718656...</td>\n    </tr>\n    <tr>\n      <th>1</th>\n      <td>4</td>\n      <td>83202890</td>\n      <td>26</td>\n      <td>{\"x\": 1848163.7408933416, \"y\": 6306079.3172465...</td>\n    </tr>\n    <tr>\n      <th>2</th>\n      <td>36</td>\n      <td>76821611</td>\n      <td>63</td>\n      <td>{\"x\": 1848173.2955565671, \"y\": 6306088.8718656...</td>\n    </tr>\n    <tr>\n      <th>3</th>\n      <td>42</td>\n      <td>83202890</td>\n      <td>0</td>\n      <td>{\"x\": 1848163.7408933416, \"y\": 6306079.3172465...</td>\n    </tr>\n    <tr>\n      <th>4</th>\n      <td>43</td>\n      <td>83202890</td>\n      <td>7</td>\n      <td>{\"x\": 1848163.7408933416, \"y\": 6306079.3172465...</td>\n    </tr>\n    <tr>\n      <th>...</th>\n      <td>...</td>\n      <td>...</td>\n      <td>...</td>\n      <td>...</td>\n    </tr>\n    <tr>\n      <th>10813</th>\n      <td>78022</td>\n      <td>83202890</td>\n      <td>0</td>\n      <td>{\"x\": 1848163.7408933416, \"y\": 6306079.3172465...</td>\n    </tr>\n    <tr>\n      <th>10814</th>\n      <td>78033</td>\n      <td>76821611</td>\n      <td>0</td>\n      <td>{\"x\": 1848173.2955565671, \"y\": 6306088.8718656...</td>\n    </tr>\n    <tr>\n      <th>10815</th>\n      <td>78034</td>\n      <td>83202890</td>\n      <td>0</td>\n      <td>{\"x\": 1848163.7408933416, \"y\": 6306079.3172465...</td>\n    </tr>\n    <tr>\n      <th>10816</th>\n      <td>78045</td>\n      <td>76821611</td>\n      <td>0</td>\n      <td>{\"x\": 1848173.2955565671, \"y\": 6306088.8718656...</td>\n    </tr>\n    <tr>\n      <th>10817</th>\n      <td>78046</td>\n      <td>83202890</td>\n      <td>0</td>\n      <td>{\"x\": 1848163.7408933416, \"y\": 6306079.3172465...</td>\n    </tr>\n  </tbody>\n</table>\n<p>10818 rows × 4 columns</p>\n</div>"
     },
     "execution_count": 43,
     "metadata": {},
     "output_type": "execute_result"
    }
   ],
   "source": [
    "query_result1.sdf"
   ],
   "metadata": {
    "collapsed": false,
    "pycharm": {
     "name": "#%%\n"
    }
   }
  },
  {
   "cell_type": "code",
   "execution_count": 45,
   "outputs": [
    {
     "data": {
      "text/plain": "(83202890, 76821611)"
     },
     "execution_count": 45,
     "metadata": {},
     "output_type": "execute_result"
    }
   ],
   "source": [
    "# parse unique way_ids from query result\n",
    "way_ids = [feature.attributes['way_id'] for feature in query_result1.features]\n",
    "tuple(set(way_ids))"
   ],
   "metadata": {
    "collapsed": false,
    "pycharm": {
     "name": "#%%\n"
    }
   }
  },
  {
   "cell_type": "code",
   "execution_count": 50,
   "outputs": [
    {
     "data": {
      "text/plain": "   ObjectId   edge_uid                                              SHAPE\n0     16225  161058891  {\"paths\": [[[1848187.81262003, 6306078.7800954...\n1     53736  161058894  {\"paths\": [[[1848133.06569446, 6306114.8513829...",
      "text/html": "<div>\n<style scoped>\n    .dataframe tbody tr th:only-of-type {\n        vertical-align: middle;\n    }\n\n    .dataframe tbody tr th {\n        vertical-align: top;\n    }\n\n    .dataframe thead th {\n        text-align: right;\n    }\n</style>\n<table border=\"1\" class=\"dataframe\">\n  <thead>\n    <tr style=\"text-align: right;\">\n      <th></th>\n      <th>ObjectId</th>\n      <th>edge_uid</th>\n      <th>SHAPE</th>\n    </tr>\n  </thead>\n  <tbody>\n    <tr>\n      <th>0</th>\n      <td>16225</td>\n      <td>161058891</td>\n      <td>{\"paths\": [[[1848187.81262003, 6306078.7800954...</td>\n    </tr>\n    <tr>\n      <th>1</th>\n      <td>53736</td>\n      <td>161058894</td>\n      <td>{\"paths\": [[[1848133.06569446, 6306114.8513829...</td>\n    </tr>\n  </tbody>\n</table>\n</div>"
     },
     "execution_count": 50,
     "metadata": {},
     "output_type": "execute_result"
    }
   ],
   "source": [
    "# query from strava layer by way_ids found in counters data\n",
    "strava_item = gis.content.search('model', item_type='feature layer')[0]\n",
    "strava_layer = strava_item.layers[0]\n",
    "query_result2 = strava_layer.query(where=\"osm_reference_id IN {}\".format(tuple(set(way_ids))), out_fields=\"edge_uid\")\n",
    "query_result2.sdf"
   ],
   "metadata": {
    "collapsed": false,
    "pycharm": {
     "name": "#%%\n"
    }
   }
  },
  {
   "cell_type": "code",
   "execution_count": 6,
   "outputs": [
    {
     "ename": "AttributeError",
     "evalue": "Cannot use 'geom' accessor on objects of dtype 'geometry'.",
     "output_type": "error",
     "traceback": [
      "\u001B[0;31m---------------------------------------------------------------------------\u001B[0m",
      "\u001B[0;31mAttributeError\u001B[0m                            Traceback (most recent call last)",
      "Cell \u001B[0;32mIn [6], line 11\u001B[0m\n\u001B[1;32m      8\u001B[0m \u001B[38;5;28;01mif\u001B[39;00m \u001B[38;5;129;01mnot\u001B[39;00m \u001B[38;5;124m\"\u001B[39m\u001B[38;5;124mdatasets\u001B[39m\u001B[38;5;124m\"\u001B[39m \u001B[38;5;129;01min\u001B[39;00m [folder[\u001B[38;5;124m'\u001B[39m\u001B[38;5;124mtitle\u001B[39m\u001B[38;5;124m'\u001B[39m] \u001B[38;5;28;01mfor\u001B[39;00m folder \u001B[38;5;129;01min\u001B[39;00m gis\u001B[38;5;241m.\u001B[39musers\u001B[38;5;241m.\u001B[39mme\u001B[38;5;241m.\u001B[39mfolders]:\n\u001B[1;32m      9\u001B[0m     gis\u001B[38;5;241m.\u001B[39mcontent\u001B[38;5;241m.\u001B[39mcreate_folder(\u001B[38;5;124m\"\u001B[39m\u001B[38;5;124mdatasets\u001B[39m\u001B[38;5;124m\"\u001B[39m)\n\u001B[0;32m---> 11\u001B[0m dpnk_fgdb_item \u001B[38;5;241m=\u001B[39m \u001B[43mgis\u001B[49m\u001B[38;5;241;43m.\u001B[39;49m\u001B[43mcontent\u001B[49m\u001B[38;5;241;43m.\u001B[39;49m\u001B[43madd\u001B[49m\u001B[43m(\u001B[49m\u001B[43mitem_properties\u001B[49m\u001B[38;5;241;43m=\u001B[39;49m\u001B[43mdpnk_props\u001B[49m\u001B[43m,\u001B[49m\n\u001B[1;32m     12\u001B[0m \u001B[43m                                           \u001B[49m\u001B[43mdata\u001B[49m\u001B[38;5;241;43m=\u001B[39;49m\u001B[43mgdf\u001B[49m\u001B[43m,\u001B[49m\n\u001B[1;32m     13\u001B[0m \u001B[43m                                           \u001B[49m\u001B[43mfolder\u001B[49m\u001B[38;5;241;43m=\u001B[39;49m\u001B[38;5;124;43m\"\u001B[39;49m\u001B[38;5;124;43mdatasets\u001B[39;49m\u001B[38;5;124;43m\"\u001B[39;49m\u001B[43m)\u001B[49m\n\u001B[1;32m     14\u001B[0m dpnk_item \u001B[38;5;241m=\u001B[39m dpnk_fgdb_item\u001B[38;5;241m.\u001B[39mpublish()\n",
      "File \u001B[0;32m~/Repos/Cycling-traffic-intensity-Brno/venv/lib64/python3.10/site-packages/arcgis/gis/__init__.py:5170\u001B[0m, in \u001B[0;36mContentManager.add\u001B[0;34m(self, item_properties, data, thumbnail, metadata, owner, folder, item_id, **kwargs)\u001B[0m\n\u001B[1;32m   5167\u001B[0m \u001B[38;5;28;01melif\u001B[39;00m _is_geoenabled(data) \u001B[38;5;129;01mand\u001B[39;00m \u001B[38;5;28mhasattr\u001B[39m(data, \u001B[38;5;124m\"\u001B[39m\u001B[38;5;124mspatial\u001B[39m\u001B[38;5;124m\"\u001B[39m):\n\u001B[1;32m   5168\u001B[0m     filetype \u001B[38;5;241m=\u001B[39m \u001B[38;5;124m\"\u001B[39m\u001B[38;5;124mFeature Collection\u001B[39m\u001B[38;5;124m\"\u001B[39m\n\u001B[1;32m   5169\u001B[0m     item_properties[\u001B[38;5;124m\"\u001B[39m\u001B[38;5;124mtext\u001B[39m\u001B[38;5;124m\"\u001B[39m] \u001B[38;5;241m=\u001B[39m {\n\u001B[0;32m-> 5170\u001B[0m         \u001B[38;5;124m\"\u001B[39m\u001B[38;5;124mlayers\u001B[39m\u001B[38;5;124m\"\u001B[39m: [\u001B[43mdata\u001B[49m\u001B[38;5;241;43m.\u001B[39;49m\u001B[43mspatial\u001B[49m\u001B[38;5;241;43m.\u001B[39;49m\u001B[43mto_feature_collection\u001B[49m\u001B[43m(\u001B[49m\u001B[43m)\u001B[49m\u001B[38;5;241m.\u001B[39m_lyr_dict]\n\u001B[1;32m   5171\u001B[0m     }\n\u001B[1;32m   5172\u001B[0m     data \u001B[38;5;241m=\u001B[39m \u001B[38;5;28;01mNone\u001B[39;00m\n\u001B[1;32m   5174\u001B[0m \u001B[38;5;28;01mif\u001B[39;00m data \u001B[38;5;129;01mis\u001B[39;00m \u001B[38;5;129;01mnot\u001B[39;00m \u001B[38;5;28;01mNone\u001B[39;00m \u001B[38;5;129;01mand\u001B[39;00m \u001B[38;5;28misinstance\u001B[39m(data, (io\u001B[38;5;241m.\u001B[39mStringIO, io\u001B[38;5;241m.\u001B[39mBytesIO)):\n",
      "File \u001B[0;32m~/Repos/Cycling-traffic-intensity-Brno/venv/lib64/python3.10/site-packages/arcgis/features/geo/_accessor.py:3230\u001B[0m, in \u001B[0;36mGeoAccessor.to_feature_collection\u001B[0;34m(self, name, drawing_info, extent, global_id_field, sanitize_columns)\u001B[0m\n\u001B[1;32m   3228\u001B[0m template \u001B[38;5;241m=\u001B[39m {\u001B[38;5;124m\"\u001B[39m\u001B[38;5;124mshowLegend\u001B[39m\u001B[38;5;124m\"\u001B[39m: \u001B[38;5;28;01mTrue\u001B[39;00m, \u001B[38;5;124m\"\u001B[39m\u001B[38;5;124mlayers\u001B[39m\u001B[38;5;124m\"\u001B[39m: []}\n\u001B[1;32m   3229\u001B[0m \u001B[38;5;28;01mif\u001B[39;00m extent \u001B[38;5;129;01mis\u001B[39;00m \u001B[38;5;28;01mNone\u001B[39;00m:\n\u001B[0;32m-> 3230\u001B[0m     ext \u001B[38;5;241m=\u001B[39m \u001B[38;5;28;43mself\u001B[39;49m\u001B[38;5;241;43m.\u001B[39;49m\u001B[43mfull_extent\u001B[49m\n\u001B[1;32m   3231\u001B[0m     extent \u001B[38;5;241m=\u001B[39m {\n\u001B[1;32m   3232\u001B[0m         \u001B[38;5;124m\"\u001B[39m\u001B[38;5;124mxmin\u001B[39m\u001B[38;5;124m\"\u001B[39m: ext[\u001B[38;5;241m0\u001B[39m],\n\u001B[1;32m   3233\u001B[0m         \u001B[38;5;124m\"\u001B[39m\u001B[38;5;124mymin\u001B[39m\u001B[38;5;124m\"\u001B[39m: ext[\u001B[38;5;241m1\u001B[39m],\n\u001B[0;32m   (...)\u001B[0m\n\u001B[1;32m   3236\u001B[0m         \u001B[38;5;124m\"\u001B[39m\u001B[38;5;124mspatialReference\u001B[39m\u001B[38;5;124m\"\u001B[39m: \u001B[38;5;28mself\u001B[39m\u001B[38;5;241m.\u001B[39msr,\n\u001B[1;32m   3237\u001B[0m     }\n\u001B[1;32m   3238\u001B[0m fs \u001B[38;5;241m=\u001B[39m \u001B[38;5;28mself\u001B[39m\u001B[38;5;241m.\u001B[39m__feature_set__\n",
      "File \u001B[0;32m~/Repos/Cycling-traffic-intensity-Brno/venv/lib64/python3.10/site-packages/arcgis/features/geo/_accessor.py:3460\u001B[0m, in \u001B[0;36mGeoAccessor.full_extent\u001B[0;34m(self)\u001B[0m\n\u001B[1;32m   3448\u001B[0m \u001B[38;5;129m@property\u001B[39m\n\u001B[1;32m   3449\u001B[0m \u001B[38;5;28;01mdef\u001B[39;00m \u001B[38;5;21mfull_extent\u001B[39m(\u001B[38;5;28mself\u001B[39m):\n\u001B[1;32m   3450\u001B[0m     \u001B[38;5;124;03m\"\"\"\u001B[39;00m\n\u001B[1;32m   3451\u001B[0m \u001B[38;5;124;03m    The ``full_extent`` method retrieves the extent of the DataFrame.\u001B[39;00m\n\u001B[1;32m   3452\u001B[0m \n\u001B[0;32m   (...)\u001B[0m\n\u001B[1;32m   3458\u001B[0m \n\u001B[1;32m   3459\u001B[0m \u001B[38;5;124;03m    \"\"\"\u001B[39;00m\n\u001B[0;32m-> 3460\u001B[0m     ge \u001B[38;5;241m=\u001B[39m \u001B[38;5;28;43mself\u001B[39;49m\u001B[38;5;241;43m.\u001B[39;49m\u001B[43m_data\u001B[49m\u001B[43m[\u001B[49m\u001B[38;5;28;43mself\u001B[39;49m\u001B[38;5;241;43m.\u001B[39;49m\u001B[43mname\u001B[49m\u001B[43m]\u001B[49m\u001B[38;5;241;43m.\u001B[39;49m\u001B[43mgeom\u001B[49m\u001B[38;5;241m.\u001B[39mextent\n\u001B[1;32m   3461\u001B[0m     q \u001B[38;5;241m=\u001B[39m ge\u001B[38;5;241m.\u001B[39mnotnull()\n\u001B[1;32m   3462\u001B[0m     data \u001B[38;5;241m=\u001B[39m ge[q]\u001B[38;5;241m.\u001B[39mtolist()\n",
      "File \u001B[0;32m~/Repos/Cycling-traffic-intensity-Brno/venv/lib64/python3.10/site-packages/pandas/core/generic.py:5575\u001B[0m, in \u001B[0;36mNDFrame.__getattr__\u001B[0;34m(self, name)\u001B[0m\n\u001B[1;32m   5568\u001B[0m \u001B[38;5;28;01mif\u001B[39;00m (\n\u001B[1;32m   5569\u001B[0m     name \u001B[38;5;129;01mnot\u001B[39;00m \u001B[38;5;129;01min\u001B[39;00m \u001B[38;5;28mself\u001B[39m\u001B[38;5;241m.\u001B[39m_internal_names_set\n\u001B[1;32m   5570\u001B[0m     \u001B[38;5;129;01mand\u001B[39;00m name \u001B[38;5;129;01mnot\u001B[39;00m \u001B[38;5;129;01min\u001B[39;00m \u001B[38;5;28mself\u001B[39m\u001B[38;5;241m.\u001B[39m_metadata\n\u001B[1;32m   5571\u001B[0m     \u001B[38;5;129;01mand\u001B[39;00m name \u001B[38;5;129;01mnot\u001B[39;00m \u001B[38;5;129;01min\u001B[39;00m \u001B[38;5;28mself\u001B[39m\u001B[38;5;241m.\u001B[39m_accessors\n\u001B[1;32m   5572\u001B[0m     \u001B[38;5;129;01mand\u001B[39;00m \u001B[38;5;28mself\u001B[39m\u001B[38;5;241m.\u001B[39m_info_axis\u001B[38;5;241m.\u001B[39m_can_hold_identifiers_and_holds_name(name)\n\u001B[1;32m   5573\u001B[0m ):\n\u001B[1;32m   5574\u001B[0m     \u001B[38;5;28;01mreturn\u001B[39;00m \u001B[38;5;28mself\u001B[39m[name]\n\u001B[0;32m-> 5575\u001B[0m \u001B[38;5;28;01mreturn\u001B[39;00m \u001B[38;5;28;43mobject\u001B[39;49m\u001B[38;5;241;43m.\u001B[39;49m\u001B[38;5;21;43m__getattribute__\u001B[39;49m\u001B[43m(\u001B[49m\u001B[38;5;28;43mself\u001B[39;49m\u001B[43m,\u001B[49m\u001B[43m \u001B[49m\u001B[43mname\u001B[49m\u001B[43m)\u001B[49m\n",
      "File \u001B[0;32m~/Repos/Cycling-traffic-intensity-Brno/venv/lib64/python3.10/site-packages/pandas/core/accessor.py:182\u001B[0m, in \u001B[0;36mCachedAccessor.__get__\u001B[0;34m(self, obj, cls)\u001B[0m\n\u001B[1;32m    179\u001B[0m \u001B[38;5;28;01mif\u001B[39;00m obj \u001B[38;5;129;01mis\u001B[39;00m \u001B[38;5;28;01mNone\u001B[39;00m:\n\u001B[1;32m    180\u001B[0m     \u001B[38;5;66;03m# we're accessing the attribute of the class, i.e., Dataset.geo\u001B[39;00m\n\u001B[1;32m    181\u001B[0m     \u001B[38;5;28;01mreturn\u001B[39;00m \u001B[38;5;28mself\u001B[39m\u001B[38;5;241m.\u001B[39m_accessor\n\u001B[0;32m--> 182\u001B[0m accessor_obj \u001B[38;5;241m=\u001B[39m \u001B[38;5;28;43mself\u001B[39;49m\u001B[38;5;241;43m.\u001B[39;49m\u001B[43m_accessor\u001B[49m\u001B[43m(\u001B[49m\u001B[43mobj\u001B[49m\u001B[43m)\u001B[49m\n\u001B[1;32m    183\u001B[0m \u001B[38;5;66;03m# Replace the property with the accessor object. Inspired by:\u001B[39;00m\n\u001B[1;32m    184\u001B[0m \u001B[38;5;66;03m# https://www.pydanny.com/cached-property.html\u001B[39;00m\n\u001B[1;32m    185\u001B[0m \u001B[38;5;66;03m# We need to use object.__setattr__ because we overwrite __setattr__ on\u001B[39;00m\n\u001B[1;32m    186\u001B[0m \u001B[38;5;66;03m# NDFrame\u001B[39;00m\n\u001B[1;32m    187\u001B[0m \u001B[38;5;28mobject\u001B[39m\u001B[38;5;241m.\u001B[39m\u001B[38;5;21m__setattr__\u001B[39m(obj, \u001B[38;5;28mself\u001B[39m\u001B[38;5;241m.\u001B[39m_name, accessor_obj)\n",
      "File \u001B[0;32m~/Repos/Cycling-traffic-intensity-Brno/venv/lib64/python3.10/site-packages/arcgis/features/geo/_accessor.py:66\u001B[0m, in \u001B[0;36mGeoSeriesAccessor.__init__\u001B[0;34m(self, obj)\u001B[0m\n\u001B[1;32m     64\u001B[0m \u001B[38;5;28;01mdef\u001B[39;00m \u001B[38;5;21m__init__\u001B[39m(\u001B[38;5;28mself\u001B[39m, obj):\n\u001B[1;32m     65\u001B[0m     \u001B[38;5;124;03m\"\"\"initializer\"\"\"\u001B[39;00m\n\u001B[0;32m---> 66\u001B[0m     \u001B[38;5;28;43mself\u001B[39;49m\u001B[38;5;241;43m.\u001B[39;49m\u001B[43m_validate\u001B[49m\u001B[43m(\u001B[49m\u001B[43mobj\u001B[49m\u001B[43m)\u001B[49m\n\u001B[1;32m     67\u001B[0m     \u001B[38;5;28mself\u001B[39m\u001B[38;5;241m.\u001B[39m_data \u001B[38;5;241m=\u001B[39m obj\u001B[38;5;241m.\u001B[39mvalues\n\u001B[1;32m     68\u001B[0m     \u001B[38;5;28mself\u001B[39m\u001B[38;5;241m.\u001B[39m_index \u001B[38;5;241m=\u001B[39m obj\u001B[38;5;241m.\u001B[39mindex\n",
      "File \u001B[0;32m~/Repos/Cycling-traffic-intensity-Brno/venv/lib64/python3.10/site-packages/arcgis/features/geo/_accessor.py:75\u001B[0m, in \u001B[0;36mGeoSeriesAccessor._validate\u001B[0;34m(obj)\u001B[0m\n\u001B[1;32m     72\u001B[0m \u001B[38;5;129m@staticmethod\u001B[39m\n\u001B[1;32m     73\u001B[0m \u001B[38;5;28;01mdef\u001B[39;00m \u001B[38;5;21m_validate\u001B[39m(obj):\n\u001B[1;32m     74\u001B[0m     \u001B[38;5;28;01mif\u001B[39;00m \u001B[38;5;129;01mnot\u001B[39;00m is_geometry_type(obj):\n\u001B[0;32m---> 75\u001B[0m         \u001B[38;5;28;01mraise\u001B[39;00m \u001B[38;5;167;01mAttributeError\u001B[39;00m(\n\u001B[1;32m     76\u001B[0m             \u001B[38;5;124m\"\u001B[39m\u001B[38;5;124mCannot use \u001B[39m\u001B[38;5;124m'\u001B[39m\u001B[38;5;124mgeom\u001B[39m\u001B[38;5;124m'\u001B[39m\u001B[38;5;124m accessor on objects of \u001B[39m\u001B[38;5;124m\"\u001B[39m\n\u001B[1;32m     77\u001B[0m             \u001B[38;5;124m\"\u001B[39m\u001B[38;5;124mdtype \u001B[39m\u001B[38;5;124m'\u001B[39m\u001B[38;5;132;01m{}\u001B[39;00m\u001B[38;5;124m'\u001B[39m\u001B[38;5;124m.\u001B[39m\u001B[38;5;124m\"\u001B[39m\u001B[38;5;241m.\u001B[39mformat(obj\u001B[38;5;241m.\u001B[39mdtype)\n\u001B[1;32m     78\u001B[0m         )\n",
      "\u001B[0;31mAttributeError\u001B[0m: Cannot use 'geom' accessor on objects of dtype 'geometry'."
     ]
    }
   ],
   "source": [
    "# upload to layer - not currently working\n",
    "\"\"\"gdf = gpd.read_file('datasets/do_prace_na_kole.geojson')\n",
    "dpnk_props = {\"title\":\"DoPraceNaKole_\" + str(int(dt.datetime.now().timestamp())),\n",
    "                        \"type\":\"File Geodatabase\",\n",
    "                        \"tags\":\"Brno, Do prace na kole\",\n",
    "                        \"snippet\":\"Data from bike-to-work event aggregated to street sections\",\n",
    "                        \"description\":\"Data downloaded from data.brno.cz\"}\n",
    "\n",
    "if not \"datasets\" in [folder['title'] for folder in gis.users.me.folders]:\n",
    "    gis.content.create_folder(\"datasets\")\n",
    "\n",
    "dpnk_fgdb_item = gis.content.add(item_properties=dpnk_props,\n",
    "                                           data=gdf,\n",
    "                                           folder=\"datasets\")\n",
    "dpnk_item = dpnk_fgdb_item.publish()\"\"\"\n"
   ],
   "metadata": {
    "collapsed": false,
    "pycharm": {
     "name": "#%%\n"
    }
   }
  }
 ],
 "metadata": {
  "kernelspec": {
   "display_name": "Python 3.9.9 ('venv': venv)",
   "language": "python",
   "name": "python3"
  },
  "language_info": {
   "codemirror_mode": {
    "name": "ipython",
    "version": 2
   },
   "file_extension": ".py",
   "mimetype": "text/x-python",
   "name": "python",
   "nbconvert_exporter": "python",
   "pygments_lexer": "ipython2",
   "version": "3.9.9"
  },
  "vscode": {
   "interpreter": {
    "hash": "b70e8dda98b57a1704ff2cdbe88254b650ad93a6c7c84bd1f3562732adaa6cb9"
   }
  }
 },
 "nbformat": 4,
 "nbformat_minor": 0
}