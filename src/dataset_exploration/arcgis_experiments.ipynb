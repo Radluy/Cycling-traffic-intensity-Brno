{
 "cells": [
  {
   "cell_type": "code",
   "execution_count": 2,
   "metadata": {
    "collapsed": true,
    "pycharm": {
     "name": "#%%\n"
    }
   },
   "outputs": [
    {
     "data": {
      "text/html": [
       "<div class=\"9item_container\" style=\"height: auto; overflow: hidden; border: 1px solid #cfcfcf; border-radius: 2px; background: #f6fafa; line-height: 1.21429em; padding: 10px;\">\n",
       "                    <div class=\"item_left\" style=\"width: 210px; float: left;\">\n",
       "                       <a href='https://fitvut-xelias18.maps.arcgis.com/home/user.html?user=radoslav_elias' target='_blank'>\n",
       "                        <img src='https://fitvut-xelias18.maps.arcgis.com/home/js/arcgisonline/css/images/no-user-thumb.jpg' class=\"itemThumbnail\">\n",
       "                       </a>\n",
       "                    </div>\n",
       "\n",
       "                    <div class=\"item_right\" style=\"float: none; width: auto; overflow: hidden;\">\n",
       "                        <a href='https://fitvut-xelias18.maps.arcgis.com/home/user.html?user=radoslav_elias' target='_blank'><b>Radoslav Elias</b>\n",
       "                        </a>\n",
       "                        <br/><br/><b>Bio</b>: None\n",
       "                        <br/><b>First Name</b>: Radoslav\n",
       "                        <br/><b>Last Name</b>: Elias\n",
       "                        <br/><b>Username</b>: radoslav_elias\n",
       "                        <br/><b>Joined</b>: September 24, 2022\n",
       "\n",
       "                    </div>\n",
       "                </div>\n",
       "                "
      ],
      "text/plain": [
       "<User username:radoslav_elias>"
      ]
     },
     "execution_count": 2,
     "metadata": {},
     "output_type": "execute_result"
    }
   ],
   "source": [
    "from arcgis.gis import GIS\n",
    "\n",
    "# my app link\n",
    "user_name = input('input your user_name: ')\n",
    "pwd = input('input password: ')\n",
    "gis = GIS('https://fitvut-xelias18.maps.arcgis.com/home/item.html?id=9e81631a9db24d6fa4376dd1b4736975',\n",
    "          username=user_name,\n",
    "          password=pwd)\n",
    "\n",
    "gis.users.get('radoslav_elias')"
   ]
  },
  {
   "cell_type": "code",
   "execution_count": 3,
   "metadata": {
    "collapsed": false,
    "pycharm": {
     "name": "#%%\n"
    }
   },
   "outputs": [
    {
     "data": {
      "text/plain": [
       "arcgis.gis.Item"
      ]
     },
     "execution_count": 3,
     "metadata": {},
     "output_type": "execute_result"
    }
   ],
   "source": [
    "model = gis.content.search('Brno Cycling Traffic Intensity - Street Network Model', item_type='feature layer')[0]\n",
    "type(model)\n"
   ]
  },
  {
   "cell_type": "code",
   "execution_count": 4,
   "metadata": {
    "collapsed": false,
    "pycharm": {
     "name": "#%%\n"
    }
   },
   "outputs": [],
   "source": [
    "# featureLayer object\n",
    "model_layer = model.layers[0]"
   ]
  },
  {
   "cell_type": "code",
   "execution_count": 5,
   "metadata": {
    "collapsed": false,
    "pycharm": {
     "name": "#%%\n"
    }
   },
   "outputs": [
    {
     "name": "stdout",
     "output_type": "stream",
     "text": [
      "access\n",
      "bicycle\n",
      "bridge\n",
      "busway\n",
      "cycleway\n",
      "est_width\n",
      "foot\n",
      "footway\n",
      "highway\n",
      "int_ref\n",
      "junction\n",
      "lanes\n",
      "lit\n",
      "maxspeed\n",
      "motorcar\n",
      "motorroad\n",
      "motor_vehicle\n",
      "name\n",
      "oneway\n",
      "path\n",
      "psv\n",
      "ref\n",
      "service\n",
      "segregated\n",
      "sidewalk\n",
      "smoothness\n",
      "surface\n",
      "tracktype\n",
      "tunnel\n",
      "width\n",
      "id\n",
      "timestamp\n",
      "version\n",
      "tags\n",
      "osm_type\n",
      "length\n",
      "area\n",
      "counter_id\n",
      "segment_id\n",
      "biketowork_id\n",
      "city_census_id\n",
      "ObjectId\n",
      "Shape__Length\n"
     ]
    }
   ],
   "source": [
    "for f in model_layer.properties.fields:\n",
    "    print(f['name'])\n",
    "\n",
    "# featureSet object\n",
    "query_result1 = model_layer.query(where=\"counter_id IN (1, 2)\", out_fields='id')"
   ]
  },
  {
   "cell_type": "code",
   "execution_count": 6,
   "metadata": {
    "collapsed": false,
    "pycharm": {
     "name": "#%%\n"
    }
   },
   "outputs": [
    {
     "data": {
      "text/html": [
       "<div>\n",
       "<style scoped>\n",
       "    .dataframe tbody tr th:only-of-type {\n",
       "        vertical-align: middle;\n",
       "    }\n",
       "\n",
       "    .dataframe tbody tr th {\n",
       "        vertical-align: top;\n",
       "    }\n",
       "\n",
       "    .dataframe thead th {\n",
       "        text-align: right;\n",
       "    }\n",
       "</style>\n",
       "<table border=\"1\" class=\"dataframe\">\n",
       "  <thead>\n",
       "    <tr style=\"text-align: right;\">\n",
       "      <th></th>\n",
       "      <th>ObjectId</th>\n",
       "      <th>id</th>\n",
       "      <th>SHAPE</th>\n",
       "    </tr>\n",
       "  </thead>\n",
       "  <tbody>\n",
       "    <tr>\n",
       "      <th>0</th>\n",
       "      <td>4056</td>\n",
       "      <td>83202890</td>\n",
       "      <td>{\"paths\": [[[1848187.81262003, 6306078.7800954...</td>\n",
       "    </tr>\n",
       "    <tr>\n",
       "      <th>1</th>\n",
       "      <td>15377</td>\n",
       "      <td>736313314</td>\n",
       "      <td>{\"paths\": [[[1840831.75387672, 6312489.0861374...</td>\n",
       "    </tr>\n",
       "  </tbody>\n",
       "</table>\n",
       "</div>"
      ],
      "text/plain": [
       "   ObjectId         id                                              SHAPE\n",
       "0      4056   83202890  {\"paths\": [[[1848187.81262003, 6306078.7800954...\n",
       "1     15377  736313314  {\"paths\": [[[1840831.75387672, 6312489.0861374..."
      ]
     },
     "execution_count": 6,
     "metadata": {},
     "output_type": "execute_result"
    }
   ],
   "source": [
    "query_result1.sdf"
   ]
  },
  {
   "cell_type": "code",
   "execution_count": 7,
   "metadata": {
    "collapsed": false,
    "pycharm": {
     "name": "#%%\n"
    }
   },
   "outputs": [
    {
     "name": "stdout",
     "output_type": "stream",
     "text": [
      "[83202890, 736313314]\n"
     ]
    }
   ],
   "source": [
    "way_ids = [feature.attributes['id'] for feature in query_result1.features]\n",
    "print(way_ids)"
   ]
  },
  {
   "cell_type": "code",
   "execution_count": null,
   "metadata": {
    "collapsed": false,
    "pycharm": {
     "name": "#%%\n"
    }
   },
   "outputs": [],
   "source": [
    "# upload to layer - not currently working\n",
    "import geopandas as gpd\n",
    "import datetime as dt\n",
    "gdf = gpd.read_file('datasets/do_prace_na_kole.geojson')\n",
    "dpnk_props = {\"title\":\"DoPraceNaKole_\" + str(int(dt.datetime.now().timestamp())),\n",
    "                        \"type\":\"File Geodatabase\",\n",
    "                        \"tags\":\"Brno, Do prace na kole\",\n",
    "                        \"snippet\":\"Data from bike-to-work event aggregated to street sections\",\n",
    "                        \"description\":\"Data downloaded from data.brno.cz\"}\n",
    "\n",
    "if not \"datasets\" in [folder['title'] for folder in gis.users.me.folders]:\n",
    "    gis.content.create_folder(\"datasets\")\n",
    "\n",
    "dpnk_fgdb_item = gis.content.add(item_properties=dpnk_props,\n",
    "                                           data=gdf,\n",
    "                                           folder=\"datasets\")\n",
    "dpnk_item = dpnk_fgdb_item.publish()\n"
   ]
  }
 ],
 "metadata": {
  "kernelspec": {
   "display_name": "Python 3.9.9 ('venv': venv)",
   "language": "python",
   "name": "python3"
  },
  "language_info": {
   "codemirror_mode": {
    "name": "ipython",
    "version": 3
   },
   "file_extension": ".py",
   "mimetype": "text/x-python",
   "name": "python",
   "nbconvert_exporter": "python",
   "pygments_lexer": "ipython3",
   "version": "3.10.6"
  },
  "vscode": {
   "interpreter": {
    "hash": "b70e8dda98b57a1704ff2cdbe88254b650ad93a6c7c84bd1f3562732adaa6cb9"
   }
  }
 },
 "nbformat": 4,
 "nbformat_minor": 0
}
