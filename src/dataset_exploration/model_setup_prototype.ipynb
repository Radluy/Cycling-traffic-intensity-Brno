{
 "cells": [
  {
   "cell_type": "code",
   "execution_count": 9,
   "metadata": {
    "collapsed": true,
    "pycharm": {
     "name": "#%%\n"
    }
   },
   "outputs": [],
   "source": [
    "import pyrosm\n",
    "import geopandas as gpd\n",
    "import pandas as pd\n",
    "import numpy as np\n",
    "import seaborn as sns\n",
    "from matplotlib import pyplot as plt\n",
    "import contextily as cx\n",
    "import gc\n",
    "import geometry_utils"
   ]
  },
  {
   "cell_type": "code",
   "execution_count": null,
   "metadata": {
    "collapsed": false,
    "pycharm": {
     "name": "#%%\n"
    }
   },
   "outputs": [],
   "source": [
    "# load openstreetmap basemap\n",
    "# https://www.openstreetmap.org/export - boundingbox setup\n",
    "bbox = [16.3837, 49.0946, 16.9227, 49.2884]  # [minx, miny, maxx, maxy]\n",
    "pbf_reader = pyrosm.OSM('../datasets/czech_republic-latest.osm.pbf', bounding_box=bbox)\n",
    "cycling_network = pbf_reader.get_network('cycling')\n",
    "driving_network = pbf_reader.get_network('driving')\n",
    "basemap_network = driving_network.append(cycling_network)\n",
    "del cycling_network\n",
    "del driving_network\n",
    "gc.collect()\n",
    "\n",
    "# load strava data\n",
    "strava_df = pd.read_csv('../../datasets/strava_daily.csv')\n",
    "# load bike-to-work data\n",
    "biketowork_df = gpd.read_file('../../datasets/do_prace_na_kole.geojson')\n",
    "# load mechanical counters data\n",
    "counters_df = gpd.read_file('../../datasets/cyklodetektory.geojson')\n",
    "# load driving census data\n",
    "census_df = pd.read_excel('../../datasets/rsd_scitanie_dopravy_2020.xlsx', skiprows=[0])"
   ]
  },
  {
   "cell_type": "code",
   "execution_count": null,
   "metadata": {
    "collapsed": false,
    "pycharm": {
     "name": "#%%\n"
    }
   },
   "outputs": [],
   "source": [
    "# drop unnecessary columns - speedup\n",
    "strava_df = strava_df.drop([\n",
    "    'forward_morning_trip_count',\n",
    "    'reverse_morning_trip_count',\n",
    "    'forward_evening_trip_count',\n",
    "    'reverse_evening_trip_count',\n",
    "    'forward_male_people_count',\n",
    "    'reverse_male_people_count',\n",
    "    'forward_female_people_count',\n",
    "    'reverse_female_people_count',\n",
    "    'forward_unspecified_people_count',\n",
    "    'reverse_unspecified_people_count',\n",
    "    'forward_13_19_people_count',\n",
    "    'reverse_13_19_people_count',\n",
    "    'forward_20_34_people_count',\n",
    "    'reverse_20_34_people_count',\n",
    "    'forward_35_54_people_count',\n",
    "    'reverse_35_54_people_count',\n",
    "    'forward_55_64_people_count',\n",
    "    'reverse_55_64_people_count',\n",
    "    'forward_65_plus_people_count',\n",
    "    'reverse_65_plus_people_count',\n",
    "    'activity_type',\n",
    "    'year'\n",
    "], axis=1)\n",
    "# drop from counters\n",
    "counters_df = counters_df.drop([\n",
    "    'ID',\n",
    "    'FirstDirection_Name',\n",
    "    'FirstDirection_Pedestrians',\n",
    "    'FirstDirection_Total',\n",
    "    'SecondDirection_Name',\n",
    "    'SecondDirection_Pedestrians',\n",
    "    'SecondDirection_Total',\n",
    "    'LocationId',\n",
    "    'Latitude',\n",
    "    'Longitude',\n",
    "], axis=1)\n",
    "counters_df\n",
    "\n",
    "census_df = census_df[census_df['NÁZEV_MĚSTA'] == 'Brno']"
   ]
  },
  {
   "cell_type": "code",
   "execution_count": null,
   "metadata": {
    "collapsed": false,
    "pycharm": {
     "name": "#%%\n"
    }
   },
   "outputs": [],
   "source": [
    "print(basemap_network.shape)\n",
    "print(strava_df.shape)"
   ]
  },
  {
   "attachments": {},
   "cell_type": "markdown",
   "metadata": {
    "collapsed": false,
    "pycharm": {
     "name": "#%% md\n"
    }
   },
   "source": [
    "## Match strava data to OSM basemap"
   ]
  },
  {
   "cell_type": "code",
   "execution_count": null,
   "metadata": {
    "collapsed": false,
    "pycharm": {
     "name": "#%%\n"
    }
   },
   "outputs": [],
   "source": [
    "# create model from basemap and strava data\n",
    "model = strava_df.join(basemap_network.set_index('id'), on='osm_reference_id', how='inner')\n",
    "del basemap_network\n",
    "del strava_df\n",
    "gc.collect()\n",
    "model = model.drop_duplicates()\n",
    "# https://www.openstreetmap.org/way/{id}\n",
    "print(model.shape)\n",
    "model.head()"
   ]
  },
  {
   "attachments": {},
   "cell_type": "markdown",
   "metadata": {
    "collapsed": false,
    "pycharm": {
     "name": "#%% md\n"
    }
   },
   "source": [
    "## Match mechanical counters to basemap"
   ]
  },
  {
   "cell_type": "code",
   "execution_count": null,
   "metadata": {
    "collapsed": false,
    "pycharm": {
     "name": "#%%\n"
    }
   },
   "outputs": [],
   "source": [
    "# load distances between ways and mechanical counter units\n",
    "counters = counters_df['geometry'].unique()\n",
    "for i, item in enumerate(counters):\n",
    "    # within <- exact match fails (needs threshold), better to use distance\n",
    "    model[f'distance{i}'] = model['geometry'].apply(lambda x: x.distance(item))\n",
    "\n",
    "counter_units = []\n",
    "for counter_geo in counters:\n",
    "    counter_units.append(counters_df[counters_df['geometry']==counter_geo]['UnitName'].unique()[0])\n",
    "\n",
    "model.head()"
   ]
  },
  {
   "cell_type": "code",
   "execution_count": null,
   "metadata": {
    "collapsed": false,
    "pycharm": {
     "name": "#%%\n"
    }
   },
   "outputs": [],
   "source": [
    "# check if counter street was found (OPTIONAL)\n",
    "for i in range(len(counters)):\n",
    "    print(f'Counter #{i}: ({counters_df[counters_df[\"geometry\"]==counters[i]][\"UnitName\"].unique()[0]})')\n",
    "    print(f'Lon: {counters[i].x}\\nLat: {counters[i].y}')\n",
    "    print(f'Closest way: {model[model[f\"distance{i}\"]==model[f\"distance{i}\"].min()][\"osm_reference_id\"].values}')"
   ]
  },
  {
   "cell_type": "code",
   "execution_count": null,
   "metadata": {
    "collapsed": false,
    "pycharm": {
     "name": "#%%\n"
    }
   },
   "outputs": [],
   "source": [
    "# draw and save edges matched to counters\n",
    "fig = plt.figure(figsize=[20, 20], dpi=800)\n",
    "ax = plt.axes()\n",
    "fig.add_axes(ax)\n",
    "unit_way_dict = {}\n",
    "for i in range(len(counters)):\n",
    "    min_dist = model[model[f\"distance{i}\"]==model[f\"distance{i}\"].min()]\n",
    "    counter_matches = min_dist['geometry']\n",
    "    geoser = gpd.GeoSeries(counter_matches)\n",
    "    geoser.plot(ax=ax)\n",
    "    json_str = geoser.to_json()\n",
    "    unit_way_dict[counter_units[i]] = min_dist['osm_reference_id'].unique()[0]\n",
    "    with open(f'counters_matching/counter{i}_matches.geojson', 'w+') as f:\n",
    "        f.write(json_str)\n",
    "# append edges to counters_df\n",
    "counters_df['way_id'] = counters_df['UnitName'].map(unit_way_dict)\n",
    "counters_df.plot(ax=ax)\n",
    "cx.add_basemap(ax, crs=counters_df.crs, zoom=12)\n",
    "with open(f'counters_matching/counters.geojson', 'w+') as f:\n",
    "    f.write(gpd.GeoSeries(counters).to_json())\n",
    "\n",
    "for i in range(len(counters)):\n",
    "    model = model.drop([f'distance{i}'], axis=1)\n",
    "counters_df.head()"
   ]
  },
  {
   "cell_type": "code",
   "execution_count": null,
   "metadata": {
    "collapsed": false,
    "pycharm": {
     "name": "#%%\n"
    }
   },
   "outputs": [],
   "source": [
    "counters_df.to_file('counters_matched.geojson', driver=\"GeoJSON\")"
   ]
  },
  {
   "cell_type": "code",
   "execution_count": null,
   "metadata": {
    "collapsed": false,
    "pycharm": {
     "name": "#%%\n"
    }
   },
   "outputs": [],
   "source": [
    "# save final model\n",
    "model.to_csv('model.csv', sep=';')\n",
    "gpd.GeoDataFrame(model).to_file('model.geojson', driver=\"GeoJSON\")"
   ]
  },
  {
   "cell_type": "code",
   "execution_count": null,
   "metadata": {
    "collapsed": false,
    "pycharm": {
     "name": "#%%\n"
    }
   },
   "outputs": [],
   "source": [
    "model.to_pickle('model.pkl')"
   ]
  },
  {
   "attachments": {},
   "cell_type": "markdown",
   "metadata": {
    "collapsed": false,
    "pycharm": {
     "name": "#%% md\n"
    }
   },
   "source": [
    "### From this point load model from pickle to skip setup"
   ]
  },
  {
   "cell_type": "code",
   "execution_count": 41,
   "metadata": {
    "collapsed": false,
    "pycharm": {
     "name": "#%%\n"
    }
   },
   "outputs": [],
   "source": [
    "model = pd.read_pickle('model.pkl')"
   ]
  },
  {
   "cell_type": "code",
   "execution_count": null,
   "metadata": {
    "collapsed": false,
    "pycharm": {
     "name": "#%%\n"
    }
   },
   "outputs": [],
   "source": [
    "model_shrink = model.drop_duplicates(subset='osm_reference_id')\n",
    "model_shrink['biketowork_gid'] = np.empty((len(model_shrink), 0)).tolist() # pd.Series([[] for _ in range(len(model_shrink))])\n",
    "biketowork_df = gpd.read_file('datasets/do_prace_na_kole.geojson')\n",
    "biketowork_shrink = biketowork_df.drop_duplicates(subset='GID_ROAD')"
   ]
  },
  {
   "attachments": {},
   "cell_type": "markdown",
   "metadata": {
    "collapsed": false,
    "pycharm": {
     "name": "#%% md\n"
    }
   },
   "source": [
    "## Match model OSM basemap to biketowork ways\n",
    "### (brute force N:N matching - VERY SLOW)"
   ]
  },
  {
   "cell_type": "code",
   "execution_count": null,
   "metadata": {
    "collapsed": false,
    "pycharm": {
     "name": "#%%\n"
    }
   },
   "outputs": [],
   "source": [
    "for index, row in biketowork_df.iterrows():\n",
    "    model_shrink['biketowork_gid'] = model_shrink.apply(lambda x: geometry_utils.assign_overlap(row, x['geometry'], x['biketowork_gid'], row['GID_ROAD']),\n",
    "                                                        axis=1,)"
   ]
  },
  {
   "cell_type": "code",
   "execution_count": null,
   "metadata": {
    "collapsed": false,
    "pycharm": {
     "name": "#%%\n"
    }
   },
   "outputs": [],
   "source": [
    "# osm=94635449 gid=224682\n",
    "# osm=5606151 gid=224865  # NERUDOVA\n",
    "# osm=8134289 gid=[224865.0]\n",
    "# osm=33265238 gid=[224868.0]\n",
    "model_shrink.to_csv('model_with_dpnk.csv', sep=';')\n",
    "gpd.GeoDataFrame(model_shrink).to_file('model_with_dpnk.geojson', driver=\"GeoJSON\")\n",
    "model_shrink[['biketowork_gid', 'osm_reference_id']]"
   ]
  },
  {
   "attachments": {},
   "cell_type": "markdown",
   "metadata": {
    "collapsed": false,
    "pycharm": {
     "name": "#%% md\n"
    }
   },
   "source": [
    "## Create map segment matrix"
   ]
  },
  {
   "cell_type": "code",
   "execution_count": 43,
   "metadata": {
    "collapsed": false,
    "pycharm": {
     "name": "#%%\n"
    }
   },
   "outputs": [],
   "source": [
    "from itertools import pairwise\n",
    "\n",
    "def generate_segments(bbox, num_of_segments):\n",
    "    # X Segments\n",
    "    degree_width = bbox[2] - bbox[0]\n",
    "    segment_width = degree_width / num_of_segments\n",
    "    start_minx = bbox[0]\n",
    "    segment_mins_x = [start_minx + (segment_width*n) for n in range(NUM_OF_SEGMENTS+1)]\n",
    "    # Y segments\n",
    "    degree_height = bbox[3] - bbox[1]\n",
    "    segment_heigth = degree_height / num_of_segments\n",
    "    start_miny = bbox[1]\n",
    "    segment_mins_y = [start_miny + (segment_heigth*n) for n in range(NUM_OF_SEGMENTS+1)]\n",
    "\n",
    "    # create segment matrix\n",
    "    segments_matrix = []\n",
    "    y_pairs = pairwise(segment_mins_y)\n",
    "    for y_limits in y_pairs:\n",
    "        x_pairs = pairwise(segment_mins_x)\n",
    "        for x_limits in x_pairs:\n",
    "            segments_matrix.append((x_limits[0], y_limits[0], x_limits[1], y_limits[1]))\n",
    "\n",
    "    return segments_matrix\n",
    "\n",
    "bbox = (16.3837, 49.0946, 16.9227, 49.2884)  # [minx, miny, maxx, maxy]\n",
    "NUM_OF_SEGMENTS = 32\n",
    "segments_matrix = generate_segments(bbox, NUM_OF_SEGMENTS)"
   ]
  },
  {
   "attachments": {},
   "cell_type": "markdown",
   "metadata": {
    "collapsed": false,
    "pycharm": {
     "name": "#%% md\n"
    }
   },
   "source": [
    "## Match model street to segment"
   ]
  },
  {
   "cell_type": "code",
   "execution_count": 44,
   "metadata": {
    "collapsed": false,
    "pycharm": {
     "name": "#%%\n"
    }
   },
   "outputs": [],
   "source": [
    "def is_in_segment(row_bbox, segment):\n",
    "    # check if falls fully into the segment (leaves streets that break segment borders)\n",
    "    if row_bbox[0] < segment[0]:  # min X\n",
    "        return False\n",
    "    if row_bbox[1] < segment[1]:  # min Y\n",
    "        return False\n",
    "    if row_bbox[2] > segment[2]:  # max X\n",
    "        return False\n",
    "    if row_bbox[3] > segment[3]:  # max Y\n",
    "        return False\n",
    "    # print(f\"segment: {segment}\\nrow: {row_bbox}\")\n",
    "    return True\n",
    "\n",
    "\n",
    "def alternative_is_in_segment(row_bbox, segment):\n",
    "    # check if start of the street lays in the segment\n",
    "    if (row_bbox[0] > segment[0]) and \\\n",
    "       (row_bbox[0] < segment[2]) and \\\n",
    "       (row_bbox[1] > segment[1]) and \\\n",
    "       (row_bbox[1] < segment[3]):\n",
    "        return True\n",
    "    else:\n",
    "        return False\n",
    "\n",
    "\n",
    "def assign_segments_to_dataset(dataset, segment_matrix, id_column):\n",
    "    segment_ids = []\n",
    "    street_ids = []\n",
    "    for _, row in dataset.iterrows():\n",
    "        row_bbox = row['geometry'].bounds\n",
    "        # check every segment\n",
    "        for index, segment in enumerate(segment_matrix):\n",
    "            # save found segment and street ID\n",
    "            if alternative_is_in_segment(row_bbox, segment):\n",
    "                segment_ids.append(index)\n",
    "                street_ids.append(row[id_column])\n",
    "                break\n",
    "\n",
    "    street_to_segment_df = pd.DataFrame({ id_column: street_ids, 'segment_id': segment_ids})\n",
    "    return dataset.merge(street_to_segment_df, on=id_column)\n",
    "\n",
    "model_shrink = assign_segments_to_dataset(model_shrink, segments_matrix, 'osm_reference_id')\n",
    "biketowork_shrink = assign_segments_to_dataset(biketowork_shrink, segments_matrix, 'GID_ROAD')"
   ]
  },
  {
   "cell_type": "code",
   "execution_count": null,
   "metadata": {
    "collapsed": false,
    "pycharm": {
     "name": "#%%\n"
    }
   },
   "outputs": [],
   "source": [
    "model_shrink['segment_id'].value_counts()\n",
    "biketowork_shrink['segment_id'].value_counts()"
   ]
  },
  {
   "cell_type": "code",
   "execution_count": null,
   "metadata": {
    "collapsed": false,
    "pycharm": {
     "name": "#%%\n"
    }
   },
   "outputs": [],
   "source": [
    "gpd.GeoDataFrame(model_shrink[model_shrink['segment_id'] == 188]).plot()"
   ]
  },
  {
   "cell_type": "code",
   "execution_count": null,
   "metadata": {
    "collapsed": false,
    "pycharm": {
     "name": "#%%\n"
    }
   },
   "outputs": [],
   "source": [
    "gpd.GeoDataFrame(biketowork_shrink[biketowork_shrink['segment_id'] == 188]).plot()"
   ]
  },
  {
   "cell_type": "code",
   "execution_count": null,
   "metadata": {
    "collapsed": false,
    "pycharm": {
     "name": "#%%\n"
    }
   },
   "outputs": [],
   "source": [
    "# try street matching per segment\n",
    "for segm_id in range(len(segments_matrix)):\n",
    "    model_segm = model_shrink[model_shrink['segment_id'] == segm_id].copy()\n",
    "    model_segm['biketowork_gid'] = np.empty((len(model_segm), 0)).tolist()\n",
    "    for index, row in biketowork_shrink[biketowork_shrink['segment_id'] == segm_id].iterrows():\n",
    "        model_segm['biketowork_gid'] = model_segm.apply(lambda x: geometry_utils.assign_overlap(row, x['geometry'], x['biketowork_gid'], row['GID_ROAD']), axis=1,)"
   ]
  },
  {
   "attachments": {},
   "cell_type": "markdown",
   "metadata": {
    "collapsed": false,
    "pycharm": {
     "name": "#%% md\n"
    }
   },
   "source": [
    "## Try line matching with segments and angle calculations"
   ]
  },
  {
   "cell_type": "code",
   "execution_count": null,
   "metadata": {
    "collapsed": false,
    "pycharm": {
     "name": "#%%\n"
    }
   },
   "outputs": [],
   "source": [
    "model_tmp = model_shrink\n",
    "biketowork_tmp = biketowork_shrink\n",
    "\n",
    "final_df = pd.DataFrame()\n",
    "for segm_id in range(1024):\n",
    "    print(f\"processing segment: {segm_id}\")\n",
    "    model_segm = model_tmp[model_tmp['segment_id'] == segm_id].copy()\n",
    "    biketowork_segm = biketowork_tmp[biketowork_tmp['segment_id'] == segm_id].copy()\n",
    "\n",
    "    matched_lines = []\n",
    "    for line_real in model_segm['geometry']:\n",
    "        new_match = geometry_utils.match_lines(line_real, biketowork_segm['geometry'])\n",
    "        if new_match:\n",
    "            new_gid = biketowork_segm[biketowork_segm['geometry'] == new_match]['GID_ROAD'].array[0]\n",
    "        else:\n",
    "            new_gid = np.NaN\n",
    "        matched_lines.append(new_gid)\n",
    "\n",
    "    model_segm['GID_ROAD'] = matched_lines\n",
    "    joined_model_segm = model_segm.merge(biketowork_segm, on='GID_ROAD', how='left')\n",
    "    final_df = pd.concat([final_df, joined_model_segm])"
   ]
  },
  {
   "cell_type": "code",
   "execution_count": 63,
   "metadata": {
    "collapsed": false,
    "pycharm": {
     "name": "#%%\n"
    }
   },
   "outputs": [],
   "source": [
    "# matched all street segments, join by IDs with counters and biketowork dataset\n",
    "matched_counters = gpd.read_file('counters_matched.geojson')\n",
    "matched_counters = matched_counters.drop_duplicates(subset='UnitId')\n",
    "final_with_counters = final_df.merge(matched_counters, left_on='osm_reference_id', right_on='way_id', how='left')\n",
    "\n",
    "final_df = final_df.drop('biketowork_gid', axis=1)\n",
    "final_df = final_df.drop('geometry_y', axis=1)\n",
    "final_df = final_df.rename(columns={\"geometry_x\": 'geometry'})\n",
    "gpd.GeoDataFrame(final_df).to_file('final.geojson', driver=\"GeoJSON\")\n"
   ]
  }
 ],
 "metadata": {
  "kernelspec": {
   "display_name": "dp-venv",
   "language": "python",
   "name": "python3"
  },
  "language_info": {
   "codemirror_mode": {
    "name": "ipython",
    "version": 2
   },
   "file_extension": ".py",
   "mimetype": "text/x-python",
   "name": "python",
   "nbconvert_exporter": "python",
   "pygments_lexer": "ipython2",
   "version": "3.10.6 (main, Nov 10 2011, 15:00:00) [GCC 12.2.0]"
  },
  "vscode": {
   "interpreter": {
    "hash": "8cfff35adf9accf7038f217de9cb7ff6503131842de06185875da502b16b9b22"
   }
  }
 },
 "nbformat": 4,
 "nbformat_minor": 0
}
