{
 "cells": [
  {
   "cell_type": "code",
   "execution_count": 1,
   "metadata": {
    "pycharm": {
     "name": "#%%\n"
    }
   },
   "outputs": [],
   "source": [
    "import pyrosm"
   ]
  },
  {
   "cell_type": "code",
   "execution_count": 4,
   "metadata": {
    "pycharm": {
     "name": "#%%\n"
    }
   },
   "outputs": [
    {
     "data": {
      "text/plain": [
       "<pyrosm.pyrosm.OSM at 0x7f5d62c5b580>"
      ]
     },
     "metadata": {},
     "output_type": "display_data"
    }
   ],
   "source": [
    "# https://www.openstreetmap.org/export - boundingbox setup\n",
    "bbox = [16.3837, 49.0946, 16.9227, 49.2884]  # [minx, miny, maxx, maxy]\n",
    "pyrom = pyrosm.OSM('../../datasets/czech_republic-latest.osm.pbf', bounding_box=bbox)\n",
    "display(pyrom)"
   ]
  },
  {
   "cell_type": "code",
   "execution_count": null,
   "metadata": {
    "pycharm": {
     "name": "#%%\n"
    }
   },
   "outputs": [],
   "source": [
    "# gdf = pyrom.get_network('cycling')\n",
    "network = pyrom.get_network()\n",
    "random_way = network[network['id']==221042203]\n",
    "geo = random_way['geometry'].to_json()\n",
    "geo"
   ]
  }
 ],
 "metadata": {
  "kernelspec": {
   "display_name": "Python 3.9.9 ('venv': venv)",
   "language": "python",
   "name": "python3"
  },
  "language_info": {
   "codemirror_mode": {
    "name": "ipython",
    "version": 3
   },
   "file_extension": ".py",
   "mimetype": "text/x-python",
   "name": "python",
   "nbconvert_exporter": "python",
   "pygments_lexer": "ipython3",
   "version": "3.10.6"
  },
  "orig_nbformat": 4,
  "vscode": {
   "interpreter": {
    "hash": "b70e8dda98b57a1704ff2cdbe88254b650ad93a6c7c84bd1f3562732adaa6cb9"
   }
  }
 },
 "nbformat": 4,
 "nbformat_minor": 2
}
