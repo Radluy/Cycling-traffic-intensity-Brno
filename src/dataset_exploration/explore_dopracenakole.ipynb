{
 "cells": [
  {
   "attachments": {},
   "cell_type": "markdown",
   "metadata": {
    "pycharm": {
     "name": "#%% md\n"
    }
   },
   "source": [
    "### Import libraries"
   ]
  },
  {
   "cell_type": "code",
   "execution_count": 1,
   "metadata": {
    "pycharm": {
     "name": "#%%\n"
    }
   },
   "outputs": [],
   "source": [
    "import geopandas as gpd\n",
    "import seaborn as sns"
   ]
  },
  {
   "attachments": {},
   "cell_type": "markdown",
   "metadata": {
    "pycharm": {
     "name": "#%% md\n"
    }
   },
   "source": [
    "### Read geojson file"
   ]
  },
  {
   "cell_type": "code",
   "execution_count": 2,
   "metadata": {
    "pycharm": {
     "name": "#%%\n"
    }
   },
   "outputs": [],
   "source": [
    "df = gpd.read_file('../../datasets/do_prace_na_kole.geojson')"
   ]
  },
  {
   "attachments": {},
   "cell_type": "markdown",
   "metadata": {
    "pycharm": {
     "name": "#%% md\n"
    }
   },
   "source": [
    "### Basic dataset info\n",
    "\n",
    "1. ID: `UnitId` + `datum` + `FirstDirection_Name`/`SecondDirection_Name`\n",
    "2. Match to specific street/GIS: `Latitude` + `Longitude` (they match it with https://www.ceda.cz/ street data. Methodology explained in word doc)\n",
    "3. Useful information: `FirstDirection_Cyclists`, `SecondDirection_Cyclists`"
   ]
  },
  {
   "cell_type": "code",
   "execution_count": 3,
   "metadata": {
    "pycharm": {
     "name": "#%%\n"
    }
   },
   "outputs": [
    {
     "data": {
      "text/html": [
       "<div>\n",
       "<style scoped>\n",
       "    .dataframe tbody tr th:only-of-type {\n",
       "        vertical-align: middle;\n",
       "    }\n",
       "\n",
       "    .dataframe tbody tr th {\n",
       "        vertical-align: top;\n",
       "    }\n",
       "\n",
       "    .dataframe thead th {\n",
       "        text-align: right;\n",
       "    }\n",
       "</style>\n",
       "<table border=\"1\" class=\"dataframe\">\n",
       "  <thead>\n",
       "    <tr style=\"text-align: right;\">\n",
       "      <th></th>\n",
       "      <th>OBJECTID</th>\n",
       "      <th>GID_ROAD</th>\n",
       "      <th>COUNT_LINE</th>\n",
       "      <th>data_2018</th>\n",
       "      <th>data_2019</th>\n",
       "      <th>data_2020</th>\n",
       "      <th>data_2021</th>\n",
       "      <th>GlobalID</th>\n",
       "      <th>SHAPE_Length</th>\n",
       "      <th>geometry</th>\n",
       "    </tr>\n",
       "  </thead>\n",
       "  <tbody>\n",
       "    <tr>\n",
       "      <th>0</th>\n",
       "      <td>1</td>\n",
       "      <td>3512.0</td>\n",
       "      <td>2.0</td>\n",
       "      <td>0</td>\n",
       "      <td>0</td>\n",
       "      <td>0</td>\n",
       "      <td>1</td>\n",
       "      <td>{EE939FC1-CD8B-4FF6-9C02-482838DEFCCF}</td>\n",
       "      <td>0.002066</td>\n",
       "      <td>MULTILINESTRING ((16.69839 49.30872, 16.69838 ...</td>\n",
       "    </tr>\n",
       "    <tr>\n",
       "      <th>1</th>\n",
       "      <td>2</td>\n",
       "      <td>3515.0</td>\n",
       "      <td>44.0</td>\n",
       "      <td>3</td>\n",
       "      <td>5</td>\n",
       "      <td>3</td>\n",
       "      <td>34</td>\n",
       "      <td>{DD11C42A-AC4E-4B32-B156-8349C09E0C9A}</td>\n",
       "      <td>0.000113</td>\n",
       "      <td>MULTILINESTRING ((16.66312 49.29681, 16.66320 ...</td>\n",
       "    </tr>\n",
       "    <tr>\n",
       "      <th>2</th>\n",
       "      <td>3</td>\n",
       "      <td>3516.0</td>\n",
       "      <td>87.0</td>\n",
       "      <td>10</td>\n",
       "      <td>17</td>\n",
       "      <td>10</td>\n",
       "      <td>49</td>\n",
       "      <td>{146C1D8E-8230-4684-B278-85F8D437CA0E}</td>\n",
       "      <td>0.000821</td>\n",
       "      <td>MULTILINESTRING ((16.66234 49.29709, 16.66312 ...</td>\n",
       "    </tr>\n",
       "    <tr>\n",
       "      <th>3</th>\n",
       "      <td>4</td>\n",
       "      <td>4168.0</td>\n",
       "      <td>16.0</td>\n",
       "      <td>2</td>\n",
       "      <td>4</td>\n",
       "      <td>2</td>\n",
       "      <td>7</td>\n",
       "      <td>{23E90BA7-03CE-4634-98CF-972C5B5ACB1B}</td>\n",
       "      <td>0.001342</td>\n",
       "      <td>MULTILINESTRING ((16.64117 49.39327, 16.64130 ...</td>\n",
       "    </tr>\n",
       "    <tr>\n",
       "      <th>4</th>\n",
       "      <td>5</td>\n",
       "      <td>4169.0</td>\n",
       "      <td>20.0</td>\n",
       "      <td>1</td>\n",
       "      <td>1</td>\n",
       "      <td>1</td>\n",
       "      <td>18</td>\n",
       "      <td>{139D0C9D-70BF-4DD2-AB80-CD62BED3CBD9}</td>\n",
       "      <td>0.000630</td>\n",
       "      <td>MULTILINESTRING ((16.64110 49.39303, 16.64173 ...</td>\n",
       "    </tr>\n",
       "  </tbody>\n",
       "</table>\n",
       "</div>"
      ],
      "text/plain": [
       "   OBJECTID  GID_ROAD  COUNT_LINE  data_2018  data_2019  data_2020  data_2021  \\\n",
       "0         1    3512.0         2.0          0          0          0          1   \n",
       "1         2    3515.0        44.0          3          5          3         34   \n",
       "2         3    3516.0        87.0         10         17         10         49   \n",
       "3         4    4168.0        16.0          2          4          2          7   \n",
       "4         5    4169.0        20.0          1          1          1         18   \n",
       "\n",
       "                                 GlobalID  SHAPE_Length  \\\n",
       "0  {EE939FC1-CD8B-4FF6-9C02-482838DEFCCF}      0.002066   \n",
       "1  {DD11C42A-AC4E-4B32-B156-8349C09E0C9A}      0.000113   \n",
       "2  {146C1D8E-8230-4684-B278-85F8D437CA0E}      0.000821   \n",
       "3  {23E90BA7-03CE-4634-98CF-972C5B5ACB1B}      0.001342   \n",
       "4  {139D0C9D-70BF-4DD2-AB80-CD62BED3CBD9}      0.000630   \n",
       "\n",
       "                                            geometry  \n",
       "0  MULTILINESTRING ((16.69839 49.30872, 16.69838 ...  \n",
       "1  MULTILINESTRING ((16.66312 49.29681, 16.66320 ...  \n",
       "2  MULTILINESTRING ((16.66234 49.29709, 16.66312 ...  \n",
       "3  MULTILINESTRING ((16.64117 49.39327, 16.64130 ...  \n",
       "4  MULTILINESTRING ((16.64110 49.39303, 16.64173 ...  "
      ]
     },
     "metadata": {},
     "output_type": "display_data"
    },
    {
     "data": {
      "text/plain": [
       "'Shape: (65177, 10)'"
      ]
     },
     "metadata": {},
     "output_type": "display_data"
    },
    {
     "data": {
      "text/plain": [
       "'Columns:'"
      ]
     },
     "metadata": {},
     "output_type": "display_data"
    },
    {
     "data": {
      "text/plain": [
       "Index(['OBJECTID', 'GID_ROAD', 'COUNT_LINE', 'data_2018', 'data_2019',\n",
       "       'data_2020', 'data_2021', 'GlobalID', 'SHAPE_Length', 'geometry'],\n",
       "      dtype='object')"
      ]
     },
     "metadata": {},
     "output_type": "display_data"
    },
    {
     "data": {
      "text/html": [
       "<div>\n",
       "<style scoped>\n",
       "    .dataframe tbody tr th:only-of-type {\n",
       "        vertical-align: middle;\n",
       "    }\n",
       "\n",
       "    .dataframe tbody tr th {\n",
       "        vertical-align: top;\n",
       "    }\n",
       "\n",
       "    .dataframe thead th {\n",
       "        text-align: right;\n",
       "    }\n",
       "</style>\n",
       "<table border=\"1\" class=\"dataframe\">\n",
       "  <thead>\n",
       "    <tr style=\"text-align: right;\">\n",
       "      <th></th>\n",
       "      <th>OBJECTID</th>\n",
       "      <th>GID_ROAD</th>\n",
       "      <th>COUNT_LINE</th>\n",
       "      <th>data_2018</th>\n",
       "      <th>data_2019</th>\n",
       "      <th>data_2020</th>\n",
       "      <th>data_2021</th>\n",
       "      <th>SHAPE_Length</th>\n",
       "    </tr>\n",
       "  </thead>\n",
       "  <tbody>\n",
       "    <tr>\n",
       "      <th>count</th>\n",
       "      <td>65177.000000</td>\n",
       "      <td>65177.000000</td>\n",
       "      <td>65177.000000</td>\n",
       "      <td>65177.000000</td>\n",
       "      <td>65177.000000</td>\n",
       "      <td>65177.000000</td>\n",
       "      <td>65177.000000</td>\n",
       "      <td>65177.000000</td>\n",
       "    </tr>\n",
       "    <tr>\n",
       "      <th>mean</th>\n",
       "      <td>32589.000000</td>\n",
       "      <td>178834.981926</td>\n",
       "      <td>138.022401</td>\n",
       "      <td>24.114396</td>\n",
       "      <td>39.441413</td>\n",
       "      <td>23.777728</td>\n",
       "      <td>50.619574</td>\n",
       "      <td>0.001055</td>\n",
       "    </tr>\n",
       "    <tr>\n",
       "      <th>std</th>\n",
       "      <td>18815.123584</td>\n",
       "      <td>68036.420495</td>\n",
       "      <td>374.658794</td>\n",
       "      <td>70.162878</td>\n",
       "      <td>114.920825</td>\n",
       "      <td>69.144389</td>\n",
       "      <td>127.073586</td>\n",
       "      <td>0.001536</td>\n",
       "    </tr>\n",
       "    <tr>\n",
       "      <th>min</th>\n",
       "      <td>1.000000</td>\n",
       "      <td>3512.000000</td>\n",
       "      <td>1.000000</td>\n",
       "      <td>0.000000</td>\n",
       "      <td>0.000000</td>\n",
       "      <td>0.000000</td>\n",
       "      <td>0.000000</td>\n",
       "      <td>0.000001</td>\n",
       "    </tr>\n",
       "    <tr>\n",
       "      <th>25%</th>\n",
       "      <td>16295.000000</td>\n",
       "      <td>148173.000000</td>\n",
       "      <td>8.000000</td>\n",
       "      <td>1.000000</td>\n",
       "      <td>1.000000</td>\n",
       "      <td>1.000000</td>\n",
       "      <td>3.000000</td>\n",
       "      <td>0.000250</td>\n",
       "    </tr>\n",
       "    <tr>\n",
       "      <th>50%</th>\n",
       "      <td>32589.000000</td>\n",
       "      <td>201989.000000</td>\n",
       "      <td>29.000000</td>\n",
       "      <td>4.000000</td>\n",
       "      <td>6.000000</td>\n",
       "      <td>4.000000</td>\n",
       "      <td>12.000000</td>\n",
       "      <td>0.000550</td>\n",
       "    </tr>\n",
       "    <tr>\n",
       "      <th>75%</th>\n",
       "      <td>48883.000000</td>\n",
       "      <td>231029.000000</td>\n",
       "      <td>107.000000</td>\n",
       "      <td>17.000000</td>\n",
       "      <td>28.000000</td>\n",
       "      <td>17.000000</td>\n",
       "      <td>44.000000</td>\n",
       "      <td>0.001184</td>\n",
       "    </tr>\n",
       "    <tr>\n",
       "      <th>max</th>\n",
       "      <td>65177.000000</td>\n",
       "      <td>255362.000000</td>\n",
       "      <td>9150.000000</td>\n",
       "      <td>1787.000000</td>\n",
       "      <td>2927.000000</td>\n",
       "      <td>1761.000000</td>\n",
       "      <td>2674.000000</td>\n",
       "      <td>0.035307</td>\n",
       "    </tr>\n",
       "  </tbody>\n",
       "</table>\n",
       "</div>"
      ],
      "text/plain": [
       "           OBJECTID       GID_ROAD    COUNT_LINE     data_2018     data_2019  \\\n",
       "count  65177.000000   65177.000000  65177.000000  65177.000000  65177.000000   \n",
       "mean   32589.000000  178834.981926    138.022401     24.114396     39.441413   \n",
       "std    18815.123584   68036.420495    374.658794     70.162878    114.920825   \n",
       "min        1.000000    3512.000000      1.000000      0.000000      0.000000   \n",
       "25%    16295.000000  148173.000000      8.000000      1.000000      1.000000   \n",
       "50%    32589.000000  201989.000000     29.000000      4.000000      6.000000   \n",
       "75%    48883.000000  231029.000000    107.000000     17.000000     28.000000   \n",
       "max    65177.000000  255362.000000   9150.000000   1787.000000   2927.000000   \n",
       "\n",
       "          data_2020     data_2021  SHAPE_Length  \n",
       "count  65177.000000  65177.000000  65177.000000  \n",
       "mean      23.777728     50.619574      0.001055  \n",
       "std       69.144389    127.073586      0.001536  \n",
       "min        0.000000      0.000000      0.000001  \n",
       "25%        1.000000      3.000000      0.000250  \n",
       "50%        4.000000     12.000000      0.000550  \n",
       "75%       17.000000     44.000000      0.001184  \n",
       "max     1761.000000   2674.000000      0.035307  "
      ]
     },
     "metadata": {},
     "output_type": "display_data"
    }
   ],
   "source": [
    "display(df.head())\n",
    "display(f\"Shape: {df.shape}\")\n",
    "display(\"Columns:\", df.columns)\n",
    "display(df.describe())"
   ]
  },
  {
   "cell_type": "code",
   "execution_count": 4,
   "metadata": {
    "pycharm": {
     "name": "#%%\n"
    }
   },
   "outputs": [
    {
     "data": {
      "text/plain": [
       "<AxesSubplot:>"
      ]
     },
     "execution_count": 4,
     "metadata": {},
     "output_type": "execute_result"
    },
    {
     "data": {
      "image/png": "[encoded data removed]",
      "text/plain": [
       "<Figure size 640x480 with 2 Axes>"
      ]
     },
     "metadata": {},
     "output_type": "display_data"
    }
   ],
   "source": [
    "corr_matrix = df[['data_2018', 'data_2019', 'data_2020', 'data_2021']].corr()\n",
    "sns.heatmap(corr_matrix)"
   ]
  },
  {
   "cell_type": "code",
   "execution_count": 5,
   "metadata": {
    "pycharm": {
     "name": "#%%\n"
    }
   },
   "outputs": [
    {
     "data": {
      "text/plain": [
       "True"
      ]
     },
     "execution_count": 5,
     "metadata": {},
     "output_type": "execute_result"
    }
   ],
   "source": [
    "len(df['GID_ROAD'].unique()) == len(df['GID_ROAD'])"
   ]
  }
 ],
 "metadata": {
  "kernelspec": {
   "display_name": "Python 3.10.4 64-bit",
   "language": "python",
   "name": "python3"
  },
  "language_info": {
   "codemirror_mode": {
    "name": "ipython",
    "version": 3
   },
   "file_extension": ".py",
   "mimetype": "text/x-python",
   "name": "python",
   "nbconvert_exporter": "python",
   "pygments_lexer": "ipython3",
   "version": "3.10.6"
  },
  "orig_nbformat": 4,
  "vscode": {
   "interpreter": {
    "hash": "916dbcbb3f70747c44a77c7bcd40155683ae19c65e1c03b4aa3499c5328201f1"
   }
  }
 },
 "nbformat": 4,
 "nbformat_minor": 2
}
